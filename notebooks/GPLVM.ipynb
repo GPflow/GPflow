{
 "cells": [
  {
   "cell_type": "markdown",
   "metadata": {},
   "source": [
    "Visualising high dimensional spaces using Bayesian GPLVM\n",
    "--\n",
    "*Alexis Boukouvalas, June 2016*\n",
    "\n",
    " - Sample from a periodic kernel\n",
    " - Visualise the space using Baysian GPLVM"
   ]
  },
  {
   "cell_type": "code",
   "execution_count": 52,
   "metadata": {
    "collapsed": false
   },
   "outputs": [],
   "source": [
    "import matplotlib\n",
    "from matplotlib import pyplot as plt\n",
    "matplotlib.rcParams['figure.figsize'] = (12,6)\n",
    "matplotlib.style.use('ggplot')\n",
    "%matplotlib inline\n",
    "import GPflow\n",
    "import numpy as np\n",
    "import tensorflow as tf\n",
    "np.random.seed(0)"
   ]
  },
  {
   "cell_type": "code",
   "execution_count": 53,
   "metadata": {
    "collapsed": false
   },
   "outputs": [],
   "source": [
    "Q = 2 # latent dimension\n",
    "D = 5 # true dimension\n",
    "N = 10\n",
    "lengthscale = 1.5\n",
    "variance = 1.3\n",
    "rng = np.random.RandomState(1)\n",
    "X_data1 = rng.multivariate_normal(np.zeros(D), 0.1*np.eye(D), N)\n",
    "X_data2 = rng.multivariate_normal(2*np.ones(D), 1*np.eye(D), N)\n",
    "X_data  = np.vstack([X_data1,X_data2])\n",
    "idx = np.vstack([np.ones((N,1)), 2*np.ones((N,1))])\n",
    "kernel = GPflow.kernels.RBF(Q, variance=variance, lengthscales=lengthscale)"
   ]
  },
  {
   "cell_type": "code",
   "execution_count": 54,
   "metadata": {
    "collapsed": false
   },
   "outputs": [],
   "source": [
    "K = kernel.compute_K(X_data, X_data)\n",
    "\n",
    "L = np.linalg.cholesky(K + np.eye(K.shape[0])*0.01)\n",
    "Y = L.dot(np.random.randn(L.shape[0],D))"
   ]
  },
  {
   "cell_type": "code",
   "execution_count": 55,
   "metadata": {
    "collapsed": false
   },
   "outputs": [
    {
     "data": {
      "text/plain": [
       "(20, 5)"
      ]
     },
     "execution_count": 55,
     "metadata": {},
     "output_type": "execute_result"
    }
   ],
   "source": [
    "Y.shape"
   ]
  },
  {
   "cell_type": "code",
   "execution_count": 56,
   "metadata": {
    "collapsed": false,
    "scrolled": true
   },
   "outputs": [
    {
     "data": {
      "text/plain": [
       "<matplotlib.collections.PathCollection at 0x7f56cc9b4d90>"
      ]
     },
     "execution_count": 56,
     "metadata": {},
     "output_type": "execute_result"
    },
    {
     "data": {
      "image/png": "[encoded data removed]",
      "text/plain": [
       "<matplotlib.figure.Figure at 0x7f56cc70b650>"
      ]
     },
     "metadata": {},
     "output_type": "display_data"
    }
   ],
   "source": [
    "plt.scatter(X_data[:,0], X_data[:,1], 100, idx, lw=2, cmap=plt.cm.viridis)"
   ]
  },
  {
   "cell_type": "code",
   "execution_count": 57,
   "metadata": {
    "collapsed": false
   },
   "outputs": [
    {
     "name": "stdout",
     "output_type": "stream",
     "text": [
      "(20, 2)\n"
     ]
    },
    {
     "data": {
      "text/plain": [
       "<matplotlib.collections.PathCollection at 0x7f56ca3f5390>"
      ]
     },
     "execution_count": 57,
     "metadata": {},
     "output_type": "execute_result"
    },
    {
     "data": {
      "image/png": "[encoded data removed]",
      "text/plain": [
       "<matplotlib.figure.Figure at 0x7f56cc70b490>"
      ]
     },
     "metadata": {},
     "output_type": "display_data"
    }
   ],
   "source": [
    "from sklearn.decomposition import PCA\n",
    "pca = PCA(n_components=Q)\n",
    "XPCA = pca.fit_transform(Y)\n",
    "print XPCA.shape\n",
    "plt.scatter(XPCA[:,0], XPCA[:,1], 100, idx, lw=2, cmap=plt.cm.viridis)"
   ]
  },
  {
   "cell_type": "code",
   "execution_count": 58,
   "metadata": {
    "collapsed": true
   },
   "outputs": [],
   "source": [
    "from GPflow import gplvm"
   ]
  },
  {
   "cell_type": "code",
   "execution_count": 59,
   "metadata": {
    "collapsed": false
   },
   "outputs": [
    {
     "name": "stdout",
     "output_type": "stream",
     "text": [
      "[[-0.447  1.225]\n",
      " [ 0.403  0.594]\n",
      " [-1.095  0.169]\n",
      " [ 0.741 -0.954]\n",
      " [-0.266  0.033]\n",
      " [-1.373  0.315]\n",
      " [ 0.846 -0.86 ]\n",
      " [ 0.351 -1.312]\n",
      " [-0.039 -1.616]\n",
      " [ 1.121  0.409]\n",
      " [-0.025 -0.775]\n",
      " [ 1.274  1.967]\n",
      " [-1.858  1.236]\n",
      " [ 1.628  0.338]\n",
      " [-1.199  0.863]\n",
      " [-0.181 -0.604]\n",
      " [-1.23   0.551]\n",
      " [ 0.793 -0.624]\n",
      " [ 0.521 -1.144]\n",
      " [ 0.802  0.047]]\n",
      "compiling tensorflow function...\n",
      "done\n",
      "optimization terminated, setting model state\n",
      "[[-1.914 -5.875]\n",
      " [-2.001 -3.434]\n",
      " [-2.106 -6.051]\n",
      " [-1.895 -5.223]\n",
      " [-2.62  -4.301]\n",
      " [-2.325 -5.504]\n",
      " [-2.198 -5.19 ]\n",
      " [-2.178 -5.905]\n",
      " [-1.902 -5.802]\n",
      " [-2.326 -4.877]\n",
      " [-0.715  1.258]\n",
      " [-0.447  1.97 ]\n",
      " [-1.455  3.765]\n",
      " [-1.041  3.51 ]\n",
      " [-3.452 -0.084]\n",
      " [-3.462  0.306]\n",
      " [-2.296  2.036]\n",
      " [-1.304  0.455]\n",
      " [ 0.523 -0.214]\n",
      " [-1.555  1.269]]\n"
     ]
    },
    {
     "data": {
      "image/png": "[encoded data removed]",
      "text/plain": [
       "<matplotlib.figure.Figure at 0x7f56ca3f2110>"
      ]
     },
     "metadata": {},
     "output_type": "display_data"
    }
   ],
   "source": [
    "XInitGPLVM = rng.multivariate_normal(np.zeros(Q), np.eye(Q), 2*N)\n",
    "\n",
    "np.set_printoptions(3)\n",
    "print XInitGPLVM\n",
    "fig=plt.figure\n",
    "plt.scatter(XInitGPLVM[:,0], XInitGPLVM[:,1], 100, idx, lw=2, cmap=plt.cm.viridis)\n",
    "plt.title('initialisation')\n",
    "\n",
    "# You could implement a standard GPLVM, and show that it recovers PCA when the kernel is linear\n",
    "m = GPflow.gplvm.GPLVM(Y=Y, Q=Q, kern=GPflow.kernels.Linear(2), XInit=XInitGPLVM)\n",
    "\n",
    "m.optimize()\n",
    "\n",
    "print m.X.value"
   ]
  },
  {
   "cell_type": "code",
   "execution_count": 74,
   "metadata": {
    "collapsed": false,
    "scrolled": true
   },
   "outputs": [],
   "source": [
    "np.set_printoptions(precision=2)\n",
    "X=np.vstack([m.X.value[:,1], -m.X.value[:,0]]).T\n",
    "XT= (X - X.min(0)) / (X.max(0) - X.min(0))\n",
    "XPCAT= (XPCA - XPCA.min(0)) / (XPCA.max(0) - XPCA.min(0))"
   ]
  },
  {
   "cell_type": "code",
   "execution_count": 87,
   "metadata": {
    "collapsed": false
   },
   "outputs": [
    {
     "name": "stdout",
     "output_type": "stream",
     "text": [
      "True\n"
     ]
    },
    {
     "data": {
      "image/png": "[encoded data removed]",
      "text/plain": [
       "<matplotlib.figure.Figure at 0x7f56cb37c6d0>"
      ]
     },
     "metadata": {},
     "output_type": "display_data"
    },
    {
     "data": {
      "image/png": "[encoded data removed]",
      "text/plain": [
       "<matplotlib.figure.Figure at 0x7f56cb260cd0>"
      ]
     },
     "metadata": {},
     "output_type": "display_data"
    }
   ],
   "source": [
    "fig=plt.figure()\n",
    "plt.scatter(XT[:,0], XT[:,1], 100, idx, lw=2, cmap=plt.cm.viridis)\n",
    "plt.title('GPLVM')\n",
    "fig=plt.figure()\n",
    "plt.scatter(XPCAT[:,0], XPCAT[:,1], 100, idx, lw=2, cmap=plt.cm.viridis)\n",
    "plt.title('PCA')\n",
    "print np.allclose(XT,XPCAT,atol=0.2)"
   ]
  },
  {
   "cell_type": "code",
   "execution_count": 17,
   "metadata": {
    "collapsed": false,
    "scrolled": true
   },
   "outputs": [
    {
     "name": "stdout",
     "output_type": "stream",
     "text": [
      "False\n",
      "False\n"
     ]
    }
   ],
   "source": [
    "print np.allclose(m.X.value, XPCA)\n",
    "print np.allclose(m.X.value[:,[1,0]], XPCA)"
   ]
  },
  {
   "cell_type": "code",
   "execution_count": 48,
   "metadata": {
    "collapsed": false
   },
   "outputs": [
    {
     "name": "stdout",
     "output_type": "stream",
     "text": [
      "compiling tensorflow function...\n",
      "done\n",
      "optimization terminated, setting model state\n",
      "compiling tensorflow function...\n",
      "done\n",
      "optimization terminated, setting model state\n"
     ]
    },
    {
     "data": {
      "text/plain": [
       "      fun: 13.58894872581009\n",
       " hess_inv: <11x11 LbfgsInvHessProduct with dtype=float64>\n",
       "      jac: array([  1.086e-04,  -8.101e-05,   8.200e-05,  -3.980e-06,   7.172e-05,\n",
       "        -2.383e-06,  -9.276e-05,  -1.919e-04,   1.493e-04,  -3.962e-05,\n",
       "        -1.404e-04])\n",
       "  message: 'CONVERGENCE: REL_REDUCTION_OF_F_<=_FACTR*EPSMCH'\n",
       "     nfev: 26\n",
       "      nit: 19\n",
       "   status: 0\n",
       "  success: True\n",
       "        x: array([ 0.91 , -1.713,  1.86 ,  0.966, -1.103,  1.528, -1.286,  1.119,\n",
       "       -1.514, -0.767, -3.091])"
      ]
     },
     "execution_count": 48,
     "metadata": {},
     "output_type": "execute_result"
    }
   ],
   "source": [
    "# You could set the variance of the BGPLVM to zero and show that it's the same as the GPLVM\n",
    "# BGPLVM with variance to 0 is same as GPLVM\n",
    "N = 10  # number of data points\n",
    "D = 1  # latent dimensions\n",
    "M = 5  # inducings points\n",
    "R = 2  # data dimension\n",
    "rng = np.random.RandomState(1)\n",
    "Y = rng.randn(N,R)\n",
    "Z = rng.rand(M,D)\n",
    "XInit = rng.rand(N, D)\n",
    "\n",
    "m = GPflow.gplvm.BayesianGPLVM(X_mean = XInit, \n",
    "            X_var=np.zeros((N,D)), Y=Y, kern=GPflow.kernels.RBF(D), Z=Z) # use 0 variance\n",
    "m.kern.fixed = True\n",
    "m.X_var.fixed = True\n",
    "m.optimize()\n",
    "mGPLVM = GPflow.gplvm.GPLVM(Y=Y, Q=D, kern=GPflow.kernels.RBF(D), XInit=XInit)\n",
    "mGPLVM.kern.fixed = True\n",
    "mGPLVM.optimize()"
   ]
  },
  {
   "cell_type": "code",
   "execution_count": 49,
   "metadata": {
    "collapsed": false
   },
   "outputs": [
    {
     "name": "stdout",
     "output_type": "stream",
     "text": [
      "[[ 0.91 ]\n",
      " [-1.713]\n",
      " [ 1.86 ]\n",
      " [ 0.966]\n",
      " [-1.103]\n",
      " [ 1.528]\n",
      " [-1.286]\n",
      " [ 1.119]\n",
      " [-1.514]\n",
      " [-0.767]]\n",
      "[[ 0.91 ]\n",
      " [-1.713]\n",
      " [ 1.86 ]\n",
      " [ 0.966]\n",
      " [-1.103]\n",
      " [ 1.528]\n",
      " [-1.286]\n",
      " [ 1.119]\n",
      " [-1.514]\n",
      " [-0.767]]\n",
      "[[ 0.91 ]\n",
      " [-1.713]\n",
      " [ 1.86 ]\n",
      " [ 0.966]\n",
      " [-1.103]\n",
      " [ 1.528]\n",
      " [-1.286]\n",
      " [ 1.119]\n",
      " [-1.514]\n",
      " [-0.767]]\n",
      "True\n"
     ]
    }
   ],
   "source": [
    "np.set_printoptions(3)\n",
    "print XInit\n",
    "print m.X_mean.value\n",
    "print mGPLVM.X.value\n",
    "print np.allclose(m.X_mean.value, mGPLVM.X.value)\n"
   ]
  },
  {
   "cell_type": "code",
   "execution_count": null,
   "metadata": {
    "collapsed": false,
    "scrolled": true
   },
   "outputs": [],
   "source": [
    "# Bayesian GPLVM model\n",
    "from GPflow import gplvm\n",
    "\n",
    "# Create 49 inducings points on a grid\n",
    "fGrid = False\n",
    "if(fGrid):\n",
    "    Z1, Z2 = np.mgrid[X_data.min():X_data.max():7j, X_data.min():X_data.max():7j]\n",
    "    Z = np.vstack([Z1.ravel(), Z2.ravel()]).T\n",
    "else:\n",
    "    Z = rng.multivariate_normal(np.zeros(Q), np.eye(Q), 10)\n",
    "\n",
    "plt.scatter(Z[:,0], Z[:,1], 100, lw=2, cmap=plt.cm.viridis)\n",
    "\n",
    "print Z.shape\n",
    "\n",
    "# just optimize X\n",
    "kernel.variance.fixed = True\n",
    "kernel.lengthscales.fixed = True\n",
    "\n",
    "# m = GPflow.gplvm.BayesianGPLVM(X_mean = np.zeros((2*N,Q)), \n",
    "#             X_var=np.ones((2*N,Q)), Y=Y, kern=kernel, Z=Z)\n",
    "\n",
    "m = GPflow.gplvm.BayesianGPLVM(X_mean = XPCA.copy(),\n",
    "                X_var=2*np.ones((2*N,Q)), Y=Y, kern=kernel, Z=Z)\n",
    "m.likelihood.variance = 0.01\n",
    "m.likelihood.fixed = True\n",
    "m.X_var = 0.01\n",
    "\n",
    "\n",
    "m.optimize(max_iters = 500, display=1)"
   ]
  },
  {
   "cell_type": "code",
   "execution_count": null,
   "metadata": {
    "collapsed": false
   },
   "outputs": [],
   "source": [
    "Xinf = m.X_mean.value\n",
    "plt.scatter(Xinf[:,0], Xinf[:,1], 100, idx, lw=2, cmap=plt.cm.viridis)"
   ]
  },
  {
   "cell_type": "code",
   "execution_count": null,
   "metadata": {
    "collapsed": false
   },
   "outputs": [],
   "source": [
    "plt.scatter(Xinit[:,0], Xinit[:,1], 100, idx, lw=2, cmap=plt.cm.viridis)"
   ]
  },
  {
   "cell_type": "code",
   "execution_count": null,
   "metadata": {
    "collapsed": false
   },
   "outputs": [],
   "source": [
    "plt.scatter(X_data[:,0], X_data[:,1], 100, idx, lw=2, cmap=plt.cm.viridis)"
   ]
  },
  {
   "cell_type": "code",
   "execution_count": null,
   "metadata": {
    "collapsed": false
   },
   "outputs": [],
   "source": [
    "# Has GPLVM done anything or is it stuck in initialisation?\n",
    "np.allclose(Xinf,Xinit)"
   ]
  },
  {
   "cell_type": "code",
   "execution_count": null,
   "metadata": {
    "collapsed": false,
    "scrolled": true
   },
   "outputs": [],
   "source": [
    "print m.X_var"
   ]
  },
  {
   "cell_type": "code",
   "execution_count": null,
   "metadata": {
    "collapsed": true
   },
   "outputs": [],
   "source": []
  },
  {
   "cell_type": "code",
   "execution_count": null,
   "metadata": {
    "collapsed": true
   },
   "outputs": [],
   "source": []
  }
 ],
 "metadata": {
  "kernelspec": {
   "display_name": "Python 2",
   "language": "python",
   "name": "python2"
  },
  "language_info": {
   "codemirror_mode": {
    "name": "ipython",
    "version": 2
   },
   "file_extension": ".py",
   "mimetype": "text/x-python",
   "name": "python",
   "nbconvert_exporter": "python",
   "pygments_lexer": "ipython2",
   "version": "2.7.11"
  }
 },
 "nbformat": 4,
 "nbformat_minor": 0
}
