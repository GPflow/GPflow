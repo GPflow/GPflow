{
 "cells": [
  {
   "cell_type": "markdown",
   "metadata": {},
   "source": [
    "GP prediction with uncertain inputs\n",
    "---\n",
    "*Nicolas Knudde & Joachim Van der Herten 2016*\n",
    "\n",
    "Here are some implementation notes on the GP prediction with uncertain inputs in the variational framework in `GPflow.gplvm.Bayesian GP-LVM`. The reference for this work is [Girard 2003, *Gaussian process priors with uncertain inputs—application to multiple-step ahead time series forecasting.*](http://www.dcs.gla.ac.uk/~rod/publications/GirRasMur02-TR-2002-119.pdf); in the formulation of [Damianou 2011, *Variational Gaussian Process Dynamical Systems*](https://arxiv.org/abs/1107.4985); these notes serve to map the conclusions of that paper to the implementation in GPflow. The reference work simply uses the properties of conditional expecations and covariances.\n",
    "\n",
    "Two things are not covered by this notebook: prior mean functions and the extension to multiple independent outputs. These extensions are straightforward in theory but we have taken some care in the code to ensure that they are handled efficiently. "
   ]
  },
  {
   "cell_type": "markdown",
   "metadata": {},
   "source": [
    "### Prediction of mean and variance\n",
    "The main result is that in the case of an uncertain test point $\\boldsymbol x_\\star$, even though the output distribution is not Gaussian, it is possible to calculate the mean and covariance of the output if the kernel expectations can be. The resulting formula for the mean is:\n",
    "\n",
    "$$ \\boldsymbol \\mu_\\star = \\boldsymbol \\Psi_{\\star}  \\boldsymbol \\chi $$\n",
    "\n",
    ", and for the covariance:\n",
    "\n",
    "$$ \\boldsymbol \\Sigma_\\star = \\boldsymbol \\chi^T (\\boldsymbol \\Phi_{\\star} - \\boldsymbol \\Psi_{\\star}^T \\boldsymbol \\Psi_{\\star}) \\boldsymbol \\chi + \\xi_\\star \\boldsymbol I - \\text{tr}((\\boldsymbol K_{uu}^{-1} - (\\boldsymbol K_{uu}+\\beta \\boldsymbol \\Phi)^{-1}) \\boldsymbol \\Phi_\\star) \\boldsymbol I$$\n",
    "\n",
    "with $\\boldsymbol \\chi = \\beta (\\boldsymbol K_{uu}+\\beta \\boldsymbol \\Phi)^{-1} \\boldsymbol \\Psi^T \\boldsymbol Y$, $\\mathbf \\Phi_{\\star} \\in \\mathbb{R}^{M \\times M}$ and $\\mathbf \\Psi_{\\star} \\in \\mathbb{R}^{1 \\times M}$.\n",
    "\n",
    "In fact the formula for the mean is exactly the same as the precition formula with certain input for the GP-LVM but with kernel expectations, but the derivation will be repeated here."
   ]
  },
  {
   "cell_type": "markdown",
   "metadata": {},
   "source": [
    "### Calculation of mean\n",
    "\\begin{align*}\n",
    "\\boldsymbol L &= \\text{chol}( \\boldsymbol K_{uu} ) \\\\\n",
    "\\boldsymbol A &= \\sqrt{\\beta} \\boldsymbol L^{-1} \\boldsymbol \\Psi^T\\\\\n",
    "\\boldsymbol {tmp} &= \\boldsymbol L^{-1}\\boldsymbol \\Phi \\\\\n",
    "\\boldsymbol {AAT} &= \\beta \\boldsymbol L^{-1} \\boldsymbol {tmp} ^T \\\\ &= \\beta \\boldsymbol L^{-1}  \\boldsymbol \\Phi \\boldsymbol L^{-T} \\\\\n",
    "\\boldsymbol B &=  \\boldsymbol {AAT} + \\boldsymbol I \\\\ &= \\beta \\boldsymbol L^{-1} \\boldsymbol {tmp} ^T  \\\\&= \\beta \\boldsymbol L^{-1}  \\boldsymbol \\Phi \\boldsymbol L^{-T} + \\boldsymbol I \\\\\n",
    "\\boldsymbol {LB} &= \\text{chol}( \\boldsymbol B ) \\\\\n",
    "\\boldsymbol {c} &=\\sqrt{\\beta} \\boldsymbol {LB}^{-1} \\boldsymbol A \\boldsymbol Y \\\\\n",
    "\\boldsymbol{tmp1} &= \\boldsymbol L^{-1} \\boldsymbol \\Psi_\\star^T \\\\\n",
    "\\boldsymbol{tmp2} &= \\boldsymbol {LB}^{-1} \\boldsymbol {tmp1} \\\\\n",
    " \\boldsymbol{\\mu}_\\star &= \\boldsymbol{tmp2}^T \\boldsymbol c \\\\\n",
    "&= \\sqrt{\\beta} \\boldsymbol {tmp1}^T \\boldsymbol {LB}^{-T} \\boldsymbol {LB}^{-1} \\boldsymbol A \\boldsymbol Y \\\\\n",
    "&= \\beta \\boldsymbol \\Psi_\\star \\boldsymbol L^{-T} \\boldsymbol {LB}^{-T} \\boldsymbol {LB}^{-1} \\boldsymbol L^{-1} \\boldsymbol \\Psi^T \\boldsymbol Y \\\\ \n",
    "&= \\beta \\boldsymbol \\Psi_\\star \\boldsymbol L^{-T} \\boldsymbol {(\\boldsymbol L^{-1}  \\boldsymbol \\Phi \\boldsymbol L^{-T} + \\boldsymbol I)}^{-1} \\boldsymbol L^{-1} \\boldsymbol \\Psi^T \\boldsymbol Y \\\\ \n",
    "&= \\beta \\boldsymbol \\Psi_\\star  \\boldsymbol {( \\boldsymbol \\beta \\Phi + \\boldsymbol K_{uu})}^{-1} \\boldsymbol \\Psi^T \\boldsymbol Y\\end{align*}"
   ]
  },
  {
   "cell_type": "markdown",
   "metadata": {},
   "source": [
    "### Calculation of covariance\n",
    "\\begin{align*}\n",
    "\\boldsymbol {tmp3} &= \\boldsymbol{LB}^{-1} \\boldsymbol L^{-1} \\boldsymbol \\Psi_\\star^T \\\\\n",
    "\\boldsymbol {tmp4} &= \\boldsymbol {tmp3} \\boldsymbol {tmp3}^T \\\\\n",
    "&= \\boldsymbol{LB}^{-1} \\boldsymbol L^{-1} \\boldsymbol \\Psi_\\star^T \\boldsymbol \\Psi_\\star  \\boldsymbol L^{-T} \\boldsymbol{LB}^{-T} \\\\\n",
    "\\boldsymbol {tmp5} &= \\boldsymbol L^{-1} \\boldsymbol{\\Phi}_\\star \\boldsymbol L^{-T} \\\\\n",
    "\\boldsymbol {tmp6} &= \\boldsymbol {LB}^{-1} \\boldsymbol {L}^{-1} \\boldsymbol{\\Phi}_\\star \\boldsymbol L^{-T} \\boldsymbol {LB}^{-T} \\\\\n",
    "TT &= \\text{tr}(\\boldsymbol {tmp5} - \\boldsymbol {tmp6}) \\\\\n",
    "&= \\text{tr}(\\boldsymbol L^{-T} \\boldsymbol L^{-1}\\boldsymbol{\\Phi}_\\star - \\boldsymbol L^{-T} \\boldsymbol {LB}^{-T}\\boldsymbol {LB}^{-1} \\boldsymbol {L}^{-1} \\boldsymbol{\\Phi}_\\star)\\\\\n",
    "&=\\text{tr}((\\boldsymbol K_{uu}^{-1} - (\\boldsymbol K_{uu}+\\beta \\boldsymbol \\Phi)^{-1}) \\boldsymbol \\Phi_\\star)\\\\\n",
    "\\boldsymbol{diagonals} &= (\\xi_\\star - TT) \\boldsymbol{I} \\\\\n",
    "\\boldsymbol{covar1} &= \\boldsymbol{c}^T (\\boldsymbol {tmp6}-\\boldsymbol {tmp4}) \\boldsymbol{c} \\\\\n",
    "&= \\beta \\boldsymbol{Y}^T  \\boldsymbol{A}^T \\boldsymbol{LB}^{-T} \\boldsymbol{LB}^{-1} \\boldsymbol L^{-1} (\\boldsymbol{\\Phi}_\\star - \\boldsymbol \\Psi_\\star^T \\boldsymbol \\Psi_\\star)  \\boldsymbol L^{-T} \\boldsymbol{LB}^{-T} \\boldsymbol {LB}^{-1} \\boldsymbol A \\boldsymbol Y \\\\ \n",
    "&= \\boldsymbol \\chi^T (\\boldsymbol \\Phi_{\\star} - \\boldsymbol \\Psi_{\\star}^T \\boldsymbol \\Psi_{\\star}) \\boldsymbol \\chi \\\\\n",
    "\\boldsymbol \\Sigma_\\star &=\\boldsymbol{diagonals} +\\boldsymbol{covar1} \\\\\n",
    "&= \\boldsymbol \\chi^T (\\boldsymbol \\Phi_{\\star} - \\boldsymbol \\Psi_{\\star}^T \\boldsymbol \\Psi_{\\star}) \\boldsymbol \\chi + \\xi_\\star \\boldsymbol I - \\text{tr}((\\boldsymbol K_{uu}^{-1} - (\\boldsymbol K_{uu}+\\beta \\boldsymbol \\Phi)^{-1}) \\boldsymbol \\Phi_\\star) \\boldsymbol{I}\n",
    "\\end{align*}"
   ]
  },
  {
   "cell_type": "code",
   "execution_count": null,
   "metadata": {
    "collapsed": true
   },
   "outputs": [],
   "source": []
  }
 ],
 "metadata": {
  "anaconda-cloud": {},
  "kernelspec": {
   "display_name": "Python [conda env:py27]",
   "language": "python",
   "name": "conda-env-py27-py"
  },
  "language_info": {
   "codemirror_mode": {
    "name": "ipython",
    "version": 2
   },
   "file_extension": ".py",
   "mimetype": "text/x-python",
   "name": "python",
   "nbconvert_exporter": "python",
   "pygments_lexer": "ipython2",
   "version": "2.7.12"
  }
 },
 "nbformat": 4,
 "nbformat_minor": 0
}
