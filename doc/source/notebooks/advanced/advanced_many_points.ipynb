{
 "cells": [
  {
   "cell_type": "markdown",
   "metadata": {},
   "source": [
    "More details on models with many observation points\n",
    "--\n",
    "\n",
    "see SGPR.ipynb. I guess it would also be interesting to cover mini-batching here..."
   ]
  }
 ],
 "metadata": {
  "anaconda-cloud": {},
  "kernelspec": {
   "display_name": "Python 3",
   "language": "python",
   "name": "python3"
  },
  "language_info": {
   "codemirror_mode": {
    "name": "ipython",
    "version": 3
   },
   "file_extension": ".py",
   "mimetype": "text/x-python",
   "name": "python",
   "nbconvert_exporter": "python",
   "pygments_lexer": "ipython3",
   "version": "3.6.5"
  }
 },
 "nbformat": 4,
 "nbformat_minor": 2
}
