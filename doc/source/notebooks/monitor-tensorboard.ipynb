{
 "cells": [
  {
   "cell_type": "code",
   "execution_count": 1,
   "metadata": {
    "scrolled": false
   },
   "outputs": [],
   "source": [
    "%matplotlib inline\n",
    "import itertools\n",
    "import os\n",
    "os.environ['CUDA_VISIBLE_DEVICES']=\"\"\n",
    "import numpy as np\n",
    "import gpflow\n",
    "import gpflow.training.monitor as mon\n",
    "import numbers\n",
    "import matplotlib.pyplot as plt\n",
    "import tensorflow as tf"
   ]
  },
  {
   "cell_type": "markdown",
   "metadata": {},
   "source": [
    "# Demo: `gpflow.training.monitor`\n",
    "In this notebook we'll demo how to use `gpflow.training.monitor` for logging the optimisation of a GPflow model.\n",
    "\n",
    "## Creating the GPflow model\n",
    "We first generate some random data and create a GPflow model.\n",
    "\n",
    "Under the hood, GPflow gives a unique name to each model which is used to name the Variables it creates in the TensorFlow graph containing a random identifier. This is useful in interactive sessions, where people may create a few models, to prevent variables with the same name conflicting. However, when loading the model, we need to make sure that the names of all the variables are exactly the same as in the checkpoint. This is why we pass name=\"SVGP\" to the model constructor, and why we use gpflow.defer_build()."
   ]
  },
  {
   "cell_type": "code",
   "execution_count": 2,
   "metadata": {},
   "outputs": [],
   "source": [
    "np.random.seed(0)\n",
    "X = np.random.rand(10000, 1) * 10\n",
    "Y = np.sin(X) + np.random.randn(*X.shape)\n",
    "Xt = np.random.rand(10000, 1) * 10\n",
    "Yt = np.sin(Xt) + np.random.randn(*Xt.shape)\n",
    "\n",
    "with gpflow.defer_build():\n",
    "    m = gpflow.models.SVGP(X, Y, gpflow.kernels.RBF(1), gpflow.likelihoods.Gaussian(),\n",
    "                           Z=np.linspace(0, 10, 5)[:, None],\n",
    "                           minibatch_size=100, name=\"SVGP\")\n",
    "    m.likelihood.variance = 0.01\n",
    "m.compile()"
   ]
  },
  {
   "cell_type": "markdown",
   "metadata": {},
   "source": [
    "Let's compute log likelihood before the optimisation"
   ]
  },
  {
   "cell_type": "code",
   "execution_count": 3,
   "metadata": {},
   "outputs": [
    {
     "name": "stdout",
     "output_type": "stream",
     "text": [
      "LML before the optimisation: -1271605.621944\n"
     ]
    }
   ],
   "source": [
    "print('LML before the optimisation: %f' % m.compute_log_likelihood())"
   ]
  },
  {
   "cell_type": "markdown",
   "metadata": {},
   "source": [
    "We will be using a TensorFlow optimiser. All TensorFlow optimisers have a support for `global_step` variable. Its purpose is to track how many optimisation steps have occurred. It is useful to keep this in a TensorFlow variable as this allows it to be restored together with all the parameters of the model.\n",
    "\n",
    "The code below creates this variable using a monitor's helper function. It is important to create it before building the monitor in case the monitor includes a checkpoint task. This is because the checkpoint internally uses the TensorFlow Saver which creates a list of variables to save. Therefore all variables expected to be saved by the checkpoint task should exist by the time the task is created."
   ]
  },
  {
   "cell_type": "code",
   "execution_count": 4,
   "metadata": {},
   "outputs": [],
   "source": [
    "session = m.enquire_session()\n",
    "global_step = mon.create_global_step(session)"
   ]
  },
  {
   "cell_type": "markdown",
   "metadata": {},
   "source": [
    "## Construct the monitor\n",
    "\n",
    "Next we need to construct the monitor. `gpflow.training.monitor` provides classes that are building blocks for the monitor. Essengially, a monitor is a function that is provided as a callback to an optimiser. It consists of a number of tasks that may be executed at each step, subject to their running condition.\n",
    "\n",
    "In this example, we want to:\n",
    "- log certain scalar parameters in TensorBoard,\n",
    "- log the full optimisation objective (log marginal likelihood bound) periodically, even though we optimise with minibatches,\n",
    "- store a backup of the optimisation process periodically,\n",
    "- log performance for a test set periodically.\n",
    "\n",
    "We will define these tasks as follows:"
   ]
  },
  {
   "cell_type": "code",
   "execution_count": 6,
   "metadata": {},
   "outputs": [],
   "source": [
    "print_task = mon.PrintTimingsTask().with_name('print')\\\n",
    "    .with_condition(mon.PeriodicIterationCondition(10))\\\n",
    "    .with_exit_condition(True)\n",
    "\n",
    "sleep_task = mon.SleepTask(0.01).with_name('sleep').with_name('sleep')\n",
    "\n",
    "saver_task = mon.CheckpointTask('./monitor-saves').with_name('saver')\\\n",
    "    .with_condition(mon.PeriodicIterationCondition(10))\\\n",
    "    .with_exit_condition(True)\n",
    "\n",
    "model_tboard_task = mon.ModelToTensorBoardTask('./model-tensorboard', m).with_name('model_tboard')\\\n",
    "    .with_condition(mon.PeriodicIterationCondition(10))\\\n",
    "    .with_exit_condition(True)\n",
    "\n",
    "lml_tboard_task = mon.LmlToTensorBoardTask('./model-tensorboard', m).with_name('lml_tboard')\\\n",
    "    .with_condition(mon.PeriodicIterationCondition(100))\\\n",
    "    .with_exit_condition(True)"
   ]
  },
  {
   "cell_type": "markdown",
   "metadata": {},
   "source": [
    "As the above code shows, each task can be assigned a name and running conditions. The name will be shown in the task timing summary.\n",
    "\n",
    "There are two different types of running conditions: `with_condition` controls execution of the task at each iteration in the optimisation loop. `with_exit_condition` is a simple boolean flag indicating that the task should also run at the end of optimisation.\n",
    "In this example we want to run our tasks periodically, at every iteration or every 10th or 100th iteration.\n"
   ]
  },
  {
   "cell_type": "markdown",
   "metadata": {},
   "source": [
    "## Custom tasks\n",
    "We may also want to perfom certain tasks that do not have pre-defined `Task` classes. For example, we may want to compute the performance on a test set. Here we create such a class by extending `BaseTensorBoardTask` to log the testing benchmarks in addition to all the scalar parameters."
   ]
  },
  {
   "cell_type": "code",
   "execution_count": 7,
   "metadata": {},
   "outputs": [],
   "source": [
    "class CustomTensorBoardTask(mon.BaseTensorBoardTask):\n",
    "    def __init__(self, event_path, model, Xt, Yt):\n",
    "        super().__init__(event_path, model)\n",
    "        self.Xt = Xt\n",
    "        self.Yt = Yt\n",
    "        self._full_test_err = tf.placeholder(gpflow.settings.tf_float, shape=())\n",
    "        self._full_test_nlpp = tf.placeholder(gpflow.settings.tf_float, shape=())\n",
    "        self._summary = tf.summary.merge([tf.summary.scalar(\"test_rmse\", self._full_test_err),\n",
    "                                         tf.summary.scalar(\"test_nlpp\", self._full_test_nlpp)])\n",
    "    \n",
    "    def run(self, context: mon.MonitorContext, *args, **kwargs) -> None:\n",
    "        minibatch_size = 100\n",
    "        preds = np.vstack([self.model.predict_y(Xt[mb * minibatch_size:(mb + 1) * minibatch_size, :])[0]\n",
    "                            for mb in range(-(-len(Xt) // minibatch_size))])\n",
    "        test_err = np.mean((Yt - preds) ** 2.0)**0.5\n",
    "        self._eval_summary(context, {self._full_test_err: test_err, self._full_test_nlpp: 0.0})\n",
    "\n",
    "        \n",
    "custom_tboard_task = CustomTensorBoardTask('./model-tensorboard', m, Xt, Yt).with_name('custom_tboard')\\\n",
    "    .with_condition(mon.PeriodicIterationCondition(100))\\\n",
    "    .with_exit_condition(True)"
   ]
  },
  {
   "cell_type": "markdown",
   "metadata": {},
   "source": [
    "Now we can put all these tasks into a monitor."
   ]
  },
  {
   "cell_type": "code",
   "execution_count": 8,
   "metadata": {},
   "outputs": [],
   "source": [
    "monitor_tasks = [print_task, model_tboard_task, lml_tboard_task, custom_tboard_task, saver_task, sleep_task]\n",
    "monitor = mon.Monitor(monitor_tasks, session, global_step)"
   ]
  },
  {
   "cell_type": "markdown",
   "metadata": {},
   "source": [
    "## Running the optimisation\n",
    "We finally get to running the optimisation.\n",
    "\n",
    "We may want to continue a previously run optimisation by resotring the TensorFlow graph from the latest checkpoint. Otherwise skip this step."
   ]
  },
  {
   "cell_type": "code",
   "execution_count": 9,
   "metadata": {
    "scrolled": false
   },
   "outputs": [],
   "source": [
    "if os.path.isdir('./monitor-saves'):\n",
    "    mon.restore_session(session, './monitor-saves')"
   ]
  },
  {
   "cell_type": "code",
   "execution_count": 10,
   "metadata": {
    "scrolled": true
   },
   "outputs": [
    {
     "name": "stdout",
     "output_type": "stream",
     "text": [
      "Iteration 10\ttotal itr.rate 13.16/s\trecent itr.rate 13.16/s\topt.step 10\ttotal opt.rate 14.94/s\trecent opt.rate 14.94/s\n",
      "Iteration 20\ttotal itr.rate 19.61/s\trecent itr.rate 38.46/s\topt.step 20\ttotal opt.rate 29.12/s\trecent opt.rate 575.34/s\n",
      "Iteration 30\ttotal itr.rate 24.39/s\trecent itr.rate 47.60/s\topt.step 30\ttotal opt.rate 42.83/s\trecent opt.rate 724.09/s\n",
      "Iteration 40\ttotal itr.rate 27.88/s\trecent itr.rate 48.92/s\topt.step 40\ttotal opt.rate 55.99/s\trecent opt.rate 721.23/s\n",
      "Iteration 50\ttotal itr.rate 29.43/s\trecent itr.rate 37.83/s\topt.step 50\ttotal opt.rate 68.82/s\trecent opt.rate 825.46/s\n",
      "Iteration 60\ttotal itr.rate 31.45/s\trecent itr.rate 47.94/s\topt.step 60\ttotal opt.rate 81.09/s\trecent opt.rate 744.45/s\n",
      "Iteration 70\ttotal itr.rate 33.19/s\trecent itr.rate 49.69/s\topt.step 70\ttotal opt.rate 92.86/s\trecent opt.rate 721.66/s\n",
      "Iteration 80\ttotal itr.rate 34.63/s\trecent itr.rate 49.66/s\topt.step 80\ttotal opt.rate 104.43/s\trecent opt.rate 816.60/s\n",
      "Iteration 90\ttotal itr.rate 35.74/s\trecent itr.rate 48.02/s\topt.step 90\ttotal opt.rate 114.78/s\trecent opt.rate 552.83/s\n"
     ]
    },
    {
     "name": "stderr",
     "output_type": "stream",
     "text": [
      " 30%|███       | 30/100 [00:00<00:00, 298.94it/s]"
     ]
    },
    {
     "name": "stdout",
     "output_type": "stream",
     "text": [
      "Iteration 100\ttotal itr.rate 36.64/s\trecent itr.rate 47.38/s\topt.step 100\ttotal opt.rate 124.19/s\trecent opt.rate 474.11/s\n"
     ]
    },
    {
     "name": "stderr",
     "output_type": "stream",
     "text": [
      "100%|██████████| 100/100 [00:00<00:00, 400.91it/s]\n"
     ]
    },
    {
     "name": "stdout",
     "output_type": "stream",
     "text": [
      "Iteration 110\ttotal itr.rate 31.42/s\trecent itr.rate 12.95/s\topt.step 110\ttotal opt.rate 133.61/s\trecent opt.rate 553.75/s\n",
      "Iteration 120\ttotal itr.rate 32.27/s\trecent itr.rate 45.97/s\topt.step 120\ttotal opt.rate 142.60/s\trecent opt.rate 548.34/s\n",
      "Iteration 130\ttotal itr.rate 33.00/s\trecent itr.rate 45.43/s\topt.step 130\ttotal opt.rate 151.31/s\trecent opt.rate 566.96/s\n",
      "Iteration 140\ttotal itr.rate 33.76/s\trecent itr.rate 48.11/s\topt.step 140\ttotal opt.rate 161.15/s\trecent opt.rate 1038.98/s\n",
      "Iteration 150\ttotal itr.rate 34.62/s\trecent itr.rate 53.92/s\topt.step 150\ttotal opt.rate 170.67/s\trecent opt.rate 989.90/s\n",
      "Iteration 160\ttotal itr.rate 35.34/s\trecent itr.rate 51.25/s\topt.step 160\ttotal opt.rate 179.62/s\trecent opt.rate 840.40/s\n",
      "Iteration 170\ttotal itr.rate 35.90/s\trecent itr.rate 48.23/s\topt.step 170\ttotal opt.rate 188.08/s\trecent opt.rate 764.97/s\n",
      "Iteration 180\ttotal itr.rate 36.40/s\trecent itr.rate 47.51/s\topt.step 180\ttotal opt.rate 196.34/s\trecent opt.rate 774.12/s\n",
      "Iteration 190\ttotal itr.rate 36.85/s\trecent itr.rate 47.42/s\topt.step 190\ttotal opt.rate 204.29/s\trecent opt.rate 752.33/s\n"
     ]
    },
    {
     "name": "stderr",
     "output_type": "stream",
     "text": [
      " 19%|█▉        | 19/100 [00:00<00:00, 183.54it/s]"
     ]
    },
    {
     "name": "stdout",
     "output_type": "stream",
     "text": [
      "Iteration 200\ttotal itr.rate 37.24/s\trecent itr.rate 46.79/s\topt.step 200\ttotal opt.rate 210.84/s\trecent opt.rate 539.18/s\n"
     ]
    },
    {
     "name": "stderr",
     "output_type": "stream",
     "text": [
      "100%|██████████| 100/100 [00:00<00:00, 258.96it/s]\n"
     ]
    },
    {
     "name": "stdout",
     "output_type": "stream",
     "text": [
      "Iteration 210\ttotal itr.rate 33.53/s\trecent itr.rate 11.20/s\topt.step 210\ttotal opt.rate 218.27/s\trecent opt.rate 740.86/s\n",
      "Iteration 220\ttotal itr.rate 33.95/s\trecent itr.rate 45.84/s\topt.step 220\ttotal opt.rate 223.52/s\trecent opt.rate 451.36/s\n",
      "Iteration 230\ttotal itr.rate 34.39/s\trecent itr.rate 48.05/s\topt.step 230\ttotal opt.rate 230.25/s\trecent opt.rate 683.13/s\n",
      "Iteration 240\ttotal itr.rate 34.73/s\trecent itr.rate 45.16/s\topt.step 240\ttotal opt.rate 236.06/s\trecent opt.rate 561.67/s\n",
      "Iteration 250\ttotal itr.rate 35.07/s\trecent itr.rate 45.86/s\topt.step 250\ttotal opt.rate 241.15/s\trecent opt.rate 500.44/s\n",
      "Iteration 260\ttotal itr.rate 35.44/s\trecent itr.rate 47.84/s\topt.step 260\ttotal opt.rate 247.60/s\trecent opt.rate 746.53/s\n",
      "Iteration 270\ttotal itr.rate 35.80/s\trecent itr.rate 48.83/s\topt.step 270\ttotal opt.rate 252.94/s\trecent opt.rate 575.52/s\n",
      "Iteration 280\ttotal itr.rate 36.13/s\trecent itr.rate 48.36/s\topt.step 280\ttotal opt.rate 259.39/s\trecent opt.rate 832.82/s\n",
      "Iteration 290\ttotal itr.rate 36.44/s\trecent itr.rate 47.78/s\topt.step 290\ttotal opt.rate 266.05/s\trecent opt.rate 945.68/s\n"
     ]
    },
    {
     "name": "stderr",
     "output_type": "stream",
     "text": [
      " 15%|█▌        | 15/100 [00:00<00:00, 144.31it/s]"
     ]
    },
    {
     "name": "stdout",
     "output_type": "stream",
     "text": [
      "Iteration 300\ttotal itr.rate 36.68/s\trecent itr.rate 45.16/s\topt.step 300\ttotal opt.rate 269.87/s\trecent opt.rate 463.23/s\n"
     ]
    },
    {
     "name": "stderr",
     "output_type": "stream",
     "text": [
      "100%|██████████| 100/100 [00:00<00:00, 216.74it/s]\n"
     ]
    },
    {
     "name": "stdout",
     "output_type": "stream",
     "text": [
      "Iteration 310\ttotal itr.rate 33.91/s\trecent itr.rate 10.38/s\topt.step 310\ttotal opt.rate 275.49/s\trecent opt.rate 732.39/s\n",
      "Iteration 320\ttotal itr.rate 34.21/s\trecent itr.rate 47.14/s\topt.step 320\ttotal opt.rate 280.80/s\trecent opt.rate 698.61/s\n",
      "Iteration 330\ttotal itr.rate 34.48/s\trecent itr.rate 46.68/s\topt.step 330\ttotal opt.rate 286.16/s\trecent opt.rate 736.03/s\n",
      "Iteration 340\ttotal itr.rate 34.77/s\trecent itr.rate 47.51/s\topt.step 340\ttotal opt.rate 291.45/s\trecent opt.rate 747.12/s\n",
      "Iteration 350\ttotal itr.rate 35.02/s\trecent itr.rate 46.73/s\topt.step 350\ttotal opt.rate 296.71/s\trecent opt.rate 766.42/s\n",
      "Iteration 360\ttotal itr.rate 35.28/s\trecent itr.rate 47.87/s\topt.step 360\ttotal opt.rate 301.52/s\trecent opt.rate 697.90/s\n",
      "Iteration 370\ttotal itr.rate 35.53/s\trecent itr.rate 47.67/s\topt.step 370\ttotal opt.rate 304.70/s\trecent opt.rate 490.92/s\n",
      "Iteration 380\ttotal itr.rate 35.84/s\trecent itr.rate 52.82/s\topt.step 380\ttotal opt.rate 309.38/s\trecent opt.rate 716.10/s\n",
      "Iteration 390\ttotal itr.rate 36.04/s\trecent itr.rate 45.55/s\topt.step 390\ttotal opt.rate 312.67/s\trecent opt.rate 524.98/s\n"
     ]
    },
    {
     "name": "stderr",
     "output_type": "stream",
     "text": [
      " 21%|██        | 21/100 [00:00<00:00, 207.75it/s]"
     ]
    },
    {
     "name": "stdout",
     "output_type": "stream",
     "text": [
      "Iteration 400\ttotal itr.rate 36.27/s\trecent itr.rate 48.10/s\topt.step 400\ttotal opt.rate 317.45/s\trecent opt.rate 785.52/s\n"
     ]
    },
    {
     "name": "stderr",
     "output_type": "stream",
     "text": [
      "100%|██████████| 100/100 [00:00<00:00, 315.11it/s]\n"
     ]
    },
    {
     "name": "stdout",
     "output_type": "stream",
     "text": [
      "Iteration 410\ttotal itr.rate 34.89/s\trecent itr.rate 13.85/s\topt.step 410\ttotal opt.rate 320.14/s\trecent opt.rate 484.67/s\n",
      "Iteration 420\ttotal itr.rate 35.10/s\trecent itr.rate 46.96/s\topt.step 420\ttotal opt.rate 323.51/s\trecent opt.rate 569.15/s\n",
      "Iteration 430\ttotal itr.rate 35.33/s\trecent itr.rate 48.21/s\topt.step 430\ttotal opt.rate 327.65/s\trecent opt.rate 707.55/s\n",
      "Iteration 440\ttotal itr.rate 35.52/s\trecent itr.rate 46.71/s\topt.step 440\ttotal opt.rate 330.48/s\trecent opt.rate 526.33/s\n",
      "Iteration 450\ttotal itr.rate 35.71/s\trecent itr.rate 46.68/s\topt.step 450\ttotal opt.rate 334.60/s\trecent opt.rate 739.85/s\n"
     ]
    },
    {
     "name": "stderr",
     "output_type": "stream",
     "text": [
      " 48%|████▊     | 48/100 [00:00<00:00, 477.85it/s]"
     ]
    },
    {
     "name": "stdout",
     "output_type": "stream",
     "text": [
      "Iteration 450\ttotal itr.rate 35.04/s\trecent itr.rate 0.00/s\topt.step 450\ttotal opt.rate 303.81/s\trecent opt.rate 0.00/s\n"
     ]
    },
    {
     "name": "stderr",
     "output_type": "stream",
     "text": [
      "100%|██████████| 100/100 [00:00<00:00, 473.82it/s]\n"
     ]
    },
    {
     "name": "stdout",
     "output_type": "stream",
     "text": [
      "Tasks execution time summary:\n",
      "print:\t0.0384 (sec)\n",
      "model_tboard:\t0.1869 (sec)\n",
      "lml_tboard:\t1.6498 (sec)\n",
      "custom_tboard:\t1.3901 (sec)\n",
      "saver:\t4.0261 (sec)\n",
      "sleep:\t4.5390 (sec)\n"
     ]
    }
   ],
   "source": [
    "try:\n",
    "    optimiser = gpflow.train.AdamOptimizer(0.01)\n",
    "    monitor.start_monitoring()\n",
    "    optimiser.minimize(m, step_callback=monitor, maxiter=450, global_step=global_step)\n",
    "finally:\n",
    "    monitor.stop_monitoring()\n",
    "    monitor.print_summary()"
   ]
  },
  {
   "cell_type": "markdown",
   "metadata": {},
   "source": [
    "Now lets compute the log likelihood again. Hopefully we will see an increase in its value"
   ]
  },
  {
   "cell_type": "code",
   "execution_count": 11,
   "metadata": {},
   "outputs": [
    {
     "name": "stdout",
     "output_type": "stream",
     "text": [
      "LML after the optimisation: -68705.124191\n"
     ]
    }
   ],
   "source": [
    "print('LML after the optimisation: %f' % m.compute_log_likelihood())"
   ]
  }
 ],
 "metadata": {
  "kernelspec": {
   "display_name": "Python GPFlow-venv",
   "language": "python",
   "name": "gpflow_venv"
  },
  "language_info": {
   "codemirror_mode": {
    "name": "ipython",
    "version": 3
   },
   "file_extension": ".py",
   "mimetype": "text/x-python",
   "name": "python",
   "nbconvert_exporter": "python",
   "pygments_lexer": "ipython3",
   "version": "3.5.2"
  }
 },
 "nbformat": 4,
 "nbformat_minor": 2
}
