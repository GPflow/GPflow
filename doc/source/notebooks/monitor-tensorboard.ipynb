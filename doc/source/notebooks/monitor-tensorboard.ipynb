{
 "cells": [
  {
   "cell_type": "code",
   "execution_count": 1,
   "metadata": {
    "scrolled": false
   },
   "outputs": [],
   "source": [
    "%matplotlib inline\n",
    "import itertools\n",
    "import os\n",
    "os.environ['CUDA_VISIBLE_DEVICES']=\"\"\n",
    "import numpy as np\n",
    "import gpflow\n",
    "import gpflow.training.monitor as mon\n",
    "import numbers\n",
    "import matplotlib.pyplot as plt\n",
    "import tensorflow as tf"
   ]
  },
  {
   "cell_type": "markdown",
   "metadata": {},
   "source": [
    "# Demo: `gpflow.training.monitor`\n",
    "In this notebook we'll demo how to use `gpflow.training.monitor` for logging the optimisation of a GPflow model.\n",
    "\n",
    "## Creating the GPflow model\n",
    "We first generate some random data and create a GPflow model.\n",
    "\n",
    "Under the hood, GPflow gives a unique name to each model which is used to name the Variables it creates in the TensorFlow graph containing a random identifier. This is useful in interactive sessions, where people may create a few models, to prevent variables with the same name conflicting. However, when loading the model, we need to make sure that the names of all the variables are exactly the same as in the checkpoint. This is why we pass name=\"SVGP\" to the model constructor, and why we use gpflow.defer_build()."
   ]
  },
  {
   "cell_type": "code",
   "execution_count": 2,
   "metadata": {},
   "outputs": [],
   "source": [
    "np.random.seed(0)\n",
    "X = np.random.rand(10000, 1) * 10\n",
    "Y = np.sin(X) + np.random.randn(*X.shape)\n",
    "Xt = np.random.rand(10000, 1) * 10\n",
    "Yt = np.sin(Xt) + np.random.randn(*Xt.shape)\n",
    "\n",
    "with gpflow.defer_build():\n",
    "    m = gpflow.models.SVGP(X, Y, gpflow.kernels.RBF(1), gpflow.likelihoods.Gaussian(),\n",
    "                           Z=np.linspace(0, 10, 5)[:, None],\n",
    "                           minibatch_size=100, name=\"SVGP\")\n",
    "    m.likelihood.variance = 0.01\n",
    "m.compile()"
   ]
  },
  {
   "cell_type": "markdown",
   "metadata": {},
   "source": [
    "Let's compute log likelihood before the optimisation"
   ]
  },
  {
   "cell_type": "code",
   "execution_count": 3,
   "metadata": {},
   "outputs": [
    {
     "name": "stdout",
     "output_type": "stream",
     "text": [
      "LML before the optimisation: -1271605.621944\n"
     ]
    }
   ],
   "source": [
    "print('LML before the optimisation: %f' % m.compute_log_likelihood())"
   ]
  },
  {
   "cell_type": "markdown",
   "metadata": {},
   "source": [
    "We will be using a TensorFlow optimiser. All TensorFlow optimisers have a support for `global_step` variable. Its purpose is to track how many optimisation steps have occurred. It is useful to keep this in a TensorFlow variable as this allows it to be restored together with all the parameters of the model.\n",
    "\n",
    "The code below creates this variable using a monitor's helper function. It is important to create it before building the monitor in case the monitor includes a checkpoint task. This is because the checkpoint internally uses the TensorFlow Saver which creates a list of variables to save. Therefore all variables expected to be saved by the checkpoint task should exist by the time the task is created."
   ]
  },
  {
   "cell_type": "code",
   "execution_count": 4,
   "metadata": {},
   "outputs": [],
   "source": [
    "session = m.enquire_session()\n",
    "global_step = mon.create_global_step(session)"
   ]
  },
  {
   "cell_type": "markdown",
   "metadata": {},
   "source": [
    "## Construct the monitor\n",
    "\n",
    "Next we need to construct the monitor. `gpflow.training.monitor` provides classes that are building blocks for the monitor. Essengially, a monitor is a function that is provided as a callback to an optimiser. It consists of a number of tasks that may be executed at each step, subject to their running condition.\n",
    "\n",
    "In this example, we want to:\n",
    "- log certain scalar parameters in TensorBoard,\n",
    "- log the full optimisation objective (log marginal likelihood bound) periodically, even though we optimise with minibatches,\n",
    "- store a backup of the optimisation process periodically,\n",
    "- log performance for a test set periodically.\n",
    "\n",
    "We will define these tasks as follows:"
   ]
  },
  {
   "cell_type": "code",
   "execution_count": 5,
   "metadata": {},
   "outputs": [],
   "source": [
    "print_task = mon.PrintTimingsTask().with_name('print')\\\n",
    "    .with_condition(mon.PeriodicIterationCondition(10))\\\n",
    "    .with_exit_condition(True)\n",
    "\n",
    "sleep_task = mon.SleepTask(0.01).with_name('sleep').with_name('sleep')\n",
    "\n",
    "saver_task = mon.CheckpointTask('./monitor-saves').with_name('saver')\\\n",
    "    .with_condition(mon.PeriodicIterationCondition(10))\\\n",
    "    .with_exit_condition(True)\n",
    "\n",
    "std_tboard_task = mon.StandardTensorBoardTask(m, './model-tensorboard').with_name('std_tboard')\\\n",
    "    .with_condition(mon.PeriodicIterationCondition(10))\\\n",
    "    .with_exit_condition(True)\n",
    "\n",
    "lml_tboard_task = mon.LmlTensorBoardTask(m, './model-tensorboard').with_name('lml_tboard')\\\n",
    "    .with_condition(mon.PeriodicIterationCondition(100))\\\n",
    "    .with_exit_condition(True)"
   ]
  },
  {
   "cell_type": "markdown",
   "metadata": {},
   "source": [
    "As the above code shows, each task can be assigned a name and running conditions. The name will be shown in the task timing summary.\n",
    "\n",
    "There are two different types of running conditions: `with_condition` controls execution of the task at each iteration in the optimisation loop. `with_exit_condition` is a simple boolean flag indicating that the task should also run at the end of optimisation.\n",
    "In this example we want to run our tasks periodically, at every iteration or every 10th or 100th iteration.\n"
   ]
  },
  {
   "cell_type": "markdown",
   "metadata": {},
   "source": [
    "## Custom tasks\n",
    "We may also want to perfom certain tasks that do not have pre-defined `Task` classes. For example, we may want to compute the performance on a test set. Here we create such a class by extending `BaseTensorBoardTask` to log the testing benchmarks in addition to all the scalar parameters."
   ]
  },
  {
   "cell_type": "code",
   "execution_count": 6,
   "metadata": {},
   "outputs": [],
   "source": [
    "class CustomTensorBoardTask(mon.BaseTensorBoardTask):\n",
    "    def __init__(self, model, event_path, Xt, Yt):\n",
    "        super().__init__(model, event_path)\n",
    "        self.Xt = Xt\n",
    "        self.Yt = Yt\n",
    "        self._full_test_err = tf.placeholder(gpflow.settings.tf_float, shape=())\n",
    "        self._full_test_nlpp = tf.placeholder(gpflow.settings.tf_float, shape=())\n",
    "        self._summary = tf.summary.merge([tf.summary.scalar(\"test_rmse\", self._full_test_err),\n",
    "                                         tf.summary.scalar(\"test_nlpp\", self._full_test_nlpp)])\n",
    "    \n",
    "    def run(self, context: mon.MonitorContext, *args, **kwargs) -> None:\n",
    "        minibatch_size = 100\n",
    "        preds = np.vstack([self.model.predict_y(Xt[mb * minibatch_size:(mb + 1) * minibatch_size, :])[0]\n",
    "                            for mb in range(-(-len(Xt) // minibatch_size))])\n",
    "        test_err = np.mean((Yt - preds) ** 2.0)**0.5\n",
    "        self._eval_summary(context, {self._full_test_err: test_err, self._full_test_nlpp: 0.0})\n",
    "\n",
    "        \n",
    "custom_tboard_task = CustomTensorBoardTask(m, './model-tensorboard', Xt, Yt).with_name('custom_tboard')\\\n",
    "    .with_condition(mon.PeriodicIterationCondition(100))\\\n",
    "    .with_exit_condition(True)"
   ]
  },
  {
   "cell_type": "markdown",
   "metadata": {},
   "source": [
    "Now we can put all these tasks into a monitor."
   ]
  },
  {
   "cell_type": "code",
   "execution_count": 7,
   "metadata": {},
   "outputs": [],
   "source": [
    "monitor_tasks = [print_task, std_tboard_task, lml_tboard_task, custom_tboard_task, saver_task, sleep_task]\n",
    "monitor = mon.Monitor(monitor_tasks, session, global_step)"
   ]
  },
  {
   "cell_type": "markdown",
   "metadata": {},
   "source": [
    "## Running the optimisation\n",
    "We finally get to running the optimisation.\n",
    "\n",
    "We may want to continue a previously run optimisation by resotring the TensorFlow graph from the latest checkpoint. Otherwise skip this step."
   ]
  },
  {
   "cell_type": "code",
   "execution_count": 8,
   "metadata": {
    "scrolled": false
   },
   "outputs": [
    {
     "name": "stdout",
     "output_type": "stream",
     "text": [
      "Restoring session from `./monitor-saves/cp-900`.\n",
      "INFO:tensorflow:Restoring parameters from ./monitor-saves/cp-900\n"
     ]
    }
   ],
   "source": [
    "if os.path.isdir('./monitor-saves'):\n",
    "    mon.restore_session(session, './monitor-saves')"
   ]
  },
  {
   "cell_type": "code",
   "execution_count": 9,
   "metadata": {
    "scrolled": true
   },
   "outputs": [
    {
     "name": "stdout",
     "output_type": "stream",
     "text": [
      "Iteration 10\ttotal itr.rate 13.12/s\trecent itr.rate 13.12/s\topt.step 910\ttotal opt.rate 14.89/s\trecent opt.rate 14.89/s\n",
      "Iteration 20\ttotal itr.rate 19.26/s\trecent itr.rate 36.25/s\topt.step 920\ttotal opt.rate 29.32/s\trecent opt.rate 948.09/s\n",
      "Iteration 30\ttotal itr.rate 24.01/s\trecent itr.rate 47.41/s\topt.step 930\ttotal opt.rate 43.14/s\trecent opt.rate 754.96/s\n",
      "Iteration 40\ttotal itr.rate 27.53/s\trecent itr.rate 49.13/s\topt.step 940\ttotal opt.rate 56.59/s\trecent opt.rate 880.83/s\n",
      "Iteration 50\ttotal itr.rate 30.03/s\trecent itr.rate 47.11/s\topt.step 950\ttotal opt.rate 69.33/s\trecent opt.rate 693.44/s\n",
      "Iteration 60\ttotal itr.rate 32.22/s\trecent itr.rate 50.70/s\topt.step 960\ttotal opt.rate 81.52/s\trecent opt.rate 678.44/s\n",
      "Iteration 70\ttotal itr.rate 33.86/s\trecent itr.rate 48.76/s\topt.step 970\ttotal opt.rate 93.30/s\trecent opt.rate 700.50/s\n",
      "Iteration 80\ttotal itr.rate 34.21/s\trecent itr.rate 36.87/s\topt.step 980\ttotal opt.rate 105.07/s\trecent opt.rate 896.01/s\n",
      "Iteration 90\ttotal itr.rate 35.43/s\trecent itr.rate 49.55/s\topt.step 990\ttotal opt.rate 116.22/s\trecent opt.rate 770.19/s\n"
     ]
    },
    {
     "name": "stderr",
     "output_type": "stream",
     "text": [
      " 26%|██▌       | 26/100 [00:00<00:00, 257.39it/s]"
     ]
    },
    {
     "name": "stdout",
     "output_type": "stream",
     "text": [
      "Iteration 100\ttotal itr.rate 36.43/s\trecent itr.rate 48.94/s\topt.step 1000\ttotal opt.rate 126.02/s\trecent opt.rate 522.29/s\n"
     ]
    },
    {
     "name": "stderr",
     "output_type": "stream",
     "text": [
      "100%|██████████| 100/100 [00:00<00:00, 392.21it/s]\n"
     ]
    },
    {
     "name": "stdout",
     "output_type": "stream",
     "text": [
      "Iteration 110\ttotal itr.rate 31.12/s\trecent itr.rate 12.67/s\topt.step 1010\ttotal opt.rate 136.35/s\trecent opt.rate 755.99/s\n",
      "Iteration 120\ttotal itr.rate 32.04/s\trecent itr.rate 47.28/s\topt.step 1020\ttotal opt.rate 146.30/s\trecent opt.rate 743.00/s\n",
      "Iteration 130\ttotal itr.rate 32.76/s\trecent itr.rate 44.95/s\topt.step 1030\ttotal opt.rate 155.63/s\trecent opt.rate 663.28/s\n",
      "Iteration 140\ttotal itr.rate 33.55/s\trecent itr.rate 48.99/s\topt.step 1040\ttotal opt.rate 165.07/s\trecent opt.rate 779.95/s\n",
      "Iteration 150\ttotal itr.rate 34.26/s\trecent itr.rate 48.54/s\topt.step 1050\ttotal opt.rate 174.93/s\trecent opt.rate 1068.59/s\n",
      "Iteration 160\ttotal itr.rate 35.17/s\trecent itr.rate 58.32/s\topt.step 1060\ttotal opt.rate 183.52/s\trecent opt.rate 696.94/s\n",
      "Iteration 170\ttotal itr.rate 35.72/s\trecent itr.rate 47.69/s\topt.step 1070\ttotal opt.rate 192.22/s\trecent opt.rate 794.86/s\n",
      "Iteration 180\ttotal itr.rate 36.21/s\trecent itr.rate 47.16/s\topt.step 1080\ttotal opt.rate 200.20/s\trecent opt.rate 682.01/s\n",
      "Iteration 190\ttotal itr.rate 36.59/s\trecent itr.rate 45.33/s\topt.step 1090\ttotal opt.rate 207.78/s\trecent opt.rate 652.08/s\n"
     ]
    },
    {
     "name": "stderr",
     "output_type": "stream",
     "text": [
      " 22%|██▏       | 22/100 [00:00<00:00, 219.27it/s]"
     ]
    },
    {
     "name": "stdout",
     "output_type": "stream",
     "text": [
      "Iteration 200\ttotal itr.rate 37.03/s\trecent itr.rate 47.99/s\topt.step 1100\ttotal opt.rate 215.58/s\trecent opt.rate 750.17/s\n"
     ]
    },
    {
     "name": "stderr",
     "output_type": "stream",
     "text": [
      "100%|██████████| 100/100 [00:00<00:00, 250.86it/s]\n"
     ]
    },
    {
     "name": "stdout",
     "output_type": "stream",
     "text": [
      "Iteration 210\ttotal itr.rate 32.94/s\trecent itr.rate 10.25/s\topt.step 1110\ttotal opt.rate 223.19/s\trecent opt.rate 760.43/s\n",
      "Iteration 220\ttotal itr.rate 33.41/s\trecent itr.rate 47.71/s\topt.step 1120\ttotal opt.rate 230.45/s\trecent opt.rate 726.76/s\n",
      "Iteration 230\ttotal itr.rate 33.84/s\trecent itr.rate 47.50/s\topt.step 1130\ttotal opt.rate 237.41/s\trecent opt.rate 707.27/s\n",
      "Iteration 240\ttotal itr.rate 34.27/s\trecent itr.rate 48.42/s\topt.step 1140\ttotal opt.rate 244.13/s\trecent opt.rate 700.41/s\n",
      "Iteration 250\ttotal itr.rate 34.66/s\trecent itr.rate 47.64/s\topt.step 1150\ttotal opt.rate 250.50/s\trecent opt.rate 669.16/s\n",
      "Iteration 260\ttotal itr.rate 35.07/s\trecent itr.rate 49.71/s\topt.step 1160\ttotal opt.rate 258.77/s\trecent opt.rate 1484.84/s\n",
      "Iteration 270\ttotal itr.rate 35.41/s\trecent itr.rate 47.30/s\topt.step 1170\ttotal opt.rate 264.99/s\trecent opt.rate 706.51/s\n",
      "Iteration 280\ttotal itr.rate 35.75/s\trecent itr.rate 48.57/s\topt.step 1180\ttotal opt.rate 271.45/s\trecent opt.rate 793.03/s\n",
      "Iteration 290\ttotal itr.rate 36.06/s\trecent itr.rate 47.39/s\topt.step 1190\ttotal opt.rate 277.24/s\trecent opt.rate 688.97/s\n"
     ]
    },
    {
     "name": "stderr",
     "output_type": "stream",
     "text": [
      " 36%|███▌      | 36/100 [00:00<00:00, 352.95it/s]"
     ]
    },
    {
     "name": "stdout",
     "output_type": "stream",
     "text": [
      "Iteration 300\ttotal itr.rate 36.35/s\trecent itr.rate 47.44/s\topt.step 1200\ttotal opt.rate 283.23/s\trecent opt.rate 759.64/s\n"
     ]
    },
    {
     "name": "stderr",
     "output_type": "stream",
     "text": [
      "100%|██████████| 100/100 [00:00<00:00, 422.58it/s]\n"
     ]
    },
    {
     "name": "stdout",
     "output_type": "stream",
     "text": [
      "Iteration 310\ttotal itr.rate 34.95/s\trecent itr.rate 16.21/s\topt.step 1210\ttotal opt.rate 289.07/s\trecent opt.rate 756.62/s\n",
      "Iteration 320\ttotal itr.rate 35.27/s\trecent itr.rate 49.19/s\topt.step 1220\ttotal opt.rate 294.45/s\trecent opt.rate 695.87/s\n",
      "Iteration 330\ttotal itr.rate 35.55/s\trecent itr.rate 47.71/s\topt.step 1230\ttotal opt.rate 299.72/s\trecent opt.rate 701.22/s\n",
      "Iteration 340\ttotal itr.rate 35.84/s\trecent itr.rate 49.10/s\topt.step 1240\ttotal opt.rate 305.25/s\trecent opt.rate 780.17/s\n",
      "Iteration 350\ttotal itr.rate 36.08/s\trecent itr.rate 46.40/s\topt.step 1250\ttotal opt.rate 309.78/s\trecent opt.rate 625.71/s\n",
      "Iteration 360\ttotal itr.rate 36.31/s\trecent itr.rate 46.92/s\topt.step 1260\ttotal opt.rate 314.40/s\trecent opt.rate 658.33/s\n",
      "Iteration 370\ttotal itr.rate 36.56/s\trecent itr.rate 48.46/s\topt.step 1270\ttotal opt.rate 318.97/s\trecent opt.rate 669.18/s\n",
      "Iteration 380\ttotal itr.rate 36.78/s\trecent itr.rate 47.49/s\topt.step 1280\ttotal opt.rate 323.71/s\trecent opt.rate 717.86/s\n",
      "Iteration 390\ttotal itr.rate 37.01/s\trecent itr.rate 48.29/s\topt.step 1290\ttotal opt.rate 326.37/s\trecent opt.rate 474.58/s\n"
     ]
    },
    {
     "name": "stderr",
     "output_type": "stream",
     "text": [
      " 20%|██        | 20/100 [00:00<00:00, 196.31it/s]"
     ]
    },
    {
     "name": "stdout",
     "output_type": "stream",
     "text": [
      "Iteration 400\ttotal itr.rate 37.22/s\trecent itr.rate 48.31/s\topt.step 1300\ttotal opt.rate 329.92/s\trecent opt.rate 573.24/s\n"
     ]
    },
    {
     "name": "stderr",
     "output_type": "stream",
     "text": [
      "100%|██████████| 100/100 [00:00<00:00, 241.21it/s]\n"
     ]
    },
    {
     "name": "stdout",
     "output_type": "stream",
     "text": [
      "Iteration 410\ttotal itr.rate 35.12/s\trecent itr.rate 10.76/s\topt.step 1310\ttotal opt.rate 334.40/s\trecent opt.rate 732.61/s\n",
      "Iteration 420\ttotal itr.rate 35.34/s\trecent itr.rate 48.11/s\topt.step 1320\ttotal opt.rate 338.70/s\trecent opt.rate 716.14/s\n",
      "Iteration 430\ttotal itr.rate 35.57/s\trecent itr.rate 48.42/s\topt.step 1330\ttotal opt.rate 342.59/s\trecent opt.rate 661.55/s\n",
      "Iteration 440\ttotal itr.rate 35.80/s\trecent itr.rate 50.21/s\topt.step 1340\ttotal opt.rate 346.78/s\trecent opt.rate 732.64/s\n",
      "Iteration 450\ttotal itr.rate 36.01/s\trecent itr.rate 47.91/s\topt.step 1350\ttotal opt.rate 350.71/s\trecent opt.rate 699.44/s\n"
     ]
    },
    {
     "name": "stderr",
     "output_type": "stream",
     "text": [
      " 44%|████▍     | 44/100 [00:00<00:00, 438.82it/s]"
     ]
    },
    {
     "name": "stdout",
     "output_type": "stream",
     "text": [
      "Iteration 450\ttotal itr.rate 35.21/s\trecent itr.rate 0.00/s\topt.step 1350\ttotal opt.rate 308.71/s\trecent opt.rate 0.00/s\n"
     ]
    },
    {
     "name": "stderr",
     "output_type": "stream",
     "text": [
      "100%|██████████| 100/100 [00:00<00:00, 458.09it/s]\n"
     ]
    },
    {
     "name": "stdout",
     "output_type": "stream",
     "text": [
      "Tasks execution time summary:\n",
      "print:\t0.0426 (sec)\n",
      "std_tboard:\t0.1860 (sec)\n",
      "lml_tboard:\t1.5571 (sec)\n",
      "custom_tboard:\t1.4538 (sec)\n",
      "saver:\t4.0203 (sec)\n",
      "sleep:\t4.5388 (sec)\n"
     ]
    }
   ],
   "source": [
    "try:\n",
    "    optimiser = gpflow.train.AdamOptimizer(0.01)\n",
    "    monitor.start_monitoring()\n",
    "    optimiser.minimize(m, step_callback=monitor, maxiter=450, global_step=global_step)\n",
    "finally:\n",
    "    monitor.stop_monitoring()\n",
    "    monitor.print_summary()"
   ]
  },
  {
   "cell_type": "markdown",
   "metadata": {},
   "source": [
    "Now lets compute the log likelihood again. Hopefully we will see an increase in its value"
   ]
  },
  {
   "cell_type": "code",
   "execution_count": 10,
   "metadata": {},
   "outputs": [
    {
     "name": "stdout",
     "output_type": "stream",
     "text": [
      "LML after the optimisation: -13787.010035\n"
     ]
    }
   ],
   "source": [
    "print('LML after the optimisation: %f' % m.compute_log_likelihood())"
   ]
  }
 ],
 "metadata": {
  "kernelspec": {
   "display_name": "Python GPFlow-venv",
   "language": "python",
   "name": "gpflow_venv"
  },
  "language_info": {
   "codemirror_mode": {
    "name": "ipython",
    "version": 3
   },
   "file_extension": ".py",
   "mimetype": "text/x-python",
   "name": "python",
   "nbconvert_exporter": "python",
   "pygments_lexer": "ipython3",
   "version": "3.5.2"
  }
 },
 "nbformat": 4,
 "nbformat_minor": 2
}
