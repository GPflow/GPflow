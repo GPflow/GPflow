{
 "cells": [
  {
   "cell_type": "code",
   "execution_count": 1,
   "metadata": {
    "scrolled": false
   },
   "outputs": [],
   "source": [
    "%matplotlib inline\n",
    "import itertools\n",
    "import os\n",
    "os.environ['CUDA_VISIBLE_DEVICES']=\"\"\n",
    "import numpy as np\n",
    "import gpflow\n",
    "import gpflow.training.monitor as mon\n",
    "import numbers\n",
    "import matplotlib.pyplot as plt\n",
    "import tensorflow as tf"
   ]
  },
  {
   "cell_type": "markdown",
   "metadata": {},
   "source": [
    "# Demo: `gpflow.training.monitor`\n",
    "In this notebook we'll demo how to use `gpflow.training.monitor` for logging the optimisation of a GPflow model.\n",
    "\n",
    "## Creating the GPflow model\n",
    "We first generate some random data and create a GPflow model.\n",
    "\n",
    "Under the hood, GPflow gives a unique name to each model which is used to name the Variables it creates in the TensorFlow graph containing a random identifier. This is useful in interactive sessions, where people may create a few models, to prevent variables with the same name conflicting. However, when loading the model, we need to make sure that the names of all the variables are exactly the same as in the checkpoint. This is why we pass name=\"SVGP\" to the model constructor, and why we use gpflow.defer_build()."
   ]
  },
  {
   "cell_type": "code",
   "execution_count": 2,
   "metadata": {},
   "outputs": [],
   "source": [
    "np.random.seed(0)\n",
    "X = np.random.rand(10000, 1) * 10\n",
    "Y = np.sin(X) + np.random.randn(*X.shape)\n",
    "Xt = np.random.rand(10000, 1) * 10\n",
    "Yt = np.sin(Xt) + np.random.randn(*Xt.shape)\n",
    "\n",
    "with gpflow.defer_build():\n",
    "    m = gpflow.models.SVGP(X, Y, gpflow.kernels.RBF(1), gpflow.likelihoods.Gaussian(),\n",
    "                           Z=np.linspace(0, 10, 5)[:, None],\n",
    "                           minibatch_size=100, name=\"SVGP\")\n",
    "    m.likelihood.variance = 0.01\n",
    "m.compile()"
   ]
  },
  {
   "cell_type": "markdown",
   "metadata": {},
   "source": [
    "Let's compute log likelihood before the optimisation"
   ]
  },
  {
   "cell_type": "code",
   "execution_count": 3,
   "metadata": {},
   "outputs": [
    {
     "name": "stdout",
     "output_type": "stream",
     "text": [
      "LML before the optimisation: -1271605.621944\n"
     ]
    }
   ],
   "source": [
    "print('LML before the optimisation: %f' % m.compute_log_likelihood())"
   ]
  },
  {
   "cell_type": "markdown",
   "metadata": {},
   "source": [
    "We will be using a TensorFlow optimiser. All TensorFlow optimisers have a support for `global_step` variable. Its purpose is to track how many optimisation steps have occurred. It is useful to keep this in a TensorFlow variable as this allows it to be restored together with all the parameters of the model.\n",
    "\n",
    "The code below creates this variable using a monitor's helper function. It is important to create it before building the monitor in case the monitor includes a checkpoint task. This is because the checkpoint internally uses the TensorFlow Saver which creates a list of variables to save. Therefore all variables expected to be saved by the checkpoint task should exist by the time the task is created."
   ]
  },
  {
   "cell_type": "code",
   "execution_count": 4,
   "metadata": {},
   "outputs": [],
   "source": [
    "session = m.enquire_session()\n",
    "global_step = mon.create_global_step(session)"
   ]
  },
  {
   "cell_type": "markdown",
   "metadata": {},
   "source": [
    "## Construct the monitor\n",
    "\n",
    "Next we need to construct the monitor. `gpflow.training.monitor` provides classes that are building blocks for the monitor. Essengially, a monitor is a function that is provided as a callback to an optimiser. It consists of a number of tasks that may be executed at each step, subject to their running condition.\n",
    "\n",
    "In this example, we want to:\n",
    "- log certain scalar parameters in TensorBoard,\n",
    "- log the full optimisation objective (log marginal likelihood bound) periodically, even though we optimise with minibatches,\n",
    "- store a backup of the optimisation process periodically,\n",
    "- log performance for a test set periodically.\n",
    "\n",
    "We will define these tasks as follows:"
   ]
  },
  {
   "cell_type": "code",
   "execution_count": 5,
   "metadata": {},
   "outputs": [],
   "source": [
    "print_task = mon.PrintTimingsTask().with_name('print')\\\n",
    "    .with_condition(mon.PeriodicIterationCondition(10))\\\n",
    "    .with_exit_condition(True)\n",
    "\n",
    "sleep_task = mon.SleepTask(0.01).with_name('sleep').with_name('sleep')\n",
    "\n",
    "saver_task = mon.CheckpointTask('./monitor-saves').with_name('saver')\\\n",
    "    .with_condition(mon.PeriodicIterationCondition(10))\\\n",
    "    .with_exit_condition(True)\n",
    "\n",
    "model_tboard_task = mon.ModelToTensorBoardTask('./model-tensorboard', m).with_name('model_tboard')\\\n",
    "    .with_condition(mon.PeriodicIterationCondition(10))\\\n",
    "    .with_exit_condition(True)\n",
    "\n",
    "lml_tboard_task = mon.LmlToTensorBoardTask('./model-tensorboard', m).with_name('lml_tboard')\\\n",
    "    .with_condition(mon.PeriodicIterationCondition(100))\\\n",
    "    .with_exit_condition(True)"
   ]
  },
  {
   "cell_type": "markdown",
   "metadata": {},
   "source": [
    "As the above code shows, each task can be assigned a name and running conditions. The name will be shown in the task timing summary.\n",
    "\n",
    "There are two different types of running conditions: `with_condition` controls execution of the task at each iteration in the optimisation loop. `with_exit_condition` is a simple boolean flag indicating that the task should also run at the end of optimisation.\n",
    "In this example we want to run our tasks periodically, at every iteration or every 10th or 100th iteration.\n"
   ]
  },
  {
   "cell_type": "markdown",
   "metadata": {},
   "source": [
    "## Custom tasks\n",
    "We may also want to perfom certain tasks that do not have pre-defined `Task` classes. For example, we may want to compute the performance on a test set. Here we create such a class by extending `BaseTensorBoardTask` to log the testing benchmarks in addition to all the scalar parameters."
   ]
  },
  {
   "cell_type": "code",
   "execution_count": 6,
   "metadata": {},
   "outputs": [],
   "source": [
    "class CustomTensorBoardTask(mon.BaseTensorBoardTask):\n",
    "    def __init__(self, event_path, model, Xt, Yt):\n",
    "        super().__init__(event_path, model)\n",
    "        self.Xt = Xt\n",
    "        self.Yt = Yt\n",
    "        self._full_test_err = tf.placeholder(gpflow.settings.tf_float, shape=())\n",
    "        self._full_test_nlpp = tf.placeholder(gpflow.settings.tf_float, shape=())\n",
    "        self._summary = tf.summary.merge([tf.summary.scalar(\"test_rmse\", self._full_test_err),\n",
    "                                         tf.summary.scalar(\"test_nlpp\", self._full_test_nlpp)])\n",
    "    \n",
    "    def run(self, context: mon.MonitorContext, *args, **kwargs) -> None:\n",
    "        minibatch_size = 100\n",
    "        preds = np.vstack([self.model.predict_y(Xt[mb * minibatch_size:(mb + 1) * minibatch_size, :])[0]\n",
    "                            for mb in range(-(-len(Xt) // minibatch_size))])\n",
    "        test_err = np.mean((Yt - preds) ** 2.0)**0.5\n",
    "        self._eval_summary(context, {self._full_test_err: test_err, self._full_test_nlpp: 0.0})\n",
    "\n",
    "        \n",
    "custom_tboard_task = CustomTensorBoardTask('./model-tensorboard', m, Xt, Yt).with_name('custom_tboard')\\\n",
    "    .with_condition(mon.PeriodicIterationCondition(100))\\\n",
    "    .with_exit_condition(True)"
   ]
  },
  {
   "cell_type": "markdown",
   "metadata": {},
   "source": [
    "Now we can put all these tasks into a monitor."
   ]
  },
  {
   "cell_type": "code",
   "execution_count": 7,
   "metadata": {},
   "outputs": [],
   "source": [
    "monitor_tasks = [print_task, model_tboard_task, lml_tboard_task, custom_tboard_task, saver_task, sleep_task]\n",
    "monitor = mon.Monitor(monitor_tasks, session, global_step)"
   ]
  },
  {
   "cell_type": "markdown",
   "metadata": {},
   "source": [
    "## Running the optimisation\n",
    "We finally get to running the optimisation.\n",
    "\n",
    "We may want to continue a previously run optimisation by resotring the TensorFlow graph from the latest checkpoint. Otherwise skip this step."
   ]
  },
  {
   "cell_type": "code",
   "execution_count": 8,
   "metadata": {
    "scrolled": false
   },
   "outputs": [],
   "source": [
    "if os.path.isdir('./monitor-saves'):\n",
    "    mon.restore_session(session, './monitor-saves')"
   ]
  },
  {
   "cell_type": "code",
   "execution_count": 9,
   "metadata": {
    "scrolled": false
   },
   "outputs": [
    {
     "name": "stdout",
     "output_type": "stream",
     "text": [
      "Iteration 10\ttotal itr.rate 12.97/s\trecent itr.rate 12.97/s\topt.step 10\ttotal opt.rate 14.70/s\trecent opt.rate 14.70/s\n",
      "Iteration 20\ttotal itr.rate 19.96/s\trecent itr.rate 43.28/s\topt.step 20\ttotal opt.rate 28.69/s\trecent opt.rate 594.41/s\n",
      "Iteration 30\ttotal itr.rate 25.32/s\trecent itr.rate 54.72/s\topt.step 30\ttotal opt.rate 42.00/s\trecent opt.rate 582.33/s\n",
      "Iteration 40\ttotal itr.rate 28.84/s\trecent itr.rate 49.43/s\topt.step 40\ttotal opt.rate 54.74/s\trecent opt.rate 607.33/s\n",
      "Iteration 50\ttotal itr.rate 31.31/s\trecent itr.rate 47.66/s\topt.step 50\ttotal opt.rate 66.95/s\trecent opt.rate 621.07/s\n",
      "Iteration 60\ttotal itr.rate 33.20/s\trecent itr.rate 47.63/s\topt.step 60\ttotal opt.rate 78.52/s\trecent opt.rate 579.45/s\n",
      "Iteration 70\ttotal itr.rate 33.94/s\trecent itr.rate 39.11/s\topt.step 70\ttotal opt.rate 89.54/s\trecent opt.rate 567.60/s\n",
      "Iteration 80\ttotal itr.rate 35.60/s\trecent itr.rate 54.23/s\topt.step 80\ttotal opt.rate 99.78/s\trecent opt.rate 499.17/s\n",
      "Iteration 90\ttotal itr.rate 36.68/s\trecent itr.rate 48.44/s\topt.step 90\ttotal opt.rate 109.76/s\trecent opt.rate 550.22/s\n"
     ]
    },
    {
     "name": "stderr",
     "output_type": "stream",
     "text": [
      " 30%|███       | 30/100 [00:00<00:00, 298.97it/s]"
     ]
    },
    {
     "name": "stdout",
     "output_type": "stream",
     "text": [
      "Iteration 100\ttotal itr.rate 37.52/s\trecent itr.rate 47.16/s\topt.step 100\ttotal opt.rate 118.52/s\trecent opt.rate 419.90/s\n"
     ]
    },
    {
     "name": "stderr",
     "output_type": "stream",
     "text": [
      "100%|██████████| 100/100 [00:00<00:00, 403.01it/s]\n"
     ]
    },
    {
     "name": "stdout",
     "output_type": "stream",
     "text": [
      "Iteration 110\ttotal itr.rate 31.96/s\trecent itr.rate 12.89/s\topt.step 110\ttotal opt.rate 128.16/s\trecent opt.rate 686.31/s\n",
      "Iteration 120\ttotal itr.rate 32.88/s\trecent itr.rate 47.90/s\topt.step 120\ttotal opt.rate 136.86/s\trecent opt.rate 541.90/s\n",
      "Iteration 130\ttotal itr.rate 33.74/s\trecent itr.rate 49.42/s\topt.step 130\ttotal opt.rate 145.71/s\trecent opt.rate 649.17/s\n",
      "Iteration 140\ttotal itr.rate 34.59/s\trecent itr.rate 51.44/s\topt.step 140\ttotal opt.rate 153.58/s\trecent opt.rate 516.43/s\n",
      "Iteration 150\ttotal itr.rate 35.24/s\trecent itr.rate 47.73/s\topt.step 150\ttotal opt.rate 161.31/s\trecent opt.rate 546.01/s\n",
      "Iteration 160\ttotal itr.rate 35.86/s\trecent itr.rate 48.64/s\topt.step 160\ttotal opt.rate 168.61/s\trecent opt.rate 524.00/s\n",
      "Iteration 170\ttotal itr.rate 36.40/s\trecent itr.rate 48.14/s\topt.step 170\ttotal opt.rate 175.44/s\trecent opt.rate 498.73/s\n",
      "Iteration 180\ttotal itr.rate 36.85/s\trecent itr.rate 46.42/s\topt.step 180\ttotal opt.rate 181.36/s\trecent opt.rate 425.72/s\n",
      "Iteration 190\ttotal itr.rate 37.27/s\trecent itr.rate 46.86/s\topt.step 190\ttotal opt.rate 186.85/s\trecent opt.rate 409.93/s\n",
      "Iteration 200\ttotal itr.rate 37.75/s\trecent itr.rate 50.02/s\topt.step 200\ttotal opt.rate 193.11/s\trecent opt.rate 532.77/s\n"
     ]
    },
    {
     "name": "stderr",
     "output_type": "stream",
     "text": [
      "100%|██████████| 100/100 [00:00<00:00, 286.96it/s]\n"
     ]
    },
    {
     "name": "stdout",
     "output_type": "stream",
     "text": [
      "Iteration 210\ttotal itr.rate 34.20/s\trecent itr.rate 11.88/s\topt.step 210\ttotal opt.rate 197.92/s\trecent opt.rate 393.67/s\n",
      "Iteration 220\ttotal itr.rate 34.62/s\trecent itr.rate 46.52/s\topt.step 220\ttotal opt.rate 202.09/s\trecent opt.rate 362.57/s\n",
      "Iteration 230\ttotal itr.rate 35.10/s\trecent itr.rate 50.43/s\topt.step 230\ttotal opt.rate 207.82/s\trecent opt.rate 552.58/s\n",
      "Iteration 240\ttotal itr.rate 35.50/s\trecent itr.rate 48.29/s\topt.step 240\ttotal opt.rate 213.40/s\trecent opt.rate 558.41/s\n",
      "Iteration 250\ttotal itr.rate 35.86/s\trecent itr.rate 47.35/s\topt.step 250\ttotal opt.rate 218.97/s\trecent opt.rate 586.50/s\n",
      "Iteration 260\ttotal itr.rate 36.24/s\trecent itr.rate 49.42/s\topt.step 260\ttotal opt.rate 223.91/s\trecent opt.rate 513.15/s\n",
      "Iteration 270\ttotal itr.rate 36.58/s\trecent itr.rate 48.30/s\topt.step 270\ttotal opt.rate 228.59/s\trecent opt.rate 500.50/s\n",
      "Iteration 280\ttotal itr.rate 36.88/s\trecent itr.rate 47.13/s\topt.step 280\ttotal opt.rate 233.17/s\trecent opt.rate 508.57/s\n"
     ]
    },
    {
     "name": "stderr",
     "output_type": "stream",
     "text": [
      "\r",
      "  0%|          | 0/100 [00:00<?, ?it/s]"
     ]
    },
    {
     "name": "stdout",
     "output_type": "stream",
     "text": [
      "Iteration 290\ttotal itr.rate 37.17/s\trecent itr.rate 47.97/s\topt.step 290\ttotal opt.rate 237.22/s\trecent opt.rate 461.26/s\n",
      "Iteration 300\ttotal itr.rate 37.51/s\trecent itr.rate 50.90/s\topt.step 300\ttotal opt.rate 242.00/s\trecent opt.rate 583.19/s\n"
     ]
    },
    {
     "name": "stderr",
     "output_type": "stream",
     "text": [
      "100%|██████████| 100/100 [00:00<00:00, 366.38it/s]\n"
     ]
    },
    {
     "name": "stdout",
     "output_type": "stream",
     "text": [
      "Iteration 310\ttotal itr.rate 35.74/s\trecent itr.rate 14.79/s\topt.step 310\ttotal opt.rate 245.04/s\trecent opt.rate 393.27/s\n",
      "Iteration 320\ttotal itr.rate 36.03/s\trecent itr.rate 48.05/s\topt.step 320\ttotal opt.rate 249.14/s\trecent opt.rate 516.92/s\n",
      "Iteration 330\ttotal itr.rate 36.28/s\trecent itr.rate 46.75/s\topt.step 330\ttotal opt.rate 252.79/s\trecent opt.rate 476.21/s\n",
      "Iteration 340\ttotal itr.rate 36.55/s\trecent itr.rate 48.31/s\topt.step 340\ttotal opt.rate 255.76/s\trecent opt.rate 417.75/s\n",
      "Iteration 350\ttotal itr.rate 36.80/s\trecent itr.rate 48.12/s\topt.step 350\ttotal opt.rate 259.72/s\trecent opt.rate 547.68/s\n",
      "Iteration 360\ttotal itr.rate 37.02/s\trecent itr.rate 46.90/s\topt.step 360\ttotal opt.rate 262.19/s\trecent opt.rate 392.91/s\n",
      "Iteration 370\ttotal itr.rate 37.26/s\trecent itr.rate 48.53/s\topt.step 370\ttotal opt.rate 266.07/s\trecent opt.rate 569.25/s\n",
      "Iteration 380\ttotal itr.rate 37.51/s\trecent itr.rate 49.62/s\topt.step 380\ttotal opt.rate 269.91/s\trecent opt.rate 580.43/s\n",
      "Iteration 390\ttotal itr.rate 37.70/s\trecent itr.rate 46.83/s\topt.step 390\ttotal opt.rate 273.47/s\trecent opt.rate 547.47/s\n"
     ]
    },
    {
     "name": "stderr",
     "output_type": "stream",
     "text": [
      " 33%|███▎      | 33/100 [00:00<00:00, 324.05it/s]"
     ]
    },
    {
     "name": "stdout",
     "output_type": "stream",
     "text": [
      "Iteration 400\ttotal itr.rate 37.90/s\trecent itr.rate 48.09/s\topt.step 400\ttotal opt.rate 276.93/s\trecent opt.rate 547.78/s\n"
     ]
    },
    {
     "name": "stderr",
     "output_type": "stream",
     "text": [
      "100%|██████████| 100/100 [00:00<00:00, 407.84it/s]\n"
     ]
    },
    {
     "name": "stdout",
     "output_type": "stream",
     "text": [
      "Iteration 410\ttotal itr.rate 36.67/s\trecent itr.rate 15.96/s\topt.step 410\ttotal opt.rate 280.64/s\trecent opt.rate 603.22/s\n",
      "Iteration 420\ttotal itr.rate 36.87/s\trecent itr.rate 47.21/s\topt.step 420\ttotal opt.rate 283.57/s\trecent opt.rate 495.71/s\n",
      "Iteration 430\ttotal itr.rate 37.06/s\trecent itr.rate 47.26/s\topt.step 430\ttotal opt.rate 286.14/s\trecent opt.rate 462.23/s\n",
      "Iteration 440\ttotal itr.rate 37.28/s\trecent itr.rate 50.21/s\topt.step 440\ttotal opt.rate 288.87/s\trecent opt.rate 490.15/s\n",
      "Iteration 450\ttotal itr.rate 37.46/s\trecent itr.rate 47.63/s\topt.step 450\ttotal opt.rate 291.69/s\trecent opt.rate 510.71/s\n"
     ]
    },
    {
     "name": "stderr",
     "output_type": "stream",
     "text": [
      " 49%|████▉     | 49/100 [00:00<00:00, 482.68it/s]"
     ]
    },
    {
     "name": "stdout",
     "output_type": "stream",
     "text": [
      "Iteration 450\ttotal itr.rate 36.68/s\trecent itr.rate 0.00/s\topt.step 450\ttotal opt.rate 264.76/s\trecent opt.rate 0.00/s\n"
     ]
    },
    {
     "name": "stderr",
     "output_type": "stream",
     "text": [
      "100%|██████████| 100/100 [00:00<00:00, 472.03it/s]\n"
     ]
    },
    {
     "name": "stdout",
     "output_type": "stream",
     "text": [
      "Tasks execution time summary:\n",
      "print:\t0.0445 (sec)\n",
      "model_tboard:\t0.1616 (sec)\n",
      "lml_tboard:\t1.3489 (sec)\n",
      "custom_tboard:\t1.2753 (sec)\n",
      "saver:\t3.6596 (sec)\n",
      "sleep:\t4.5392 (sec)\n"
     ]
    }
   ],
   "source": [
    "optimiser = gpflow.train.AdamOptimizer(0.01)\n",
    "with mon.Monitor(monitor_tasks, session, global_step, print_summary=True) as monitor:\n",
    "    optimiser.minimize(m, step_callback=monitor, maxiter=450, global_step=global_step)"
   ]
  },
  {
   "cell_type": "markdown",
   "metadata": {},
   "source": [
    "Now lets compute the log likelihood again. Hopefully we will see an increase in its value"
   ]
  },
  {
   "cell_type": "code",
   "execution_count": 10,
   "metadata": {},
   "outputs": [
    {
     "name": "stdout",
     "output_type": "stream",
     "text": [
      "LML after the optimisation: -68705.124191\n"
     ]
    }
   ],
   "source": [
    "print('LML after the optimisation: %f' % m.compute_log_likelihood())"
   ]
  }
 ],
 "metadata": {
  "kernelspec": {
   "display_name": "Python GPFlow-venv",
   "language": "python",
   "name": "gpflow_venv"
  },
  "language_info": {
   "codemirror_mode": {
    "name": "ipython",
    "version": 3
   },
   "file_extension": ".py",
   "mimetype": "text/x-python",
   "name": "python",
   "nbconvert_exporter": "python",
   "pygments_lexer": "ipython3",
   "version": "3.5.2"
  }
 },
 "nbformat": 4,
 "nbformat_minor": 2
}
