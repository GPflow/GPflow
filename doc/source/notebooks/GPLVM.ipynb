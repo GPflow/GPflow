{
 "cells": [
  {
   "cell_type": "markdown",
   "metadata": {},
   "source": [
    "Bayesian GPLVM\n",
    "--\n",
    "This notebook shows how to use the Bayesian GPLVM model."
   ]
  },
  {
   "cell_type": "code",
   "execution_count": 1,
   "metadata": {},
   "outputs": [],
   "source": [
    "from __future__ import print_function\n",
    "import gpflow\n",
    "from gpflow import ekernels\n",
    "from gpflow import kernels\n",
    "import numpy as np\n",
    "import matplotlib as mpl\n",
    "import matplotlib.pyplot as plt\n",
    "import matplotlib.cm as cm\n",
    "%matplotlib inline\n",
    "import pods\n",
    "pods.datasets.overide_manual_authorize = True  # dont ask to authorize\n",
    "np.random.seed(42)\n",
    "gpflow.settings.numerics.quadrature = 'error'  # throw error if quadrature is used for kernel expectations"
   ]
  },
  {
   "cell_type": "markdown",
   "metadata": {},
   "source": [
    "### Data\n",
    "Install the oil dataset."
   ]
  },
  {
   "cell_type": "code",
   "execution_count": 2,
   "metadata": {},
   "outputs": [
    {
     "name": "stdout",
     "output_type": "stream",
     "text": [
      "Acquiring resource: three_phase_oil_flow\n",
      "\n",
      "Details of data: \n",
      "The three phase oil data used initially for demonstrating the Generative Topographic mapping.\n",
      "\n",
      "Please cite:\n",
      "Bishop, C. M. and G. D. James (1993). Analysis of multiphase flows using dual-energy gamma densitometry and neural networks. Nuclear Instruments and Methods in Physics Research A327, 580-593\n",
      "\n",
      "After downloading the data will take up 712796 bytes of space.\n",
      "\n",
      "Data will be stored in /Users/jameshensman/ods_data_cache/three_phase_oil_flow.\n",
      "\n",
      "Downloading  http://staffwww.dcs.shef.ac.uk/people/N.Lawrence/dataset_mirror/three_phase_oil_flow/DataTrnLbls.txt -> /Users/jameshensman/ods_data_cache/three_phase_oil_flow/DataTrnLbls.txt\n",
      "[==============================]   0.050/0.050MB                                                                                                                                                                                                                                                                                                                                                \n",
      "Downloading  http://staffwww.dcs.shef.ac.uk/people/N.Lawrence/dataset_mirror/three_phase_oil_flow/DataTrn.txt -> /Users/jameshensman/ods_data_cache/three_phase_oil_flow/DataTrn.txt\n",
      "[==============================]   0.196/0.196MB                                                                                                                                                                                                                                                                                                                                                                                                                                                                                                                                                                                                                                                                                                                                                                                                                                                                                                                                                                                                                                                                                                                                                                                                                                                                                                \n",
      "Downloading  http://staffwww.dcs.shef.ac.uk/people/N.Lawrence/dataset_mirror/three_phase_oil_flow/DataTst.txt -> /Users/jameshensman/ods_data_cache/three_phase_oil_flow/DataTst.txt\n",
      "[==============================]   0.173/0.173MB                                                                                                                                                                                                                                                                                                                                                                                                                                                                                                                                                                                                                                                                                                                                                                                                                                                                                                                                                                                                                                                                                                                                                \n",
      "Downloading  http://staffwww.dcs.shef.ac.uk/people/N.Lawrence/dataset_mirror/three_phase_oil_flow/DataTstLbls.txt -> /Users/jameshensman/ods_data_cache/three_phase_oil_flow/DataTstLbls.txt\n",
      "[==============================]   0.044/0.044MB                                                                                                                                                                                                                                                                                                \n",
      "Downloading  http://staffwww.dcs.shef.ac.uk/people/N.Lawrence/dataset_mirror/three_phase_oil_flow/DataVdn.txt -> /Users/jameshensman/ods_data_cache/three_phase_oil_flow/DataVdn.txt\n",
      "[==============================]   0.173/0.173MB                                                                                                                                                                                                                                                                                                                                                                                                                                                                                                                                                                                                                                                                                                                                                                                                                                                                                                                                                                                                                                                                                                                                                \n",
      "Downloading  http://staffwww.dcs.shef.ac.uk/people/N.Lawrence/dataset_mirror/three_phase_oil_flow/DataVdnLbls.txt -> /Users/jameshensman/ods_data_cache/three_phase_oil_flow/DataVdnLbls.txt\n",
      "[==============================]   0.044/0.044MB                                                                                                                                                                                                                                                                                                \n",
      "Number of points X Number of dimensions (100, 12)\n"
     ]
    },
    {
     "data": {
      "text/plain": [
       "'Bishop, C. M. and G. D. James (1993). Analysis of multiphase flows using dual-energy gamma densitometry and neural networks. Nuclear Instruments and Methods in Physics Research A327, 580-593'"
      ]
     },
     "execution_count": 2,
     "metadata": {},
     "output_type": "execute_result"
    }
   ],
   "source": [
    "data = pods.datasets.oil_100()\n",
    "Y = data['X']\n",
    "print('Number of points X Number of dimensions', Y.shape)\n",
    "data['citation']"
   ]
  },
  {
   "cell_type": "markdown",
   "metadata": {},
   "source": [
    "### Model construction\n",
    "Create Bayesian GPLVM model using additive kernel."
   ]
  },
  {
   "cell_type": "code",
   "execution_count": 7,
   "metadata": {
    "scrolled": false
   },
   "outputs": [
    {
     "name": "stderr",
     "output_type": "stream",
     "text": [
      "/Users/jameshensman/miniconda3/envs/pio/lib/python3.5/site-packages/tensorflow/python/ops/gradients_impl.py:93: UserWarning: Converting sparse IndexedSlices to a dense Tensor of unknown shape. This may consume a large amount of memory.\n",
      "  \"Converting sparse IndexedSlices to a dense Tensor of unknown shape. \"\n"
     ]
    },
    {
     "name": "stdout",
     "output_type": "stream",
     "text": [
      "INFO:tensorflow:Optimization terminated with:\n",
      "  Message: b'STOP: TOTAL NO. of ITERATIONS EXCEEDS LIMIT'\n",
      "  Objective function value: -235.191810\n",
      "  Number of iterations: 1001\n",
      "  Number of functions evaluations: 1029\n"
     ]
    }
   ],
   "source": [
    "Q = 5\n",
    "M = 20  # number of inducing pts\n",
    "N = Y.shape[0]\n",
    "X_mean = gpflow.models.PCA_reduce(Y, Q) # Initialise via PCA\n",
    "Z = np.random.permutation(X_mean.copy())[:M]\n",
    "\n",
    "fHmmm = False\n",
    "if(fHmmm):\n",
    "    k = ekernels.Sum([ekernels.RBF(3, ARD=True, active_dims=slice(0,3)),\n",
    "                  ekernels.Linear(2, ARD=False, active_dims=slice(3,5))])\n",
    "else:\n",
    "    k = ekernels.Sum([ekernels.RBF(3, ARD=True, active_dims=[0,1,2]),\n",
    "                  ekernels.Linear(2, ARD=False, active_dims=[3, 4])])\n",
    "    \n",
    "m = gpflow.models.BayesianGPLVM(X_mean=X_mean, X_var=0.1*np.ones((N, Q)), Y=Y,\n",
    "                                kern=k, M=M, Z=Z)\n",
    "m.likelihood.variance = 0.01\n",
    "\n",
    "opt = gpflow.train.ScipyOptimizer()\n",
    "m.compile()\n",
    "opt.minimize(m)#, options=dict(disp=True, maxiter=100))"
   ]
  },
  {
   "cell_type": "markdown",
   "metadata": {},
   "source": [
    "### Compute and sensitivity to input\n",
    "Sensitivity is a measure of the importance of each latent dimension. "
   ]
  },
  {
   "cell_type": "code",
   "execution_count": 10,
   "metadata": {},
   "outputs": [
    {
     "name": "stdout",
     "output_type": "stream",
     "text": [
      "<Parameter name:\u001b[1mBayesianGPLVM/kern/linear/variance\u001b[0m [trainable] prior:None transform:+ve shape:()>\n",
      "value: 1.002394024753348e-06\n",
      "\n",
      "<Parameter name:\u001b[1mBayesianGPLVM/kern/rbf/variance\u001b[0m [trainable] prior:None transform:+ve shape:()>\n",
      "value: 0.9810831852564732\n",
      "\n",
      "<Parameter name:\u001b[1mBayesianGPLVM/kern/rbf/lengthscales\u001b[0m [trainable] prior:None transform:+ve shape:(3,)>\n",
      "value: [ 4.87448121,  1.28690379,  3.51281023]\n",
      "[ 0.20320038  0.76967404  0.28196696]\n"
     ]
    },
    {
     "data": {
      "text/plain": [
       "<matplotlib.text.Text at 0x1163f2358>"
      ]
     },
     "execution_count": 10,
     "metadata": {},
     "output_type": "execute_result"
    },
    {
     "data": {
      "image/png": "[encoded data removed]",
      "text/plain": [
       "<matplotlib.figure.Figure at 0x1163a22e8>"
      ]
     },
     "metadata": {},
     "output_type": "display_data"
    }
   ],
   "source": [
    "kern = m.kern.kern_list[0]\n",
    "sens = np.sqrt(kern.variance.read_value())/kern.lengthscales.read_value()\n",
    "print(m.kern)\n",
    "print(sens)\n",
    "fig, ax = plt.subplots()\n",
    "ax.bar(np.arange(len(kern.lengthscales.read_value())) , sens, 0.1, color='y')\n",
    "ax.set_title('Sensitivity to latent inputs')"
   ]
  },
  {
   "cell_type": "markdown",
   "metadata": {},
   "source": [
    "### Plotting vs PCA\n",
    "We see that using the 2 more relevant dimensions, the Bayesian GPLVM is able to seperate the\n",
    "three classes while PCA cannot."
   ]
  },
  {
   "cell_type": "code",
   "execution_count": 13,
   "metadata": {},
   "outputs": [
    {
     "data": {
      "image/png": "[encoded data removed]",
      "text/plain": [
       "<matplotlib.figure.Figure at 0x116c0a128>"
      ]
     },
     "metadata": {},
     "output_type": "display_data"
    }
   ],
   "source": [
    "XPCAplot = gpflow.models.PCA_reduce(data['X'], 2)\n",
    "f, ax = plt.subplots(1,2, figsize=(10,6))\n",
    "labels=data['Y'].argmax(axis=1)\n",
    "colors = cm.rainbow(np.linspace(0, 1, len(np.unique(labels))))\n",
    "\n",
    "for i, c in zip(np.unique(labels), colors):\n",
    "    ax[0].scatter(XPCAplot[labels==i,0], XPCAplot[labels==i,1], color=c, label=i)\n",
    "    ax[0].set_title('PCA')\n",
    "    ax[1].scatter(m.X_mean.read_value()[labels==i,1], m.X_mean.read_value()[labels==i,2], color=c, label=i)\n",
    "    ax[1].set_title('Bayesian GPLVM')\n",
    "    "
   ]
  }
 ],
 "metadata": {
  "anaconda-cloud": {},
  "kernelspec": {
   "display_name": "Python [default]",
   "language": "python",
   "name": "python3"
  },
  "language_info": {
   "codemirror_mode": {
    "name": "ipython",
    "version": 3
   },
   "file_extension": ".py",
   "mimetype": "text/x-python",
   "name": "python",
   "nbconvert_exporter": "python",
   "pygments_lexer": "ipython3",
   "version": "3.6.0"
  }
 },
 "nbformat": 4,
 "nbformat_minor": 1
}
