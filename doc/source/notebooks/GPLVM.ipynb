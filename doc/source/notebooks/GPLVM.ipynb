{
 "cells": [
  {
   "cell_type": "markdown",
   "metadata": {},
   "source": [
    "GPLVM\n",
    "--\n",
    "This notebook shows how to build GPLVM model."
   ]
  },
  {
   "cell_type": "code",
   "execution_count": 30,
   "metadata": {
    "collapsed": false
   },
   "outputs": [],
   "source": [
    "import GPflow\n",
    "from GPflow import ekernels\n",
    "from GPflow import kernels\n",
    "import numpy as np\n",
    "import matplotlib as mpl\n",
    "import matplotlib.pyplot as plt\n",
    "import matplotlib.cm as cm\n",
    "plt.style.use('ggplot')\n",
    "%matplotlib inline\n",
    "import pods\n",
    "pods.datasets.overide_manual_authorize = True  # dont ask to authorize\n",
    "GPflow.settings.numerics.quadrature = 'warn'"
   ]
  },
  {
   "cell_type": "code",
   "execution_count": 2,
   "metadata": {
    "collapsed": false
   },
   "outputs": [],
   "source": [
    "data = pods.datasets.oil_100()"
   ]
  },
  {
   "cell_type": "code",
   "execution_count": 3,
   "metadata": {
    "collapsed": false
   },
   "outputs": [
    {
     "data": {
      "text/plain": [
       "<matplotlib.text.Text at 0x7f4f38bd7c88>"
      ]
     },
     "execution_count": 3,
     "metadata": {},
     "output_type": "execute_result"
    },
    {
     "data": {
      "image/png": "[encoded data removed]",
      "text/plain": [
       "<matplotlib.figure.Figure at 0x7f4f40416ac8>"
      ]
     },
     "metadata": {},
     "output_type": "display_data"
    }
   ],
   "source": [
    "# import matplotlib.cm as cm\n",
    "Y = data['X']\n",
    "XPCA = GPflow.gplvm.PCA_reduce(data['X'], 2)\n",
    "labels=data['Y'].argmax(axis=1)\n",
    "colors = cm.rainbow(np.linspace(0, 1, len(np.unique(labels))))\n",
    "for i, c in zip(np.unique(labels), colors):\n",
    "    plt.scatter(XPCA[labels==i,0], XPCA[labels==i,1], color=c, label=i)\n",
    "plt.title('PCA')"
   ]
  },
  {
   "cell_type": "markdown",
   "metadata": {},
   "source": [
    "### Model construction\n",
    "\n",
    "Create Bayesian GPLVM model."
   ]
  },
  {
   "cell_type": "code",
   "execution_count": 17,
   "metadata": {
    "collapsed": false
   },
   "outputs": [],
   "source": [
    "Q = 6\n",
    "M = 10  # number of inducing pts\n",
    "N = Y.shape[0]\n",
    "X_mean = GPflow.gplvm.PCA_reduce(Y, Q) # Initialise via PCA\n",
    "k = ekernels.Add([ekernels.RBF(3, ARD=True, active_dims=[0,1,2]),\n",
    "                  ekernels.Linear(3, active_dims=[3,4,5])])\n",
    "k.num_gauss_hermite_points = 0\n",
    "# kernels.PeriodicKernel(1, active_dims=[1])])\n",
    "Z = np.random.permutation(X_mean.copy())[:M]\n",
    "m = GPflow.gplvm.BayesianGPLVM(X_mean=X_mean, X_var=np.ones((N, Q)), Y=Y,\n",
    "                                kern=k, M=M, Z=Z)\n",
    "m.likelihood.variance = 0.01"
   ]
  },
  {
   "cell_type": "code",
   "execution_count": 31,
   "metadata": {
    "collapsed": false,
    "scrolled": false
   },
   "outputs": [
    {
     "name": "stderr",
     "output_type": "stream",
     "text": [
      "/home/mqbssaby/python/GPflow/GPflow/kernels.py:159: UserWarning: Using numerical quadrature for kernel expectation. Use GPflow.ekernels instead.\n",
      "  warnings.warn(\"Using numerical quadrature for kernel expectation. Use GPflow.ekernels instead.\")\n",
      "/home/mqbssaby/anaconda3/lib/python3.5/site-packages/tensorflow/python/ops/gradients.py:90: UserWarning: Converting sparse IndexedSlices to a dense Tensor of unknown shape. This may consume a large amount of memory.\n",
      "  \"Converting sparse IndexedSlices to a dense Tensor of unknown shape. \"\n"
     ]
    },
    {
     "data": {
      "text/plain": [
       "      fun: array([-159.23343839])\n",
       " hess_inv: <1270x1270 LbfgsInvHessProduct with dtype=float64>\n",
       "      jac: array([  1.07196846e+00,   1.00798641e-12,  -1.67579675e-03, ...,\n",
       "         1.07326062e-05,   3.76560957e-05,  -5.35664843e-02])\n",
       "  message: b'STOP: TOTAL NO. of ITERATIONS EXCEEDS LIMIT'\n",
       "     nfev: 1160\n",
       "      nit: 1001\n",
       "   status: 1\n",
       "  success: False\n",
       "        x: array([ -3.55948347, -37.83393837,   2.04266164, ...,   0.54129649,\n",
       "         0.54143385,   0.43731423])"
      ]
     },
     "execution_count": 31,
     "metadata": {},
     "output_type": "execute_result"
    }
   ],
   "source": [
    "Q = 6\n",
    "M = 10  # number of inducing pts\n",
    "N = Y.shape[0]\n",
    "X_mean = GPflow.gplvm.PCA_reduce(Y, Q) # Initialise via PCA\n",
    "k = ekernels.Add([ekernels.RBF(5, ARD=True, active_dims=[0,1,2,3,4]),\n",
    "                  kernels.PeriodicKernel(1, active_dims=[5])])\n",
    "# \n",
    "Z = np.random.permutation(X_mean.copy())[:M]\n",
    "m = GPflow.gplvm.BayesianGPLVM(X_mean=X_mean, X_var=np.ones((N, Q)), Y=Y,\n",
    "                                kern=k, M=M, Z=Z)\n",
    "m.likelihood.variance = 0.01\n",
    "\n",
    "k.num_gauss_hermite_points = 20 # sum uses quadrature\n",
    "k.kern_list[0].num_gauss_hermite_points = 0 # RBF does not\n",
    "k.kern_list[1].num_gauss_hermite_points = 20 # periodic uses quad\n",
    "\n",
    "m.optimize(disp=True)"
   ]
  },
  {
   "cell_type": "code",
   "execution_count": 19,
   "metadata": {
    "collapsed": true
   },
   "outputs": [],
   "source": [
    "# Plot ARD weights to pick which dimensions to plot"
   ]
  },
  {
   "cell_type": "code",
   "execution_count": 20,
   "metadata": {
    "collapsed": false
   },
   "outputs": [
    {
     "data": {
      "text/plain": [
       "<matplotlib.legend.Legend at 0x7f4ed157ee10>"
      ]
     },
     "execution_count": 20,
     "metadata": {},
     "output_type": "execute_result"
    },
    {
     "data": {
      "image/png": "[encoded data removed]",
      "text/plain": [
       "<matplotlib.figure.Figure at 0x7f4ed19c2358>"
      ]
     },
     "metadata": {},
     "output_type": "display_data"
    }
   ],
   "source": [
    "# plot\n",
    "for i, c in zip(np.unique(labels), colors):\n",
    "    plt.scatter(m.X_mean.value[labels==i,0], m.X_mean.value[labels==i,1], color=c, label=i)\n",
    "plt.legend()"
   ]
  },
  {
   "cell_type": "code",
   "execution_count": 8,
   "metadata": {
    "collapsed": false
   },
   "outputs": [
    {
     "data": {
      "text/plain": [
       "array([0, 1, 2, 3, 4, 5])"
      ]
     },
     "execution_count": 8,
     "metadata": {},
     "output_type": "execute_result"
    }
   ],
   "source": [
    "a=np.arange(6)\n",
    "a"
   ]
  },
  {
   "cell_type": "code",
   "execution_count": 11,
   "metadata": {
    "collapsed": false
   },
   "outputs": [
    {
     "data": {
      "text/plain": [
       "array([0, 1, 2])"
      ]
     },
     "execution_count": 11,
     "metadata": {},
     "output_type": "execute_result"
    }
   ],
   "source": [
    "a[slice(0,3)]"
   ]
  },
  {
   "cell_type": "code",
   "execution_count": 13,
   "metadata": {
    "collapsed": false
   },
   "outputs": [
    {
     "data": {
      "text/plain": [
       "array([3, 4, 5])"
      ]
     },
     "execution_count": 13,
     "metadata": {},
     "output_type": "execute_result"
    }
   ],
   "source": [
    "a[slice(3,6)]"
   ]
  },
  {
   "cell_type": "code",
   "execution_count": null,
   "metadata": {
    "collapsed": true
   },
   "outputs": [],
   "source": []
  }
 ],
 "metadata": {
  "anaconda-cloud": {},
  "kernelspec": {
   "display_name": "Python [default]",
   "language": "python",
   "name": "python3"
  },
  "language_info": {
   "codemirror_mode": {
    "name": "ipython",
    "version": 3
   },
   "file_extension": ".py",
   "mimetype": "text/x-python",
   "name": "python",
   "nbconvert_exporter": "python",
   "pygments_lexer": "ipython3",
   "version": "3.5.2"
  }
 },
 "nbformat": 4,
 "nbformat_minor": 0
}
