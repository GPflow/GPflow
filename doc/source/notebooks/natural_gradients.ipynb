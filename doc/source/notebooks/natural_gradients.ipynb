{
 "cells": [
  {
   "cell_type": "markdown",
   "metadata": {},
   "source": [
    "# Natural gradients\n",
    "\n",
    "This shows some basic usage of the natural gradient optimizer, both on its own and in combination with Adam optimizer."
   ]
  },
  {
   "cell_type": "code",
   "execution_count": 1,
   "metadata": {
    "ExecuteTime": {
     "end_time": "2018-06-13T13:31:56.149218Z",
     "start_time": "2018-06-13T13:31:55.213980Z"
    }
   },
   "outputs": [],
   "source": [
    "from matplotlib import pyplot as plt\n",
    "import warnings\n",
    "import numpy as np\n",
    "import tensorflow as tf\n",
    "import gpflow\n",
    "from gpflow.test_util import notebook_niter, notebook_range\n",
    "from gpflow.actions import Loop, Action\n",
    "from gpflow.models import VGP, GPR, SGPR, SVGP\n",
    "from gpflow.training import NatGradOptimizer, AdamOptimizer, XiSqrtMeanVar\n",
    "\n",
    "%matplotlib inline\n",
    "%precision 4\n",
    "warnings.filterwarnings('ignore')\n",
    "\n",
    "np.random.seed(0)\n",
    "\n",
    "N, D = 100, 2\n",
    "M = 10  # inducing points\n",
    "X = np.random.uniform(size=(N, D))\n",
    "Y = np.sin(10 * X)\n",
    "Z = np.random.uniform(size=(M, D))\n",
    "adam_learning_rate = 0.01\n",
    "iterations = 5\n",
    "    \n",
    "\n",
    "def make_matern_kernel():\n",
    "    return gpflow.kernels.Matern52(D)\n",
    "\n",
    "    \n",
    "class PrintAction(Action):\n",
    "    def __init__(self, model, text):\n",
    "        self.model = model\n",
    "        self.text = text\n",
    "        \n",
    "    def run(self, ctx):\n",
    "        likelihood = ctx.session.run(self.model.likelihood_tensor)\n",
    "        print('{}: iteration {} likelihood {:.4f}'.format(self.text, ctx.iteration, likelihood))"
   ]
  },
  {
   "cell_type": "markdown",
   "metadata": {},
   "source": [
    "### \"VGP is a GPR\""
   ]
  },
  {
   "cell_type": "markdown",
   "metadata": {},
   "source": [
    "Below we will demonstrate how natural gradients can turn VGP into GPR in a *single step, if the likelihood is Gaussian*."
   ]
  },
  {
   "cell_type": "markdown",
   "metadata": {},
   "source": [
    "Let's start by first creating a standard GPR model with Gaussian likelihood:"
   ]
  },
  {
   "cell_type": "code",
   "execution_count": 2,
   "metadata": {
    "ExecuteTime": {
     "end_time": "2018-04-30T09:59:57.799754Z",
     "start_time": "2018-04-30T09:59:57.547423Z"
    }
   },
   "outputs": [
    {
     "name": "stdout",
     "output_type": "stream",
     "text": [
      "The likelihood of the exact GP model is: -231.0899\n"
     ]
    }
   ],
   "source": [
    "gpr = GPR(X, Y, kern=make_matern_kernel())\n",
    "print('The likelihood of the exact GP model is: %.4f' % gpr.compute_log_likelihood())"
   ]
  },
  {
   "cell_type": "markdown",
   "metadata": {},
   "source": [
    "Now we will create an approximate model which approximates the true posterior via a variational Gaussian distribution. <br\\> We initiallize the distribution to be zero mean and unit variance."
   ]
  },
  {
   "cell_type": "code",
   "execution_count": 3,
   "metadata": {
    "ExecuteTime": {
     "end_time": "2018-04-30T09:59:57.799754Z",
     "start_time": "2018-04-30T09:59:57.547423Z"
    }
   },
   "outputs": [
    {
     "name": "stdout",
     "output_type": "stream",
     "text": [
      "The likelihood of the approximate GP model is: -328.8429\n"
     ]
    }
   ],
   "source": [
    "vgp = VGP(X, Y, kern=make_matern_kernel(), likelihood=gpflow.likelihoods.Gaussian())\n",
    "print('The likelihood of the approximate GP model is: %.4f' % vgp.compute_log_likelihood())"
   ]
  },
  {
   "cell_type": "markdown",
   "metadata": {},
   "source": [
    "Obviously, our initial guess for the variational distribution is not correct, which results in a lower bound to the likelihood of the exact GPR model. We can optimize the variational parameters in order to get a tighter bound. "
   ]
  },
  {
   "cell_type": "markdown",
   "metadata": {},
   "source": [
    "In fact, we only need to take **1 step** in the natural gradient direction to recover the exact posterior:"
   ]
  },
  {
   "cell_type": "code",
   "execution_count": 4,
   "metadata": {
    "ExecuteTime": {
     "end_time": "2018-04-30T09:59:58.254414Z",
     "start_time": "2018-04-30T09:59:57.864617Z"
    }
   },
   "outputs": [
    {
     "name": "stdout",
     "output_type": "stream",
     "text": [
      "The likelihood of the approximate GP model after a single natgrad step is: -231.0899982\n"
     ]
    }
   ],
   "source": [
    "natgrad_optimizer = NatGradOptimizer(gamma=1.)\n",
    "natgrad_tensor = natgrad_optimizer.make_optimize_tensor(vgp, var_list=[(vgp.q_mu, vgp.q_sqrt)])\n",
    "session = gpflow.get_default_session()\n",
    "session.run(natgrad_tensor)\n",
    "vgp.anchor(session)  # update the cache of the variational parameters in the current session\n",
    "print('The likelihood of the approximate GP model after a single natgrad step is: %.7f' % vgp.compute_log_likelihood())"
   ]
  },
  {
   "cell_type": "markdown",
   "metadata": {},
   "source": [
    "### Let's optimize both variational parameters and kernel hyperparameters together?\n",
    "\n",
    "In the Gaussian likelihood case we can iterate between an Adam update for the hyperparameters and a NatGrad update <br\\>for the variational parameters. That way, we achieve optimization of hyperparameters as if the model were a GPR."
   ]
  },
  {
   "cell_type": "markdown",
   "metadata": {},
   "source": [
    "The trick is to forbid Adam from updating the variational parameters by setting them to not trainable. <br\\>\n",
    "Then, after expclicitly pass "
   ]
  },
  {
   "cell_type": "code",
   "execution_count": 5,
   "metadata": {},
   "outputs": [],
   "source": [
    "# Stop Adam from optimizing the variational parameters\n",
    "vgp.q_mu.trainable = False\n",
    "vgp.q_sqrt.trainable = False\n",
    "\n",
    "# Create new Adam tensors for each model\n",
    "adam_for_vgp_tensor = AdamOptimizer(learning_rate=adam_learning_rate).make_optimize_tensor(vgp)\n",
    "adam_for_gpr_tensor = AdamOptimizer(learning_rate=adam_learning_rate).make_optimize_tensor(gpr)\n",
    "\n",
    "natgrad_tensor = NatGradOptimizer(1.).make_optimize_tensor(vgp, var_list=[(vgp.q_mu, vgp.q_sqrt)])"
   ]
  },
  {
   "cell_type": "code",
   "execution_count": 6,
   "metadata": {},
   "outputs": [
    {
     "name": "stdout",
     "output_type": "stream",
     "text": [
      "GPR with Adam: iteration 1 likelihood -231.0480\n",
      "GPR with Adam: iteration 2 likelihood -231.0061\n",
      "GPR with Adam: iteration 3 likelihood -230.9642\n",
      "GPR with Adam: iteration 4 likelihood -230.9223\n",
      "GPR with Adam: iteration 5 likelihood -230.8804\n"
     ]
    }
   ],
   "source": [
    "for i in range(iterations):\n",
    "    session.run(adam_for_gpr_tensor)\n",
    "    print('GPR with Adam: iteration %d likelihood %.4f' % (i + 1, session.run(gpr.likelihood_tensor)))\n",
    "\n",
    "gpr.anchor(session)  # update the cache of the parameters in the current session"
   ]
  },
  {
   "cell_type": "code",
   "execution_count": 7,
   "metadata": {},
   "outputs": [
    {
     "name": "stdout",
     "output_type": "stream",
     "text": [
      "VGP with natural gradients and Adam: iteration 1 likelihood -231.0481\n",
      "VGP with natural gradients and Adam: iteration 2 likelihood -231.0062\n",
      "VGP with natural gradients and Adam: iteration 3 likelihood -230.9643\n",
      "VGP with natural gradients and Adam: iteration 4 likelihood -230.9224\n",
      "VGP with natural gradients and Adam: iteration 5 likelihood -230.8804\n"
     ]
    }
   ],
   "source": [
    "for i in range(iterations):\n",
    "    session.run(adam_for_vgp_tensor)\n",
    "    session.run(natgrad_tensor)\n",
    "    print('VGP with natural gradients and Adam: iteration %d likelihood %.4f'\n",
    "          % (i + 1, session.run(vgp.likelihood_tensor)))\n",
    "\n",
    "# We need to alter their trainable status in order to correctly anchor them in the current session\n",
    "vgp.q_mu.trainable = True\n",
    "vgp.q_sqrt.trainable = True\n",
    "vgp.anchor(session)  # update the cache of the parameters (including the variational) in the current session"
   ]
  },
  {
   "cell_type": "markdown",
   "metadata": {},
   "source": [
    "Method for running Adam optimization on GPR:"
   ]
  },
  {
   "cell_type": "code",
   "execution_count": 6,
   "metadata": {
    "ExecuteTime": {
     "end_time": "2018-04-30T09:59:58.259075Z",
     "start_time": "2018-04-30T09:59:58.255558Z"
    }
   },
   "outputs": [],
   "source": [
    "def run_adam(model, lr, iterations, callback=None):\n",
    "    adam = AdamOptimizer(lr).make_optimize_action(model)\n",
    "    actions = [adam] if callback is None else [adam, callback]\n",
    "    loop = Loop(actions, stop=iterations)()\n",
    "    model.anchor(model.enquire_session())"
   ]
  },
  {
   "cell_type": "markdown",
   "metadata": {},
   "source": [
    "Method for running Adam and Natural gradients optimization on VGP. The hyperparameters at the end should match the GPR model."
   ]
  },
  {
   "cell_type": "code",
   "execution_count": 7,
   "metadata": {
    "ExecuteTime": {
     "end_time": "2018-04-30T09:59:58.270623Z",
     "start_time": "2018-04-30T09:59:58.260311Z"
    }
   },
   "outputs": [],
   "source": [
    "def run_nat_grads_with_adam(model, lr, gamma, iterations, var_list=None, callback=None):\n",
    "    # we'll make use of this later when we use a XiTransform\n",
    "    if var_list is None:\n",
    "        var_list = [(model.q_mu, model.q_sqrt)]\n",
    "\n",
    "    # we don't want adam optimizing these\n",
    "    model.q_mu.set_trainable(False)\n",
    "    model.q_sqrt.set_trainable(False)\n",
    "\n",
    "    adam = AdamOptimizer(lr).make_optimize_action(model)\n",
    "    natgrad = NatGradOptimizer(gamma).make_optimize_action(model, var_list=var_list)\n",
    "    \n",
    "    actions = [adam, natgrad]\n",
    "    actions = actions if callback is None else actions + [callback]\n",
    "\n",
    "    Loop(actions, stop=iterations)()\n",
    "    model.anchor(model.enquire_session())"
   ]
  },
  {
   "cell_type": "markdown",
   "metadata": {},
   "source": [
    "Compare GPR and VGP lengthscales after optimisation:"
   ]
  },
  {
   "cell_type": "code",
   "execution_count": 10,
   "metadata": {
    "ExecuteTime": {
     "end_time": "2018-04-30T09:59:59.505965Z",
     "start_time": "2018-04-30T09:59:59.503129Z"
    }
   },
   "outputs": [
    {
     "name": "stdout",
     "output_type": "stream",
     "text": [
      "GPR lengthscales = 0.9968, VGP lengthscales = 0.9968\n"
     ]
    }
   ],
   "source": [
    "print('GPR lengthscales = %.4f, VGP lengthscales = %.4f'\n",
    "      % (gpr.kern.lengthscales.value, vgp.kern.lengthscales.value)\n",
    ")"
   ]
  },
  {
   "cell_type": "markdown",
   "metadata": {},
   "source": [
    "### Natural gradients also work for the sparse model\n",
    "Similartly, natural gradients turn SVGP into SGPR in the Gaussian likelihood case. <br\\>\n",
    "We can apply the above with hyperparameters, too, though here we'll just do a single step."
   ]
  },
  {
   "cell_type": "code",
   "execution_count": 12,
   "metadata": {
    "ExecuteTime": {
     "end_time": "2018-04-30T09:59:59.946016Z",
     "start_time": "2018-04-30T09:59:59.507143Z"
    }
   },
   "outputs": [],
   "source": [
    "svgp = SVGP(X, Y, kern=make_matern_kernel(), likelihood=gpflow.likelihoods.Gaussian(), Z=Z)\n",
    "sgpr = SGPR(X, Y, kern=make_matern_kernel(), Z=Z)\n",
    "\n",
    "for model in svgp, sgpr:\n",
    "    model.likelihood.variance = 0.1"
   ]
  },
  {
   "cell_type": "code",
   "execution_count": 9,
   "metadata": {
    "ExecuteTime": {
     "end_time": "2018-04-30T09:59:59.994121Z",
     "start_time": "2018-04-30T09:59:59.947360Z"
    }
   },
   "outputs": [
    {
     "name": "stdout",
     "output_type": "stream",
     "text": [
      "Analytically optimal sparse model likelihood: -281.5616\n"
     ]
    }
   ],
   "source": [
    "print('Analytically optimal sparse model likelihood: %.4f' % sgpr.compute_log_likelihood())"
   ]
  },
  {
   "cell_type": "code",
   "execution_count": 10,
   "metadata": {
    "ExecuteTime": {
     "end_time": "2018-04-30T10:00:00.052847Z",
     "start_time": "2018-04-30T09:59:59.995545Z"
    }
   },
   "outputs": [
    {
     "name": "stdout",
     "output_type": "stream",
     "text": [
      "SVGP likelihood before natural gradient step: -1404.0805\n"
     ]
    }
   ],
   "source": [
    "print('SVGP likelihood before natural gradient step: %.4f' % svgp.compute_log_likelihood())"
   ]
  },
  {
   "cell_type": "code",
   "execution_count": 13,
   "metadata": {
    "ExecuteTime": {
     "end_time": "2018-04-30T10:00:00.691979Z",
     "start_time": "2018-04-30T10:00:00.053823Z"
    }
   },
   "outputs": [
    {
     "name": "stdout",
     "output_type": "stream",
     "text": [
      "SVGP likelihood after a single natural gradient step: -281.5616\n"
     ]
    }
   ],
   "source": [
    "natgrad_tensor = NatGradOptimizer(1.).make_optimize_tensor(svgp, var_list=[(svgp.q_mu, svgp.q_sqrt)])\n",
    "session = gpflow.get_default_session()\n",
    "session.run(natgrad_tensor)\n",
    "svgp.anchor(session)  # update the cache of the variational parameters in the current session\n",
    "print('SVGP likelihood after a single natural gradient step: %.4f' % svgp.compute_log_likelihood())"
   ]
  },
  {
   "cell_type": "markdown",
   "metadata": {},
   "source": [
    "### Minibatches\n",
    "A crucial property of the natural gradient method is that it still works with minibatches. We need to use a smaller gamma."
   ]
  },
  {
   "cell_type": "code",
   "execution_count": 20,
   "metadata": {
    "ExecuteTime": {
     "end_time": "2018-04-30T10:00:01.667254Z",
     "start_time": "2018-04-30T10:00:00.692973Z"
    }
   },
   "outputs": [],
   "source": [
    "svgp = SVGP(X, Y, kern=make_matern_kernel(), likelihood=gpflow.likelihoods.Gaussian(), Z=Z, minibatch_size=50)\n",
    "svgp.likelihood.variance = 0.1\n",
    "\n",
    "natgrad_tensor = \\\n",
    "    NatGradOptimizer(.1).make_optimize_tensor(svgp, var_list=[(svgp.q_mu, svgp.q_sqrt)])\n",
    "\n",
    "for _ in range(notebook_niter(100)):\n",
    "    session.run(natgrad_tensor)\n",
    "\n",
    "svgp.anchor(session)"
   ]
  },
  {
   "cell_type": "code",
   "execution_count": 21,
   "metadata": {
    "ExecuteTime": {
     "end_time": "2018-04-30T10:00:03.742541Z",
     "start_time": "2018-04-30T10:00:01.668715Z"
    }
   },
   "outputs": [
    {
     "name": "stdout",
     "output_type": "stream",
     "text": [
      "Minibatch SVGP likelihood after NatGrad optimization: -282.1565\n"
     ]
    }
   ],
   "source": [
    "likelihood = np.average([svgp.compute_log_likelihood() for _ in notebook_range(1000)])\n",
    "print('Minibatch SVGP likelihood after NatGrad optimization: %.4f' % likelihood)"
   ]
  },
  {
   "cell_type": "markdown",
   "metadata": {},
   "source": [
    "### Comparison with ordinary gradients in the conjugate case\n",
    "\n",
    "#### (Take home message: natural gradients are always better)\n",
    "\n",
    "Compared to SVGP with ordinary gradients with minibatches, the natural gradient optimizer is much faster in the Gaussian case. \n",
    "\n",
    "Here we'll do hyperparameter learning together with optimization of the variational parameters, comparing the interleaved natural gradient approach and the one using ordinary gradients for the hyperparameters and variational parameters jointly.\n",
    "\n",
    "Note that again we need to compromise for smaller gamma value, which we'll keep *fixed* during the optimisation."
   ]
  },
  {
   "cell_type": "code",
   "execution_count": 15,
   "metadata": {
    "ExecuteTime": {
     "end_time": "2018-06-13T13:32:06.105670Z",
     "start_time": "2018-06-13T13:32:02.550268Z"
    }
   },
   "outputs": [],
   "source": [
    "svgp_ordinary = SVGP(X, Y, kern=make_matern_kernel(),\n",
    "                     likelihood=gpflow.likelihoods.Gaussian(), Z=Z, minibatch_size=50)\n",
    "svgp_natgrad = SVGP(X, Y, kern=make_matern_kernel(),\n",
    "                    likelihood=gpflow.likelihoods.Gaussian(), Z=Z, minibatch_size=50)\n",
    "\n",
    "# ordinary gradients with Adam for SVGP\n",
    "adam_for_svgp_ordinary_tensor = \\\n",
    "    AdamOptimizer(adam_learning_rate).make_optimize_tensor(svgp_ordinary)\n",
    "\n",
    "# NatGrads and Adam for SVGP\n",
    "# Stop Adam from optimizing the variational parameters\n",
    "svgp_natgrad.q_mu.trainable = False\n",
    "svgp_natgrad.q_sqrt.trainable = False\n",
    "\n",
    "# Create the optimize_tensors for SVGP\n",
    "adam_for_svgp_natgrad_tensor = \\\n",
    "    AdamOptimizer(adam_learning_rate).make_optimize_tensor(svgp_natgrad)\n",
    "natgrad_tensor = \\\n",
    "    NatGradOptimizer(.1).make_optimize_tensor(svgp_natgrad, var_list=[(svgp_natgrad.q_mu, svgp_natgrad.q_sqrt)])"
   ]
  },
  {
   "cell_type": "markdown",
   "metadata": {},
   "source": [
    "Let's optimise the models now:"
   ]
  },
  {
   "cell_type": "code",
   "execution_count": 16,
   "metadata": {},
   "outputs": [],
   "source": [
    "# Optimize svgp_ordinary\n",
    "for _ in range(iterations):\n",
    "    session.run(adam_for_svgp_ordinary_tensor)\n",
    "\n",
    "svgp_ordinary.anchor(session)\n",
    "\n",
    "# Optimize svgp_natgrad\n",
    "for _ in range(iterations):\n",
    "    session.run(adam_for_svgp_natgrad_tensor)\n",
    "    session.run(natgrad_tensor)\n",
    "\n",
    "svgp_natgrad.anchor(session)"
   ]
  },
  {
   "cell_type": "code",
   "execution_count": 17,
   "metadata": {},
   "outputs": [
    {
     "name": "stdout",
     "output_type": "stream",
     "text": [
      "SVGP likelihood after ordinary Adam optimization: -326.4687\n"
     ]
    }
   ],
   "source": [
    "likelihood = np.average([svgp_ordinary.compute_log_likelihood() for _ in notebook_range(1000)])\n",
    "print('SVGP likelihood after ordinary Adam optimization: %.4f' % likelihood)"
   ]
  },
  {
   "cell_type": "code",
   "execution_count": 18,
   "metadata": {},
   "outputs": [
    {
     "name": "stdout",
     "output_type": "stream",
     "text": [
      "SVGP likelihood after NatGrad and Adam optimization: -234.2673\n"
     ]
    }
   ],
   "source": [
    "likelihood = np.average([svgp_natgrad.compute_log_likelihood() for _ in notebook_range(1000)])\n",
    "print('SVGP likelihood after NatGrad and Adam optimization: %.4f' % likelihood)"
   ]
  },
  {
   "cell_type": "markdown",
   "metadata": {},
   "source": [
    "### Comparison with ordinary gradients in the non-conjugate case\n",
    "\n",
    "#### (Take home message: natural gradients are usually better)\n",
    "\n",
    "We can use nat grads even when the likelihood isn't Gaussian. It isn't guaranteed to be better, but it usually is better in practical situations."
   ]
  },
  {
   "cell_type": "code",
   "execution_count": 26,
   "metadata": {
    "ExecuteTime": {
     "end_time": "2018-06-13T13:32:13.397570Z",
     "start_time": "2018-06-13T13:32:10.157801Z"
    }
   },
   "outputs": [],
   "source": [
    "Y_binary = np.random.choice([1., -1], size=X.shape)\n",
    "\n",
    "vgp_bernoulli = VGP(X, Y_binary, kern=make_matern_kernel(), likelihood=gpflow.likelihoods.Bernoulli())\n",
    "vgp_bernoulli_natgrad = VGP(X, Y_binary, kern=make_matern_kernel(), likelihood=gpflow.likelihoods.Bernoulli())\n",
    "\n",
    "# ordinary gradients with Adam for VGP with Bernoulli likelihood\n",
    "adam_for_vgp_bernoulli_tensor = \\\n",
    "    AdamOptimizer(adam_learning_rate).make_optimize_tensor(vgp_bernoulli)\n",
    "\n",
    "# NatGrads and Adam for VGP with Bernoulli likelihood\n",
    "# Stop Adam from optimizing the variational parameters\n",
    "vgp_bernoulli_natgrad.q_mu.trainable = False\n",
    "vgp_bernoulli_natgrad.q_sqrt.trainable = False\n",
    "\n",
    "# Create the optimize_tensors for VGP with natural gradients\n",
    "adam_for_vgp_bernoulli_natgrad_tensor = \\\n",
    "    AdamOptimizer(adam_learning_rate).make_optimize_tensor(vgp_bernoulli_natgrad)\n",
    "\n",
    "natgrad_tensor = \\\n",
    "    NatGradOptimizer(.1).make_optimize_tensor(\n",
    "        vgp_bernoulli_natgrad,\n",
    "        var_list=[(vgp_bernoulli_natgrad.q_mu, vgp_bernoulli_natgrad.q_sqrt)]\n",
    "    )"
   ]
  },
  {
   "cell_type": "code",
   "execution_count": 27,
   "metadata": {},
   "outputs": [],
   "source": [
    "# Optimize vgp_bernoulli\n",
    "for _ in range(iterations):\n",
    "    session.run(adam_for_vgp_bernoulli_tensor)\n",
    "\n",
    "vgp_bernoulli.anchor(session)\n",
    "\n",
    "# Optimize vgp_bernoulli_natgrad\n",
    "for _ in range(iterations):\n",
    "    session.run(adam_for_vgp_bernoulli_natgrad_tensor)\n",
    "    session.run(natgrad_tensor)\n",
    "\n",
    "vgp_bernoulli_natgrad.anchor(session)"
   ]
  },
  {
   "cell_type": "code",
   "execution_count": 28,
   "metadata": {},
   "outputs": [
    {
     "name": "stdout",
     "output_type": "stream",
     "text": [
      "VGP likelihood after ordinary Adam optimization: -197.2783\n"
     ]
    }
   ],
   "source": [
    "print('VGP likelihood after ordinary Adam optimization: %.4f' % vgp_bernoulli.compute_log_likelihood())"
   ]
  },
  {
   "cell_type": "code",
   "execution_count": 29,
   "metadata": {},
   "outputs": [
    {
     "name": "stdout",
     "output_type": "stream",
     "text": [
      "VGP likelihood after NatGrad + Adam optimization: -144.4137\n"
     ]
    }
   ],
   "source": [
    "print('VGP likelihood after NatGrad + Adam optimization: %.4f'\n",
    "      % vgp_bernoulli_natgrad.compute_log_likelihood())"
   ]
  },
  {
   "cell_type": "markdown",
   "metadata": {},
   "source": [
    "We can also choose to run natural gradients in another parameterization.<br\\>\n",
    "The \n",
    "sensible choice is the model parameters (q_mu, q_sqrt), which is already in gpflow."
   ]
  },
  {
   "cell_type": "code",
   "execution_count": 33,
   "metadata": {},
   "outputs": [],
   "source": [
    "vgp_bernoulli_natgrads_xi = VGP(X, Y_binary,\n",
    "                                kern=make_matern_kernel(), likelihood=gpflow.likelihoods.Bernoulli())\n",
    "\n",
    "var_list = [(vgp_bernoulli_natgrads_xi.q_mu, vgp_bernoulli_natgrads_xi.q_sqrt, XiSqrtMeanVar())]\n",
    "\n",
    "# Stop Adam from optimizing the variational parameters\n",
    "vgp_bernoulli_natgrads_xi.q_mu.trainable = False\n",
    "vgp_bernoulli_natgrads_xi.q_sqrt.trainable = False\n",
    "\n",
    "# Create the optimize_tensors for VGP with Bernoulli likelihood\n",
    "adam_for_vgp_bernoulli_natgrads_xi_tensor = \\\n",
    "    AdamOptimizer(adam_learning_rate).make_optimize_tensor(vgp_bernoulli_natgrads_xi)\n",
    "\n",
    "natgrad_tensor = \\\n",
    "    NatGradOptimizer(.01).make_optimize_tensor(\n",
    "        vgp_bernoulli_natgrads_xi,\n",
    "        var_list=var_list\n",
    "    )"
   ]
  },
  {
   "cell_type": "code",
   "execution_count": 34,
   "metadata": {},
   "outputs": [],
   "source": [
    "# Optimize vgp_bernoulli_natgrads_xi\n",
    "for _ in range(iterations):\n",
    "    session.run(adam_for_vgp_bernoulli_natgrads_xi_tensor)\n",
    "    session.run(natgrad_tensor)\n",
    "\n",
    "vgp_bernoulli_natgrads_xi.anchor(session)"
   ]
  },
  {
   "cell_type": "code",
   "execution_count": 35,
   "metadata": {
    "ExecuteTime": {
     "end_time": "2018-06-13T13:32:15.641457Z",
     "start_time": "2018-06-13T13:32:15.580550Z"
    }
   },
   "outputs": [
    {
     "name": "stdout",
     "output_type": "stream",
     "text": [
      "VGP likelihood after NatGrads with XiSqrtMeanVar + Adam optimization: -158.1457\n"
     ]
    }
   ],
   "source": [
    "print('VGP likelihood after NatGrads with XiSqrtMeanVar + Adam optimization: %.4f'\n",
    "      % vgp_bernoulli_natgrads_xi.compute_log_likelihood())"
   ]
  },
  {
   "cell_type": "markdown",
   "metadata": {},
   "source": [
    "With sufficiently small steps, it shouldn't make a difference which transform is used, but for large \n",
    "steps this can make a difference in practice."
   ]
  }
 ],
 "metadata": {
  "kernelspec": {
   "display_name": "Python 3",
   "language": "python",
   "name": "python3"
  },
  "language_info": {
   "codemirror_mode": {
    "name": "ipython",
    "version": 3
   },
   "file_extension": ".py",
   "mimetype": "text/x-python",
   "name": "python",
   "nbconvert_exporter": "python",
   "pygments_lexer": "ipython3",
   "version": "3.5.4"
  }
 },
 "nbformat": 4,
 "nbformat_minor": 2
}
