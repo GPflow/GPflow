{
 "cells": [
  {
   "cell_type": "code",
   "execution_count": 48,
   "metadata": {
    "collapsed": false,
    "deletable": true,
    "editable": true
   },
   "outputs": [],
   "source": [
    "import numpy as np\n",
    "import GPy\n",
    "\n",
    "from mcmcGP import BinnedPoisson, GPMCMC, SGPMCMC, HMC\n",
    "from jug import TaskGenerator as TG\n",
    "\n",
    "def load_rouses():\n",
    "    data = np.genfromtxt('rouses_prod97725_store57.csv',delimiter=',',names = True,usecols=(3,4,5,6), \\\n",
    "    dtype=[('SalesDate','S10'),('Quantity',np.float),('Revenue',np.float),('TotalCost',np.float)])\n",
    "\n",
    "    dates = np.arange(0,len(data['SalesDate'])) # integer weeks\n",
    "    Q = data['Quantity']\n",
    "    rev = data['Revenue']\n",
    "    cost = data['TotalCost']\n",
    "    price = rev/cost\n",
    "    X = np.vstack((dates,price)).T\n",
    "    Y = Q\n",
    "    return X,Y\n",
    "\n",
    "#@TG\n",
    "def build_vb(bin_mids, counts, num_inducing, seed):\n",
    "    np.random.seed(seed)\n",
    "\n",
    "    # grid Z\n",
    "    Z = np.linspace(bin_mids.min(), bin_mids.max(), num_inducing).reshape(-1,1)\n",
    "\n",
    "    lik = BinnedPoisson(np.diff(bin_mids.flat)[0])\n",
    "    kern = GPy.kern.Matern52(1, lengthscale=10.) + GPy.kern.White(1, 5) + GPy.kern.Bias(1) \n",
    "\n",
    "    #pr = GPy.priors.Gamma(1., .3)\n",
    "    #kern.set_prior(pr)\n",
    "    return GPy.core.SVGP(X=bin_mids.reshape(-1,1), Y=counts.reshape(-1,1), Z=Z, kernel=kern, likelihood=lik)\n",
    "\n",
    "#@TG\n",
    "def build_mc_sparse(bin_mids, counts, num_inducing, seed):\n",
    "    # grid Z\n",
    "    Z = np.linspace(bin_mids.min(), bin_mids.max(), num_inducing).reshape(-1,1)\n",
    "\n",
    "    lik = BinnedPoisson(np.diff(bin_mids.flat)[0])\n",
    "    kern = GPy.kern.Matern52(1, lengthscale=10.) + GPy.kern.White(1, 5) + GPy.kern.Bias(1)\n",
    "    kern.Mat52.lengthscale.set_prior(GPy.priors.Gamma(10., 1.))\n",
    "    kern.Mat52.variance.set_prior(GPy.priors.Gamma(5., 1.))\n",
    "    kern.bias.variance.set_prior(GPy.priors.Gamma(1., .3))\n",
    "    #kern.white.variance.fix(1e-6)\n",
    "\n",
    "    return SGPMCMC(X=bin_mids.reshape(-1,1), Y=counts.reshape(-1,1), Z=Z, kernel=kern, likelihood=lik)\n",
    "\n",
    "#@TG\n",
    "def optimize_vb(m, max_iters=1000):\n",
    "    m.kern.fix()\n",
    "    m.optimize('bfgs', max_iters=100,messages=True)\n",
    "    m.kern.constrain_positive()\n",
    "    m.optimize('bfgs', max_iters=max_iters, messages=True)\n",
    "    return m\n",
    "\n",
    "#@TG\n",
    "def init_mc_model_from_vb(m_mcmc, m_vb):\n",
    "    #take the optimized vb model, and use it to init the mcmc mode\n",
    "    m_mcmc.kern[:] = m_vb.kern[:]\n",
    "    m_mcmc.Z[:] = m_vb.Z[:]\n",
    "    m_mcmc.Z.fix()\n",
    "    L = GPy.util.choleskies.flat_to_triang(m_vb.q_u_chol)[0,:,:]\n",
    "    u_sample = np.dot(L, np.random.randn(m_vb.num_inducing))\n",
    "    u_sample += m_vb.q_u_mean.flatten()\n",
    "    L = GPy.util.linalg.jitchol(m_mcmc.kern.K(m_mcmc.Z))\n",
    "    v_sample, _ = GPy.util.linalg.dtrtrs(L, u_sample)\n",
    "    #v_sample = np.dot(L, np.random.randn(L.shape[0],1)) + m_vb.q_u_mean\n",
    "    m_mcmc.V[:] = v_sample.reshape(-1,1)\n",
    "    return m_mcmc\n",
    "\n",
    "#@TG\n",
    "def split_train_test(X, Y, seed, Ntrain, bins):\n",
    "    np.random.seed(seed)\n",
    "    i = np.random.permutation(X.size)\n",
    "    Xtrain, Xtest = np.asarray(X[i[:Ntrain]],dtype=np.int), np.asarray(X[i[Ntrain:]],dtype=np.int)\n",
    "    Xtrain = np.sort(Xtrain) # Keep temporal ordering\n",
    "    Xtest = np.sort(Xtest) # Keep temporal ordering\n",
    "    Ytrain = []; Ytest = []\n",
    "    for k in range(1,len(bins)):\n",
    "        Ytrain.append(Y[Xtrain[k-1:k]].sum())\n",
    "        Ytest.append(Y[Xtest[k-1:k]].sum())\n",
    "    Ytrain = np.asarray(Ytrain); Ytest = np.asarray(Ytest)\n",
    "    dataset = dict(Ytrain=Ytrain, Ytest=Ytest)\n",
    "\n",
    "    return dataset\n",
    "\n",
    "#@TG\n",
    "def run_hmc(m, N):\n",
    "    def f(x):\n",
    "        return (-a for a in m._objective_grads(x))\n",
    "    samples, rate = HMC(f, N, Lmax=40, epsilon=0.08, x0=m.optimizer_array)\n",
    "    return samples\n",
    "\n",
    "#@TG\n",
    "def get_samples_vb(m, num_samples):\n",
    "    mu, var = m._raw_predict(m.X, full_cov=True)\n",
    "    samples = np.random.multivariate_normal(mu.flat, var.squeeze(), num_samples).T\n",
    "    return samples\n",
    "#@TG\n",
    "def log_predictive_density(m, fsamples, Ytest):\n",
    "    pdfs = m.likelihood.pdf(fsamples, Ytest.reshape(-1,1))\n",
    "    pdfs = np.mean(pdfs,1) # average the density across samples\n",
    "    logpdfs = np.log(pdfs)\n",
    "    return np.mean(logpdfs) # average the log density across bins\n",
    "\n",
    "#@TG\n",
    "def get_samples_mc(m, samples, numsamples):\n",
    "    ms, vs = [],[]\n",
    "    for s in samples:\n",
    "        m.optimizer_array = s\n",
    "        mui, vi = m.predict_raw(m.X, full_cov=True)\n",
    "        ms.append(mui); vs.append(vi)\n",
    "\n",
    "    samples = np.hstack([np.random.multivariate_normal(mu.flat, var, numsamples).T for mu, var in zip(ms, vs)])\n",
    "    return samples\n",
    "\n",
    "\n",
    "class Experiment:\n",
    "    def __init__(self, seed, Ntrain,  num_grid, num_inducing, num_samples, vb_iterations):\n",
    "        self.seed, self.Ntrain,  self.num_grid, self.num_inducing, num_samples = seed, Ntrain,  num_grid, num_inducing, num_samples\n",
    "        np.random.seed(seed)\n",
    "\n",
    "        #X = load_coal()\n",
    "        X,Y = load_rouses()\n",
    "        X = X[:,0] # Just the times\n",
    "        \n",
    "        bins = np.linspace(X.min(), X.max(), num_grid+1)\n",
    "        bin_mids = bins[:-1]+np.diff(bins)\n",
    "\n",
    "        self.data = split_train_test(X, Y, seed, Ntrain, bins)\n",
    "\n",
    "        self.m_vb = build_vb(bin_mids, self.data['Ytrain'], num_inducing, seed)\n",
    "        self.m_vb = optimize_vb(self.m_vb,vb_iterations)\n",
    "\n",
    "        self.m_mc = build_mc_sparse(bin_mids, self.data['Ytrain'], num_inducing, seed)\n",
    "        self.m_mc = init_mc_model_from_vb(self.m_mc, self.m_vb)\n",
    "\n",
    "        self.m_mc.kern.Mat52.constrain(GPy.core.parameterization.transformations.Exponent())\n",
    "        self.m_mc.kern.bias.constrain(GPy.core.parameterization.transformations.Exponent())\n",
    "        self.samples = run_hmc(self.m_mc, num_samples)\n",
    "\n",
    "        self.fsamples_vb = get_samples_vb(self.m_vb, 10000)\n",
    "        self.log_pred_vb = log_predictive_density(self.m_vb, self.fsamples_vb, self.data['Ytest'])\n",
    "        self.fsamples_mc = get_samples_mc(self.m_mc, self.samples[::2], 10)\n",
    "        self.log_pred_mc = log_predictive_density(self.m_mc, self.fsamples_mc, self.data['Ytest'])\n"
   ]
  },
  {
   "cell_type": "code",
   "execution_count": null,
   "metadata": {
    "collapsed": false,
    "deletable": true,
    "editable": true
   },
   "outputs": [
    {
     "name": "stdout",
     "output_type": "stream",
     "text": [
      "WARNING: reconstraining parameters SVGP.sum\n",
      "WARNING: reconstraining parameters sum.Mat52.lengthscale\n",
      "WARNING: reconstraining parameters sum.Mat52.variance\n",
      "WARNING: reconstraining parameters sum.bias.variance\n",
      "WARNING: reconstraining parameters sgpmcmc.sum.Mat52\n",
      "WARNING: reconstraining parameters sgpmcmc.sum.bias\n",
      "Iteration:  100 \t Acc Rate:  0.0 %\n",
      "Iteration:  200 \t Acc Rate:  0.0 %\n",
      "Iteration:  300 \t Acc Rate:  0.0 %\n",
      "Iteration:  400 \t Acc Rate:  0.0 %\n",
      "Iteration:  500 \t Acc Rate:  0.0 %\n",
      "Iteration:  600 \t Acc Rate:  0.0 %\n",
      "Iteration:  700 \t Acc Rate:  0.0 %\n",
      "Iteration:  800 \t Acc Rate:  0.0 %\n",
      "Iteration:  900 \t Acc Rate:  0.0 %\n",
      "Iteration:  1000 \t Acc Rate:  0.0 %\n",
      "Iteration:  1100 \t Acc Rate:  0.0 %\n",
      "Iteration:  1200 \t Acc Rate:  0.0 %\n",
      "Iteration:  1300 \t Acc Rate:  0.0 %\n",
      "Iteration:  1400 \t Acc Rate:  0.0 %\n",
      "Iteration:  1500 \t Acc Rate:  0.0 %\n",
      "Iteration:  1600 \t Acc Rate:  0.0 %\n",
      "Iteration:  1700 \t Acc Rate:  0.0 %\n",
      "Iteration:  1800 \t Acc Rate:  0.0 %\n",
      "Iteration:  1900 \t Acc Rate:  0.0 %\n",
      "Iteration:  2000 \t Acc Rate:  0.0 %\n",
      "Iteration:  2100 \t Acc Rate:  0.0 %\n",
      "Iteration:  2200 \t Acc Rate:  0.0 %\n",
      "Iteration:  2300 \t Acc Rate:  0.0 %\n",
      "Iteration:  2400 \t Acc Rate:  0.0 %\n",
      "Iteration:  2500 \t Acc Rate:  0.0 %\n",
      "Iteration:  2600 \t Acc Rate:  1.0 %\n",
      "Iteration:  2700 \t Acc Rate:  0.0 %\n",
      "Iteration:  2800 \t Acc Rate:  0.0 %\n",
      "Iteration:  2900 \t Acc Rate:  1.0 %\n",
      "Iteration:  3000 \t Acc Rate:  0.0 %\n",
      "Iteration:  3100 \t Acc Rate:  0.0 %\n",
      "Iteration:  3200 \t Acc Rate:  0.0 %\n",
      "Iteration:  3300 \t Acc Rate:  0.0 %\n",
      "Iteration:  3400 \t Acc Rate:  0.0 %\n",
      "Iteration:  3500 \t Acc Rate:  0.0 %\n",
      "Iteration:  3600 \t Acc Rate:  0.0 %\n",
      "Iteration:  3700 \t Acc Rate:  0.0 %\n",
      "Iteration:  3800 \t Acc Rate:  1.0 %\n",
      "Iteration:  3900 \t Acc Rate:  0.0 %\n",
      "Iteration:  4000 \t Acc Rate:  0.0 %\n",
      "Iteration:  4100 \t Acc Rate:  0.0 %\n",
      "Iteration:  4200 \t Acc Rate:  0.0 %\n",
      "Iteration:  4300 \t Acc Rate:  0.0 %\n",
      "Iteration:  4400 \t Acc Rate:  0.0 %\n",
      "Iteration:  4500 \t Acc Rate:  1.0 %\n",
      "Iteration:  4600 \t Acc Rate:  0.0 %\n",
      "Iteration:  4700 \t Acc Rate:  0.0 %\n",
      "Iteration:  4800 \t Acc Rate:  0.0 %\n",
      "Iteration:  4900 \t Acc Rate:  1.0 %\n",
      "Iteration:  5000 \t Acc Rate:  0.0 %\n",
      "Iteration:  5100 \t Acc Rate:  0.0 %\n",
      "Iteration:  5200 \t Acc Rate:  0.0 %\n",
      "Iteration:  5300 \t Acc Rate:  0.0 %\n",
      "Iteration:  5400 \t Acc Rate:  0.0 %\n",
      "Iteration:  5500 \t Acc Rate:  0.0 %\n",
      "Iteration:  5600 \t Acc Rate:  0.0 %\n",
      "Iteration:  5700 \t Acc Rate:  0.0 %\n",
      "Iteration:  5800 \t Acc Rate:  0.0 %\n",
      "Iteration:  5900 \t Acc Rate:  1.0 %\n",
      "Iteration:  6000 \t Acc Rate:  1.0 %\n",
      "Iteration:  6100 \t Acc Rate:  1.0 %\n",
      "Iteration:  6200 \t Acc Rate:  0.0 %\n"
     ]
    }
   ],
   "source": [
    "num_samples = 10000\n",
    "vb_iterations = 10000\n",
    "M = 20\n",
    "grid = 50\n",
    "seed = 0\n",
    "experiment = Experiment(seed, Ntrain=96, num_grid=grid, num_inducing=M, num_samples=num_samples, vb_iterations=vb_iterations)"
   ]
  },
  {
   "cell_type": "code",
   "execution_count": 45,
   "metadata": {
    "collapsed": false,
    "deletable": true,
    "editable": true
   },
   "outputs": [
    {
     "data": {
      "image/png": "[encoded data removed]",
      "text/plain": [
       "<matplotlib.figure.Figure at 0x11081da90>"
      ]
     },
     "metadata": {},
     "output_type": "display_data"
    }
   ],
   "source": [
    "from matplotlib import pylab as plt\n",
    "\n",
    "plt.figure()\n",
    "X = experiment.m_vb.X\n",
    "bw = experiment.m_vb.likelihood.binsize\n",
    "#plt.plot(X,np.mean(np.exp(experiment.fsamples_vb)*bw,axis=1) ,'b' ,label='VB+Gaussian')\n",
    "plt.plot(X,np.mean(np.exp(experiment.fsamples_mc)*bw,axis=1) ,'r' ,label='VB+MCMC')\n",
    "#plt.legend()\n",
    "#plt.plot(X,np.percentile(np.exp(experiment.fsamples_vb)*bw, 5,axis=1), 'b--')\n",
    "#plt.plot(X,np.percentile(np.exp(experiment.fsamples_vb)*bw,95,axis=1), 'b--')\n",
    "#plt.fill_between(X[:,0],np.percentile(np.exp(experiment.fsamples_vb)*bw, 5,axis=1),\\\n",
    "#                np.percentile(np.exp(experiment.fsamples_vb)*bw,95,axis=1),color='b',alpha=0.5)\n",
    "plt.plot(X,np.percentile(np.exp(experiment.fsamples_mc)*bw, 5,axis=1), 'r--')\n",
    "plt.plot(X,np.percentile(np.exp(experiment.fsamples_mc)*bw,95,axis=1), 'r--')\n",
    "plt.fill_between(X[:,0],np.percentile(np.exp(experiment.fsamples_mc)*bw, 5,axis=1),\\\n",
    "                 np.percentile(np.exp(experiment.fsamples_mc)*bw,95,axis=1),color='r',alpha=0.5)\n",
    "XR, YR = load_rouses()\n",
    "XR = XR[:,0]\n",
    "plt.plot(XR,YR,'k.')\n",
    "plt.show()"
   ]
  },
  {
   "cell_type": "code",
   "execution_count": null,
   "metadata": {
    "collapsed": true,
    "deletable": true,
    "editable": true
   },
   "outputs": [],
   "source": []
  }
 ],
 "metadata": {
  "kernelspec": {
   "display_name": "Python 2",
   "language": "python",
   "name": "python2"
  },
  "language_info": {
   "codemirror_mode": {
    "name": "ipython",
    "version": 2
   },
   "file_extension": ".py",
   "mimetype": "text/x-python",
   "name": "python",
   "nbconvert_exporter": "python",
   "pygments_lexer": "ipython2",
   "version": "2.7.13"
  },
  "widgets": {
   "state": {
    "6723973d23264895a53da97323b98525": {
     "views": [
      {
       "cell_index": 1
      }
     ]
    },
    "772898b59f0f42e0ac958eb346a7e6c0": {
     "views": [
      {
       "cell_index": 1
      }
     ]
    },
    "80721ae28836487981b6b046f106ef1a": {
     "views": [
      {
       "cell_index": 1
      }
     ]
    },
    "965262651af0437ca85689fd9a2befcc": {
     "views": [
      {
       "cell_index": 1
      }
     ]
    },
    "97f8e55e14764610a751f8b91831b55d": {
     "views": [
      {
       "cell_index": 1
      }
     ]
    },
    "b633e91d523a487b8a71d56db2f8f689": {
     "views": [
      {
       "cell_index": 1
      }
     ]
    },
    "bf81b87cf765435aaceed2d139fa53a0": {
     "views": [
      {
       "cell_index": 1
      }
     ]
    },
    "cffcad799c0642a2aa33673ce71ae09b": {
     "views": [
      {
       "cell_index": 1
      }
     ]
    },
    "eb69b032f5274234add3d22e6c001876": {
     "views": [
      {
       "cell_index": 1
      }
     ]
    }
   },
   "version": "1.2.0"
  }
 },
 "nbformat": 4,
 "nbformat_minor": 2
}
