{
 "cells": [
  {
   "cell_type": "code",
   "execution_count": 1,
   "metadata": {
    "collapsed": false,
    "deletable": true,
    "editable": true
   },
   "outputs": [],
   "source": [
    "import GPflow\n",
    "import numpy as np\n",
    "from matplotlib import pyplot as plt\n",
    "plt.style.use('ggplot')\n",
    "%matplotlib inline\n",
    "\n",
    "def load_coal():\n",
    "    X = np.loadtxt('data/coal.csv')\n",
    "    return X\n",
    "\n",
    "X = load_coal()"
   ]
  },
  {
   "cell_type": "code",
   "execution_count": 2,
   "metadata": {
    "collapsed": false,
    "deletable": true,
    "editable": true
   },
   "outputs": [
    {
     "data": {
      "image/png": "[encoded data removed]",
      "text/plain": [
       "<matplotlib.figure.Figure at 0x10dce8790>"
      ]
     },
     "metadata": {},
     "output_type": "display_data"
    }
   ],
   "source": [
    "# Plot the (yearly rolled-up) data\n",
    "year_bins = np.arange(np.floor(np.min(X)),np.ceil(np.max(X)))\n",
    "Y, bb = np.histogram(X,year_bins)\n",
    "Y = np.asarray(Y,dtype=np.double)\n",
    "plt.plot(year_bins[:-1],Y,'r.')\n",
    "plt.show()"
   ]
  },
  {
   "cell_type": "code",
   "execution_count": 10,
   "metadata": {
    "collapsed": false,
    "deletable": true,
    "editable": true,
    "scrolled": false
   },
   "outputs": [],
   "source": [
    "#build the model\n",
    "\n",
    "M = 20 # number of inducing points\n",
    "num_grid = 50 # number of grid points\n",
    "bins = np.linspace(X.min(), X.max(), num_grid+1)\n",
    "bin_mids = bins[:-1]+np.diff(bins)\n",
    "\n",
    "counts = np.asarray(np.histogram(X, bins)[0],dtype=np.double)\n",
    "Z = np.linspace(bin_mids.min(), bin_mids.max(), M).reshape(-1,1) \n",
    "\n",
    "kern = GPflow.kernels.RBF(1, variance=10., ARD=False) + GPflow.kernels.Bias(1)\n",
    "lik = GPflow.likelihoods.BinnedPoisson(np.diff(bin_mids.flat)[0])\n",
    "m = GPflow.sgpmc.SGPMC(bin_mids[:,None], counts[:,None], kern, lik, Z)"
   ]
  },
  {
   "cell_type": "code",
   "execution_count": 11,
   "metadata": {
    "collapsed": false,
    "deletable": true,
    "editable": true
   },
   "outputs": [],
   "source": [
    "m.kern.rbf.lengthscales.prior = GPflow.priors.Gamma(1., .1)\n",
    "m.kern.rbf.variance.prior = GPflow.priors.Gamma(1.,.3)\n",
    "m.kern.bias.variance.prior = GPflow.priors.Gamma(1., .3)"
   ]
  },
  {
   "cell_type": "code",
   "execution_count": 12,
   "metadata": {
    "collapsed": false,
    "deletable": true,
    "editable": true,
    "scrolled": true
   },
   "outputs": [
    {
     "data": {
      "text/plain": [
       "      fun: array([ 67.74048049])\n",
       " hess_inv: <23x23 LbfgsInvHessProduct with dtype=float64>\n",
       "      jac: array([ -4.61861030e-05,  -1.70879488e-05,  -1.41154541e-05,\n",
       "        -6.29774909e-06,   4.12274134e-07,   4.53347128e-07,\n",
       "         5.23509714e-06,   1.53662937e-05,   8.85492001e-06,\n",
       "         2.51956101e-06,   1.30845242e-05,   7.26689126e-06,\n",
       "         2.42169670e-05,   1.00184369e-05,   1.03416212e-05,\n",
       "         1.24813597e-05,   1.31849830e-05,   9.25638899e-06,\n",
       "         4.88584953e-06,   9.68082342e-06,   2.41587305e-05,\n",
       "        -6.65314715e-06,  -5.64918794e-05])\n",
       "  message: 'CONVERGENCE: REL_REDUCTION_OF_F_<=_FACTR*EPSMCH'\n",
       "     nfev: 40\n",
       "      nit: 33\n",
       "   status: 0\n",
       "  success: True\n",
       "        x: array([ -1.66663131e+00,  -4.16285448e-01,  -2.47025666e-01,\n",
       "        -1.76299105e-01,  -1.37312024e-01,  -1.19181041e-01,\n",
       "        -9.41935546e-02,  -3.14393874e-02,  -7.84237596e-02,\n",
       "        -7.02246259e-02,  -6.35637014e-02,  -5.80695853e-02,\n",
       "        -1.82628048e-03,  -5.34593192e-02,  -5.68458881e-02,\n",
       "        -4.61186292e-02,  -4.33337749e-02,  -4.10646178e-02,\n",
       "        -3.86629619e-02,   7.17477395e-02,  -2.82699132e+00,\n",
       "        -2.27087668e+00,  -2.94665849e-02])"
      ]
     },
     "execution_count": 12,
     "metadata": {},
     "output_type": "execute_result"
    }
   ],
   "source": [
    "m.optimize(maxiter=50) # start near MAP"
   ]
  },
  {
   "cell_type": "code",
   "execution_count": 13,
   "metadata": {
    "collapsed": false,
    "deletable": true,
    "editable": true
   },
   "outputs": [
    {
     "name": "stdout",
     "output_type": "stream",
     "text": [
      "Iteration:  100 \t Acc Rate:  96.0 %\n",
      "Iteration:  200 \t Acc Rate:  99.0 %\n",
      "Iteration:  300 \t Acc Rate:  97.0 %\n",
      "Iteration:  400 \t Acc Rate:  99.0 %\n",
      "Iteration:  500 \t Acc Rate:  97.0 %\n",
      "Iteration:  600 \t Acc Rate:  97.0 %\n",
      "Iteration:  700 \t Acc Rate:  99.0 %\n",
      "Iteration:  800 \t Acc Rate:  100.0 %\n",
      "Iteration:  900 \t Acc Rate:  96.0 %\n",
      "Iteration:  1000 \t Acc Rate:  100.0 %\n"
     ]
    }
   ],
   "source": [
    "num_samples = 1000\n",
    "samples = m.sample(num_samples, verbose=True, epsilon=0.08, Lmax=40)"
   ]
  },
  {
   "cell_type": "code",
   "execution_count": 14,
   "metadata": {
    "collapsed": false,
    "deletable": true,
    "editable": true
   },
   "outputs": [],
   "source": [
    "xtest = np.linspace(np.floor(np.min(X)),np.ceil(np.max(X)),25)[:,None]\n",
    "ms, vs = [],[]\n",
    "for s in samples:\n",
    "    m.set_state(s)\n",
    "    mui, vi = m.predict_f_full_cov(xtest)\n",
    "    ms.append(mui)\n",
    "    vs.append(vi)\n",
    "\n",
    "cox_samples = np.hstack([np.random.multivariate_normal(np.squeeze(mu), np.squeeze(var), num_samples).T for mu, var in zip(ms, vs)])\n"
   ]
  },
  {
   "cell_type": "code",
   "execution_count": 24,
   "metadata": {
    "collapsed": false,
    "deletable": true,
    "editable": true
   },
   "outputs": [
    {
     "data": {
      "image/png": "[encoded data removed]",
      "text/plain": [
       "<matplotlib.figure.Figure at 0x11abe97d0>"
      ]
     },
     "metadata": {},
     "output_type": "display_data"
    }
   ],
   "source": [
    "plt.figure()\n",
    "X = xtest\n",
    "bw = m.likelihood.binsize\n",
    "plt.plot(X,np.mean(np.exp(cox_samples)*bw,axis=1) ,'r')\n",
    "\n",
    "plt.plot(X,np.percentile(np.exp(cox_samples)*bw, 5,axis=1), 'b--')\n",
    "plt.plot(X,np.percentile(np.exp(cox_samples)*bw,95,axis=1), 'b--')\n",
    "\n",
    "XC = load_coal()\n",
    "year_bins = np.arange(np.floor(np.min(XC)),np.ceil(np.max(XC)))\n",
    "z, bb = np.histogram(XC,year_bins)\n",
    "plt.plot(bb[:-1],z,'g.')\n",
    "plt.plot(XC,np.zeros_like(XC),'k|')\n",
    "plt.show()"
   ]
  },
  {
   "cell_type": "code",
   "execution_count": 16,
   "metadata": {
    "collapsed": false,
    "deletable": true,
    "editable": true
   },
   "outputs": [],
   "source": [
    "kernel_samples = m.kern.get_samples_df(samples)"
   ]
  },
  {
   "cell_type": "code",
   "execution_count": 17,
   "metadata": {
    "collapsed": false,
    "deletable": true,
    "editable": true
   },
   "outputs": [
    {
     "data": {
      "text/html": [
       "<div>\n",
       "<table border=\"1\" class=\"dataframe\">\n",
       "  <thead>\n",
       "    <tr style=\"text-align: right;\">\n",
       "      <th></th>\n",
       "      <th>model.kern.rbf.variance</th>\n",
       "      <th>model.kern.rbf.lengthscales</th>\n",
       "      <th>model.kern.bias.variance</th>\n",
       "    </tr>\n",
       "  </thead>\n",
       "  <tbody>\n",
       "    <tr>\n",
       "      <th>0</th>\n",
       "      <td>[0.057506099444]</td>\n",
       "      <td>[0.0982356703402]</td>\n",
       "      <td>[0.678523419158]</td>\n",
       "    </tr>\n",
       "    <tr>\n",
       "      <th>1</th>\n",
       "      <td>[0.143180085267]</td>\n",
       "      <td>[0.0524322418556]</td>\n",
       "      <td>[0.667867264354]</td>\n",
       "    </tr>\n",
       "    <tr>\n",
       "      <th>2</th>\n",
       "      <td>[0.160533298363]</td>\n",
       "      <td>[0.0790684900008]</td>\n",
       "      <td>[0.440294141898]</td>\n",
       "    </tr>\n",
       "    <tr>\n",
       "      <th>3</th>\n",
       "      <td>[0.160533298363]</td>\n",
       "      <td>[0.0790684900008]</td>\n",
       "      <td>[0.440294141898]</td>\n",
       "    </tr>\n",
       "    <tr>\n",
       "      <th>4</th>\n",
       "      <td>[0.100530055543]</td>\n",
       "      <td>[0.0280539948725]</td>\n",
       "      <td>[0.368275188785]</td>\n",
       "    </tr>\n",
       "  </tbody>\n",
       "</table>\n",
       "</div>"
      ],
      "text/plain": [
       "  model.kern.rbf.variance model.kern.rbf.lengthscales model.kern.bias.variance\n",
       "0        [0.057506099444]           [0.0982356703402]         [0.678523419158]\n",
       "1        [0.143180085267]           [0.0524322418556]         [0.667867264354]\n",
       "2        [0.160533298363]           [0.0790684900008]         [0.440294141898]\n",
       "3        [0.160533298363]           [0.0790684900008]         [0.440294141898]\n",
       "4        [0.100530055543]           [0.0280539948725]         [0.368275188785]"
      ]
     },
     "execution_count": 17,
     "metadata": {},
     "output_type": "execute_result"
    }
   ],
   "source": [
    "kernel_samples.head()"
   ]
  },
  {
   "cell_type": "code",
   "execution_count": 18,
   "metadata": {
    "collapsed": false,
    "deletable": true,
    "editable": true
   },
   "outputs": [
    {
     "data": {
      "text/plain": [
       "model.kern.rbf.variance        0.055071\n",
       "model.kern.rbf.lengthscales    0.095335\n",
       "model.kern.bias.variance       0.735663\n",
       "dtype: float64"
      ]
     },
     "execution_count": 18,
     "metadata": {},
     "output_type": "execute_result"
    }
   ],
   "source": [
    "kernel_samples.mean()"
   ]
  },
  {
   "cell_type": "code",
   "execution_count": 19,
   "metadata": {
    "collapsed": false,
    "deletable": true,
    "editable": true
   },
   "outputs": [
    {
     "data": {
      "text/plain": [
       "model.kern.rbf.variance        0.053549\n",
       "model.kern.rbf.lengthscales    0.099029\n",
       "model.kern.bias.variance       0.380500\n",
       "dtype: float64"
      ]
     },
     "execution_count": 19,
     "metadata": {},
     "output_type": "execute_result"
    }
   ],
   "source": [
    "kernel_samples.std()"
   ]
  },
  {
   "cell_type": "code",
   "execution_count": null,
   "metadata": {
    "collapsed": true,
    "deletable": true,
    "editable": true
   },
   "outputs": [],
   "source": []
  }
 ],
 "metadata": {
  "anaconda-cloud": {},
  "kernelspec": {
   "display_name": "Python 2",
   "language": "python",
   "name": "python2"
  },
  "language_info": {
   "codemirror_mode": {
    "name": "ipython",
    "version": 2
   },
   "file_extension": ".py",
   "mimetype": "text/x-python",
   "name": "python",
   "nbconvert_exporter": "python",
   "pygments_lexer": "ipython2",
   "version": "2.7.13"
  }
 },
 "nbformat": 4,
 "nbformat_minor": 0
}
