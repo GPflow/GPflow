{
 "cells": [
  {
   "cell_type": "code",
   "execution_count": 1,
   "metadata": {
    "collapsed": false,
    "deletable": true,
    "editable": true
   },
   "outputs": [],
   "source": [
    "import GPflow\n",
    "import numpy as np\n",
    "from matplotlib import pyplot as plt\n",
    "plt.style.use('ggplot')\n",
    "%matplotlib inline\n",
    "\n",
    "def load_coal():\n",
    "    X = np.loadtxt('data/coal.csv')\n",
    "    return X\n",
    "\n",
    "X = load_coal()"
   ]
  },
  {
   "cell_type": "code",
   "execution_count": 2,
   "metadata": {
    "collapsed": false
   },
   "outputs": [
    {
     "data": {
      "image/png": "[encoded data removed]",
      "text/plain": [
       "<matplotlib.figure.Figure at 0x10e01e750>"
      ]
     },
     "metadata": {},
     "output_type": "display_data"
    }
   ],
   "source": [
    "# Plot the (yearly rolled-up) data\n",
    "year_bins = np.arange(np.floor(np.min(X)),np.ceil(np.max(X)))\n",
    "Y, bb = np.histogram(X,year_bins)\n",
    "Y = np.asarray(Y,dtype=np.double)\n",
    "plt.plot(year_bins[:-1],Y,'r.')\n",
    "plt.show()"
   ]
  },
  {
   "cell_type": "code",
   "execution_count": 3,
   "metadata": {
    "collapsed": false,
    "deletable": true,
    "editable": true,
    "scrolled": false
   },
   "outputs": [],
   "source": [
    "#build the model\n",
    "k = GPflow.kernels.RBF(1,ARD=False) + GPflow.kernels.Bias(1)\n",
    "l = GPflow.likelihoods.BinnedPoisson()\n",
    "M = 20 # number of inducing points\n",
    "num_grid = 50 # number of grid points\n",
    "bins = np.linspace(X.min(), X.max(), num_grid+1)\n",
    "bin_mids = bins[:-1]+np.diff(bins)\n",
    "Y = np.asarray(np.histogram(X, bins)[0],dtype=np.double)\n",
    "Z = np.linspace(bin_mids.min(), bin_mids.max(), M).reshape(-1,1) \n",
    "m = GPflow.sgpmc.SGPMC(bin_mids[:,None], Y[:,None], k, l, Z)"
   ]
  },
  {
   "cell_type": "code",
   "execution_count": 4,
   "metadata": {
    "collapsed": false,
    "deletable": true,
    "editable": true
   },
   "outputs": [],
   "source": [
    "m.kern.rbf.lengthscales.prior = GPflow.priors.Gamma(1., .1)\n",
    "m.kern.rbf.variance.prior = GPflow.priors.Gamma(1.,.3)\n",
    "m.kern.bias.variance.prior = GPflow.priors.Gamma(1., .3)"
   ]
  },
  {
   "cell_type": "code",
   "execution_count": 5,
   "metadata": {
    "collapsed": false,
    "deletable": true,
    "editable": true,
    "scrolled": true
   },
   "outputs": [
    {
     "name": "stdout",
     "output_type": "stream",
     "text": [
      "Iteration:  100 \t Acc Rate:  52.0 %\n",
      "Iteration:  200 \t Acc Rate:  69.0 %\n",
      "Iteration:  300 \t Acc Rate:  70.0 %\n",
      "Iteration:  400 \t Acc Rate:  64.0 %\n",
      "Iteration:  500 \t Acc Rate:  62.0 %\n"
     ]
    }
   ],
   "source": [
    "m.optimize(maxiter=50) # start near MAP\n",
    "num_samples = 500\n",
    "samples = m.sample(num_samples, verbose=True, epsilon=0.12, Lmax=15)"
   ]
  },
  {
   "cell_type": "code",
   "execution_count": 8,
   "metadata": {
    "collapsed": false,
    "deletable": true,
    "editable": true
   },
   "outputs": [],
   "source": [
    "xtest = np.linspace(np.floor(np.min(X)),np.ceil(np.max(X)),100)[:,None]\n",
    "f_samples = []\n",
    "for s in samples:\n",
    "    m.set_state(s)\n",
    "    f_samples.append(m.predict_f_samples(xtest, 5))\n",
    "f_samples = np.vstack(f_samples)"
   ]
  },
  {
   "cell_type": "code",
   "execution_count": 20,
   "metadata": {
    "collapsed": false
   },
   "outputs": [
    {
     "data": {
      "text/plain": [
       "array([[ 1.54236808,  1.34201678,  1.19999326, ...,  1.34100362,\n",
       "         1.25070734,  1.53769563],\n",
       "       [ 1.41533486,  1.38799069,  1.36462437, ...,  1.56207856,\n",
       "         1.4345182 ,  1.37161566],\n",
       "       [ 1.313886  ,  1.55006961,  1.49591228, ...,  1.5108055 ,\n",
       "         1.49195056,  1.30631123],\n",
       "       ..., \n",
       "       [ 1.38034248,  1.29376294,  1.45027443, ...,  1.31086787,\n",
       "         1.5110071 ,  1.57503323],\n",
       "       [ 1.58728212,  1.72398746,  1.34799129, ...,  1.54069644,\n",
       "         1.34646235,  1.38095941],\n",
       "       [ 1.56711887,  1.50926433,  1.4124134 , ...,  1.50273372,\n",
       "         1.48189314,  1.2855731 ]])"
      ]
     },
     "execution_count": 20,
     "metadata": {},
     "output_type": "execute_result"
    }
   ],
   "source": [
    "np.random.multivariate_normal(np.squeeze(mui), np.squeeze(vi), num_samples).T"
   ]
  },
  {
   "cell_type": "code",
   "execution_count": 21,
   "metadata": {
    "collapsed": false
   },
   "outputs": [
    {
     "name": "stderr",
     "output_type": "stream",
     "text": [
      "/usr/local/lib/python2.7/site-packages/ipykernel/__main__.py:9: RuntimeWarning: covariance is not positive-semidefinite.\n"
     ]
    }
   ],
   "source": [
    "xtest = np.linspace(np.floor(np.min(X)),np.ceil(np.max(X)),100)[:,None]\n",
    "ms, vs = [],[]\n",
    "for s in samples:\n",
    "    m.set_state(s)\n",
    "    mui, vi = m.predict_f_full_cov(xtest)\n",
    "    ms.append(mui)\n",
    "    vs.append(vi)\n",
    "\n",
    "cox_samples = np.hstack([np.random.multivariate_normal(np.squeeze(mu), np.squeeze(var), num_samples).T for mu, var in zip(ms, vs)])\n"
   ]
  },
  {
   "cell_type": "code",
   "execution_count": 27,
   "metadata": {
    "collapsed": false,
    "deletable": true,
    "editable": true
   },
   "outputs": [
    {
     "data": {
      "image/png": "[encoded data removed]",
      "text/plain": [
       "<matplotlib.figure.Figure at 0x103342bd0>"
      ]
     },
     "metadata": {},
     "output_type": "display_data"
    }
   ],
   "source": [
    "plt.figure()\n",
    "X = xtest\n",
    "bw = m.likelihood.binsize\n",
    "plt.plot(X,np.mean(np.exp(cox_samples)*bw,axis=1) ,'b')\n",
    "\n",
    "plt.plot(X,np.percentile(np.exp(cox_samples)*bw, 5,axis=1), 'b--')\n",
    "plt.plot(X,np.percentile(np.exp(cox_samples)*bw,95,axis=1), 'b--')\n",
    "\n",
    "XC = load_coal()\n",
    "year_bins = np.arange(np.floor(np.min(XC)),np.ceil(np.max(XC)))\n",
    "z, bb = np.histogram(XC,year_bins)\n",
    "plt.plot(bb[:-1],z,'k.')\n",
    "plt.show()"
   ]
  },
  {
   "cell_type": "code",
   "execution_count": 23,
   "metadata": {
    "collapsed": false,
    "deletable": true,
    "editable": true
   },
   "outputs": [],
   "source": [
    "kernel_samples = m.kern.get_samples_df(samples)"
   ]
  },
  {
   "cell_type": "code",
   "execution_count": 24,
   "metadata": {
    "collapsed": false,
    "deletable": true,
    "editable": true
   },
   "outputs": [
    {
     "data": {
      "text/html": [
       "<div>\n",
       "<table border=\"1\" class=\"dataframe\">\n",
       "  <thead>\n",
       "    <tr style=\"text-align: right;\">\n",
       "      <th></th>\n",
       "      <th>model.kern.matern32.variance</th>\n",
       "      <th>model.kern.matern32.lengthscales</th>\n",
       "      <th>model.kern.bias.variance</th>\n",
       "    </tr>\n",
       "  </thead>\n",
       "  <tbody>\n",
       "    <tr>\n",
       "      <th>0</th>\n",
       "      <td>[5.34211770088]</td>\n",
       "      <td>[0.69390686052]</td>\n",
       "      <td>[0.595362080226]</td>\n",
       "    </tr>\n",
       "    <tr>\n",
       "      <th>1</th>\n",
       "      <td>[5.34211770088]</td>\n",
       "      <td>[0.69390686052]</td>\n",
       "      <td>[0.595362080226]</td>\n",
       "    </tr>\n",
       "    <tr>\n",
       "      <th>2</th>\n",
       "      <td>[4.27396245865]</td>\n",
       "      <td>[1.08471058051]</td>\n",
       "      <td>[0.70934368295]</td>\n",
       "    </tr>\n",
       "    <tr>\n",
       "      <th>3</th>\n",
       "      <td>[3.253368461]</td>\n",
       "      <td>[1.32391246938]</td>\n",
       "      <td>[0.24954932524]</td>\n",
       "    </tr>\n",
       "    <tr>\n",
       "      <th>4</th>\n",
       "      <td>[3.253368461]</td>\n",
       "      <td>[1.32391246938]</td>\n",
       "      <td>[0.24954932524]</td>\n",
       "    </tr>\n",
       "  </tbody>\n",
       "</table>\n",
       "</div>"
      ],
      "text/plain": [
       "  model.kern.matern32.variance model.kern.matern32.lengthscales  \\\n",
       "0              [5.34211770088]                  [0.69390686052]   \n",
       "1              [5.34211770088]                  [0.69390686052]   \n",
       "2              [4.27396245865]                  [1.08471058051]   \n",
       "3                [3.253368461]                  [1.32391246938]   \n",
       "4                [3.253368461]                  [1.32391246938]   \n",
       "\n",
       "  model.kern.bias.variance  \n",
       "0         [0.595362080226]  \n",
       "1         [0.595362080226]  \n",
       "2          [0.70934368295]  \n",
       "3          [0.24954932524]  \n",
       "4          [0.24954932524]  "
      ]
     },
     "execution_count": 24,
     "metadata": {},
     "output_type": "execute_result"
    }
   ],
   "source": [
    "kernel_samples.head()"
   ]
  },
  {
   "cell_type": "code",
   "execution_count": 25,
   "metadata": {
    "collapsed": false,
    "deletable": true,
    "editable": true
   },
   "outputs": [
    {
     "data": {
      "text/plain": [
       "model.kern.matern32.variance        0.534023\n",
       "model.kern.matern32.lengthscales    5.532319\n",
       "model.kern.bias.variance            0.499491\n",
       "dtype: float64"
      ]
     },
     "execution_count": 25,
     "metadata": {},
     "output_type": "execute_result"
    }
   ],
   "source": [
    "kernel_samples.mean()"
   ]
  },
  {
   "cell_type": "code",
   "execution_count": 26,
   "metadata": {
    "collapsed": false,
    "deletable": true,
    "editable": true
   },
   "outputs": [
    {
     "data": {
      "text/plain": [
       "model.kern.matern32.variance        0.435766\n",
       "model.kern.matern32.lengthscales    1.819838\n",
       "model.kern.bias.variance            0.399253\n",
       "dtype: float64"
      ]
     },
     "execution_count": 26,
     "metadata": {},
     "output_type": "execute_result"
    }
   ],
   "source": [
    "kernel_samples.std()"
   ]
  },
  {
   "cell_type": "code",
   "execution_count": 10,
   "metadata": {
    "collapsed": false,
    "deletable": true,
    "editable": true
   },
   "outputs": [
    {
     "data": {
      "image/png": "[encoded data removed]",
      "text/plain": [
       "<matplotlib.figure.Figure at 0x112cbfc10>"
      ]
     },
     "metadata": {},
     "output_type": "display_data"
    }
   ],
   "source": [
    "plt.plot(X,np.zeros_like(X),'b|')\n",
    "plt.show()"
   ]
  },
  {
   "cell_type": "code",
   "execution_count": null,
   "metadata": {
    "collapsed": true,
    "deletable": true,
    "editable": true
   },
   "outputs": [],
   "source": []
  }
 ],
 "metadata": {
  "anaconda-cloud": {},
  "kernelspec": {
   "display_name": "Python 2",
   "language": "python",
   "name": "python2"
  },
  "language_info": {
   "codemirror_mode": {
    "name": "ipython",
    "version": 2
   },
   "file_extension": ".py",
   "mimetype": "text/x-python",
   "name": "python",
   "nbconvert_exporter": "python",
   "pygments_lexer": "ipython2",
   "version": "2.7.13"
  }
 },
 "nbformat": 4,
 "nbformat_minor": 0
}
