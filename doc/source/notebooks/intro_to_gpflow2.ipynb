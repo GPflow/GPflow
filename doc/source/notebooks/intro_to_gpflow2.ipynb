{
 "cells": [
  {
   "cell_type": "markdown",
   "metadata": {},
   "source": [
    "GPflow with TensorFlow 2\n",
    "===\n",
    "\n",
    "##### Small steps big changes\n",
    "\n",
    "<br>\n",
    "\n"
   ]
  },
  {
   "cell_type": "code",
   "execution_count": 1,
   "metadata": {},
   "outputs": [],
   "source": [
    "from typing import Tuple, Optional\n",
    "from pathlib import Path\n",
    "\n",
    "import datetime\n",
    "import io\n",
    "import matplotlib.pyplot as plt\n",
    "\n",
    "import numpy as np\n",
    "import tensorflow as tf\n",
    "import gpflow\n",
    "\n",
    "from gpflow.config import default_float\n",
    "\n",
    "import warnings\n",
    "\n",
    "warnings.filterwarnings('ignore')"
   ]
  },
  {
   "cell_type": "markdown",
   "metadata": {},
   "source": [
    "Make `tensorboard` work inside notebook:"
   ]
  },
  {
   "cell_type": "code",
   "execution_count": 2,
   "metadata": {},
   "outputs": [],
   "source": [
    "output_logdir = \"/tmp/tensorboard\"\n",
    "\n",
    "!rm -rf \"{output_logdir}\"\n",
    "!mkdir \"{output_logdir}\"\n",
    "\n",
    "%load_ext tensorboard\n",
    "%matplotlib inline\n",
    "\n",
    "\n",
    "def enumerated_logdir(_logdir_id: int = [0]):\n",
    "    logdir = Path(output_logdir, str(_logdir_id[0]))\n",
    "    _logdir_id[0] += 1\n",
    "    return str(logdir)"
   ]
  },
  {
   "cell_type": "markdown",
   "metadata": {},
   "source": [
    "Set up random seeds and default float for `gpflow` tensors:"
   ]
  },
  {
   "cell_type": "code",
   "execution_count": 3,
   "metadata": {},
   "outputs": [],
   "source": [
    "gpflow.config.set_default_float(np.float64)\n",
    "np.random.seed(0)\n",
    "tf.random.set_seed(0)"
   ]
  },
  {
   "cell_type": "markdown",
   "metadata": {},
   "source": [
    "## Loading data using TensorFlow Datasets\n",
    "\n",
    "For this example, we create a synthetic dataset (noisy sine function):"
   ]
  },
  {
   "cell_type": "code",
   "execution_count": 4,
   "metadata": {},
   "outputs": [
    {
     "data": {
      "image/png": "[encoded data removed]",
      "text/plain": [
       "<Figure size 432x288 with 1 Axes>"
      ]
     },
     "metadata": {
      "needs_background": "light"
     },
     "output_type": "display_data"
    }
   ],
   "source": [
    "def noisy_sin(x):\n",
    "    return tf.math.sin(x) + 0.1 * tf.random.normal(x.shape, dtype=default_float())\n",
    "\n",
    "num_train_data, num_test_data = 100, 500\n",
    "\n",
    "X = tf.random.uniform((num_train_data, 1), dtype=default_float()) * 10\n",
    "Xtest = tf.random.uniform((num_test_data, 1), dtype=default_float()) * 10\n",
    "\n",
    "Y = noisy_sin(X)\n",
    "Ytest = noisy_sin(Xtest)\n",
    "\n",
    "data = (X, Y)\n",
    "\n",
    "plt.plot(X, Y, 'xk')\n",
    "plt.show()"
   ]
  },
  {
   "cell_type": "markdown",
   "metadata": {},
   "source": [
    "Working with TensorFlow Datasets is an efficient way to rapidly shuffle, iterate, and batch from data."
   ]
  },
  {
   "cell_type": "code",
   "execution_count": 5,
   "metadata": {},
   "outputs": [
    {
     "name": "stdout",
     "output_type": "stream",
     "text": [
      "prefetch_size=50\n",
      "shuffle_buffer_size=50\n",
      "num_batches_per_epoch=3\n"
     ]
    }
   ],
   "source": [
    "train_dataset = tf.data.Dataset.from_tensor_slices((X, Y))\n",
    "test_dataset = tf.data.Dataset.from_tensor_slices((Xtest, Ytest))\n",
    "\n",
    "batch_size = 32\n",
    "num_features = 10\n",
    "prefetch_size = num_train_data // 2\n",
    "shuffle_buffer_size = num_train_data // 2\n",
    "num_batches_per_epoch = num_train_data // batch_size\n",
    "\n",
    "original_train_dataset = train_dataset\n",
    "train_dataset = train_dataset.repeat()\\\n",
    "                    .prefetch(prefetch_size)\\\n",
    "                    .shuffle(buffer_size=shuffle_buffer_size)\\\n",
    "                    .batch(batch_size)\n",
    "\n",
    "print(f\"prefetch_size={prefetch_size}\")\n",
    "print(f\"shuffle_buffer_size={shuffle_buffer_size}\")\n",
    "print(f\"num_batches_per_epoch={num_batches_per_epoch}\")"
   ]
  },
  {
   "cell_type": "markdown",
   "metadata": {},
   "source": [
    "## Define a GP model\n",
    "\n",
    "In GPflow 2.0, we use `tf.Module` (or the very thin `gpflow.base.Module` wrapper) to build all our models, as well as their components (kernels, likelihoods, parameters, and so on)."
   ]
  },
  {
   "cell_type": "code",
   "execution_count": 6,
   "metadata": {},
   "outputs": [],
   "source": [
    "kernel = gpflow.kernels.SquaredExponential(variance=2.)\n",
    "likelihood = gpflow.likelihoods.Gaussian()\n",
    "inducing_variable = np.linspace(0, 10, num_features).reshape(-1, 1)\n",
    "\n",
    "model = gpflow.models.SVGP(kernel=kernel, likelihood=likelihood, inducing_variable=inducing_variable)"
   ]
  },
  {
   "cell_type": "markdown",
   "metadata": {},
   "source": [
    "You can set a module (or a particular parameter) to be non-trainable using the auxiliary method ```set_trainable(module, False)```:"
   ]
  },
  {
   "cell_type": "code",
   "execution_count": 7,
   "metadata": {},
   "outputs": [],
   "source": [
    "from gpflow.utilities import set_trainable\n",
    "\n",
    "set_trainable(likelihood, False)\n",
    "set_trainable(kernel.variance, False)\n",
    "\n",
    "set_trainable(likelihood, True)\n",
    "set_trainable(kernel.variance, True)"
   ]
  },
  {
   "cell_type": "markdown",
   "metadata": {},
   "source": [
    "We can use ```param.assign(value)``` to assign a value to a parameter:"
   ]
  },
  {
   "cell_type": "code",
   "execution_count": 8,
   "metadata": {},
   "outputs": [
    {
     "data": {
      "text/plain": [
       "<tf.Variable 'UnreadVariable' shape=() dtype=float64, numpy=-0.43275212956718856>"
      ]
     },
     "execution_count": 8,
     "metadata": {},
     "output_type": "execute_result"
    }
   ],
   "source": [
    "kernel.lengthscale.assign(0.5)"
   ]
  },
  {
   "cell_type": "markdown",
   "metadata": {},
   "source": [
    "All these changes are reflected when we use ```print_summary(model)``` to print a detailed summary of the model. By default the output is displayed in a minimalistic and simple table."
   ]
  },
  {
   "cell_type": "code",
   "execution_count": 9,
   "metadata": {},
   "outputs": [
    {
     "name": "stdout",
     "output_type": "stream",
     "text": [
      "name                      class      transform         prior    trainable    shape        dtype    value\n",
      "------------------------  ---------  ----------------  -------  -----------  -----------  -------  ------------------\n",
      "SVGP.kernel.variance      Parameter  Softplus                   True         ()           float64  2.0\n",
      "SVGP.kernel.lengthscale   Parameter  Softplus                   True         ()           float64  0.5\n",
      "SVGP.likelihood.variance  Parameter  Softplus + Shift           True         ()           float64  0.9999999999999999\n",
      "SVGP.inducing_variable.Z  Parameter                             True         (10, 1)      float64  [[0....\n",
      "SVGP.q_mu                 Parameter                             True         (10, 1)      float64  [[0....\n",
      "SVGP.q_sqrt               Parameter  FillTriangular             True         (1, 10, 10)  float64  [[[1., 0., 0....\n"
     ]
    }
   ],
   "source": [
    "from gpflow.utilities import print_summary\n",
    "\n",
    "print_summary(model)  # same as print_summary(model, fmt=\"simple\")"
   ]
  },
  {
   "cell_type": "markdown",
   "metadata": {},
   "source": [
    "We can change default printing so that it will look nicer in our notebook:"
   ]
  },
  {
   "cell_type": "code",
   "execution_count": 10,
   "metadata": {},
   "outputs": [
    {
     "data": {
      "text/html": [
       "<table>\n",
       "<thead>\n",
       "<tr><th>name                    </th><th>class    </th><th>transform       </th><th>prior  </th><th>trainable  </th><th>shape      </th><th>dtype  </th><th>value             </th></tr>\n",
       "</thead>\n",
       "<tbody>\n",
       "<tr><td>SVGP.kernel.variance    </td><td>Parameter</td><td>Softplus        </td><td>       </td><td>True       </td><td>()         </td><td>float64</td><td>2.0               </td></tr>\n",
       "<tr><td>SVGP.kernel.lengthscale </td><td>Parameter</td><td>Softplus        </td><td>       </td><td>True       </td><td>()         </td><td>float64</td><td>0.5               </td></tr>\n",
       "<tr><td>SVGP.likelihood.variance</td><td>Parameter</td><td>Softplus + Shift</td><td>       </td><td>True       </td><td>()         </td><td>float64</td><td>0.9999999999999999</td></tr>\n",
       "<tr><td>SVGP.inducing_variable.Z</td><td>Parameter</td><td>                </td><td>       </td><td>True       </td><td>(10, 1)    </td><td>float64</td><td>[[0....           </td></tr>\n",
       "<tr><td>SVGP.q_mu               </td><td>Parameter</td><td>                </td><td>       </td><td>True       </td><td>(10, 1)    </td><td>float64</td><td>[[0....           </td></tr>\n",
       "<tr><td>SVGP.q_sqrt             </td><td>Parameter</td><td>FillTriangular  </td><td>       </td><td>True       </td><td>(1, 10, 10)</td><td>float64</td><td>[[[1., 0., 0....  </td></tr>\n",
       "</tbody>\n",
       "</table>"
      ],
      "text/plain": [
       "<IPython.core.display.HTML object>"
      ]
     },
     "metadata": {},
     "output_type": "display_data"
    }
   ],
   "source": [
    "gpflow.config.set_default_summary_fmt(\"notebook\")\n",
    "\n",
    "print_summary(model)  # same as print_summary(model, fmt=\"notebook\")"
   ]
  },
  {
   "cell_type": "markdown",
   "metadata": {},
   "source": [
    "Jupyter notebooks also format GPflow classes (that are subclasses of `gpflow.base.Module`) in the same nice way when at the end of a cell (this is independent of the `default_summary_fmt`):"
   ]
  },
  {
   "cell_type": "code",
   "execution_count": 11,
   "metadata": {},
   "outputs": [
    {
     "data": {
      "text/html": [
       "<table>\n",
       "<thead>\n",
       "<tr><th>name                    </th><th>class    </th><th>transform       </th><th>prior  </th><th>trainable  </th><th>shape      </th><th>dtype  </th><th>value             </th></tr>\n",
       "</thead>\n",
       "<tbody>\n",
       "<tr><td>SVGP.kernel.variance    </td><td>Parameter</td><td>Softplus        </td><td>       </td><td>True       </td><td>()         </td><td>float64</td><td>2.0               </td></tr>\n",
       "<tr><td>SVGP.kernel.lengthscale </td><td>Parameter</td><td>Softplus        </td><td>       </td><td>True       </td><td>()         </td><td>float64</td><td>0.5               </td></tr>\n",
       "<tr><td>SVGP.likelihood.variance</td><td>Parameter</td><td>Softplus + Shift</td><td>       </td><td>True       </td><td>()         </td><td>float64</td><td>0.9999999999999999</td></tr>\n",
       "<tr><td>SVGP.inducing_variable.Z</td><td>Parameter</td><td>                </td><td>       </td><td>True       </td><td>(10, 1)    </td><td>float64</td><td>[[0....           </td></tr>\n",
       "<tr><td>SVGP.q_mu               </td><td>Parameter</td><td>                </td><td>       </td><td>True       </td><td>(10, 1)    </td><td>float64</td><td>[[0....           </td></tr>\n",
       "<tr><td>SVGP.q_sqrt             </td><td>Parameter</td><td>FillTriangular  </td><td>       </td><td>True       </td><td>(1, 10, 10)</td><td>float64</td><td>[[[1., 0., 0....  </td></tr>\n",
       "</tbody>\n",
       "</table>"
      ],
      "text/plain": [
       "name                      class      transform         prior    trainable    shape        dtype    value\n",
       "------------------------  ---------  ----------------  -------  -----------  -----------  -------  ------------------\n",
       "SVGP.kernel.variance      Parameter  Softplus                   True         ()           float64  2.0\n",
       "SVGP.kernel.lengthscale   Parameter  Softplus                   True         ()           float64  0.5\n",
       "SVGP.likelihood.variance  Parameter  Softplus + Shift           True         ()           float64  0.9999999999999999\n",
       "SVGP.inducing_variable.Z  Parameter                             True         (10, 1)      float64  [[0....\n",
       "SVGP.q_mu                 Parameter                             True         (10, 1)      float64  [[0....\n",
       "SVGP.q_sqrt               Parameter  FillTriangular             True         (1, 10, 10)  float64  [[[1., 0., 0...."
      ]
     },
     "execution_count": 11,
     "metadata": {},
     "output_type": "execute_result"
    }
   ],
   "source": [
    "model"
   ]
  },
  {
   "cell_type": "markdown",
   "metadata": {},
   "source": [
    "## Training using Gradient Tapes\n",
    "\n",
    "In TensorFlow 2, we can optimize (trainable) model parameters with TensorFlow optimizers using `tf.GradientTape`. In this simple example, we perform one gradient update of the Adam optimizer to minimize the negative marginal log likelihood (or ELBO) of our model."
   ]
  },
  {
   "cell_type": "code",
   "execution_count": 12,
   "metadata": {},
   "outputs": [
    {
     "data": {
      "text/plain": [
       "<tf.Variable 'UnreadVariable' shape=() dtype=int64, numpy=1>"
      ]
     },
     "execution_count": 12,
     "metadata": {},
     "output_type": "execute_result"
    }
   ],
   "source": [
    "optimizer = tf.optimizers.Adam()\n",
    "\n",
    "with tf.GradientTape() as tape:\n",
    "    tape.watch(model.trainable_variables)\n",
    "    obj = - model.elbo(data)\n",
    "    grads = tape.gradient(obj, model.trainable_variables)\n",
    "\n",
    "optimizer.apply_gradients(zip(grads, model.trainable_variables))"
   ]
  },
  {
   "cell_type": "markdown",
   "metadata": {},
   "source": [
    "For a more elaborate example of a gradient update we can define an ```optimization_step``` that uses the decorator ```tf.function``` on a closure. A closure is a callable that returns the model objective evaluated at a given dataset when called."
   ]
  },
  {
   "cell_type": "code",
   "execution_count": 13,
   "metadata": {},
   "outputs": [],
   "source": [
    "def optimization_step(model: gpflow.models.SVGP, batch: Tuple[tf.Tensor, tf.Tensor]):\n",
    "    with tf.GradientTape(watch_accessed_variables=False) as tape:\n",
    "        tape.watch(model.trainable_variables)\n",
    "        obj = - model.elbo(batch)\n",
    "        grads = tape.gradient(obj, model.trainable_variables)\n",
    "    optimizer.apply_gradients(zip(grads, model.trainable_variables))"
   ]
  },
  {
   "cell_type": "markdown",
   "metadata": {},
   "source": [
    "We can use the functionality of TensorFlow Datasets to define a simple training loop that iterates over batches of the training dataset:"
   ]
  },
  {
   "cell_type": "code",
   "execution_count": 14,
   "metadata": {},
   "outputs": [],
   "source": [
    "def simple_training_loop(model: gpflow.models.SVGP, epochs: int = 1, logging_epoch_freq: int = 10):\n",
    "    batches = iter(train_dataset)\n",
    "    tf_optimization_step = tf.function(optimization_step, autograph=False)\n",
    "    for epoch in range(epochs):\n",
    "        for _ in range(num_batches_per_epoch):\n",
    "            tf_optimization_step(model, next(batches))\n",
    "\n",
    "        epoch_id = epoch + 1\n",
    "        if epoch_id % logging_epoch_freq == 0:\n",
    "            tf.print(f\"Epoch {epoch_id}: ELBO (train) {model.elbo(data)}\")"
   ]
  },
  {
   "cell_type": "code",
   "execution_count": 15,
   "metadata": {},
   "outputs": [
    {
     "name": "stdout",
     "output_type": "stream",
     "text": [
      "Epoch 2: ELBO (train) -210.8625120744022\n"
     ]
    },
    {
     "name": "stdout",
     "output_type": "stream",
     "text": [
      "Epoch 4: ELBO (train) -209.2089265188789\n"
     ]
    },
    {
     "name": "stdout",
     "output_type": "stream",
     "text": [
      "Epoch 6: ELBO (train) -207.5394336278164\n"
     ]
    },
    {
     "name": "stdout",
     "output_type": "stream",
     "text": [
      "Epoch 8: ELBO (train) -205.86180225764397\n"
     ]
    },
    {
     "name": "stdout",
     "output_type": "stream",
     "text": [
      "Epoch 10: ELBO (train) -204.17336161825466\n"
     ]
    }
   ],
   "source": [
    "simple_training_loop(model, epochs=10, logging_epoch_freq=2)"
   ]
  },
  {
   "cell_type": "markdown",
   "metadata": {},
   "source": [
    "## Monitoring\n",
    "\n",
    "We can monitor the training procedure using `tf.summary`. First we create a summary writer object through which we can write scalars and images."
   ]
  },
  {
   "cell_type": "code",
   "execution_count": 16,
   "metadata": {},
   "outputs": [],
   "source": [
    "from intro_to_gpflow2_plotting import plotting_regression, summary_matplotlib_image\n",
    "\n",
    "samples_input = tf.cast(np.linspace(0, 10, 100).reshape(100, 1), default_float())\n",
    "\n",
    "def monitored_training_loop(model: gpflow.models.SVGP, logdir: str,\n",
    "                            epochs: int = 1, logging_epoch_freq: int = 10,\n",
    "                            num_samples: int = 10):\n",
    "    summary_writer = tf.summary.create_file_writer(logdir)\n",
    "    tf_optimization_step = tf.function(optimization_step)\n",
    "    batches = iter(train_dataset)\n",
    "\n",
    "    with summary_writer.as_default():\n",
    "        for epoch in range(epochs):\n",
    "            for _ in range(num_batches_per_epoch):\n",
    "                tf_optimization_step(model, next(batches))\n",
    "\n",
    "            epoch_id = epoch + 1\n",
    "            if epoch_id % logging_epoch_freq == 0:\n",
    "                tf.print(f\"Epoch {epoch_id}: ELBO (train) {model.elbo(data)}\")\n",
    "\n",
    "                mean, var = model.predict_f(samples_input)\n",
    "                samples = model.predict_f_samples(samples_input, num_samples)\n",
    "                fig = plotting_regression(X, Y, samples_input, mean, var, samples)\n",
    "\n",
    "                summary_matplotlib_image(dict(model_samples=fig), step=epoch)\n",
    "                tf.summary.scalar('elbo', data=model.elbo(data), step=epoch)\n",
    "                tf.summary.scalar('likelihood/variance', data=model.likelihood.variance, step=epoch)\n",
    "                tf.summary.scalar('kernel/lengthscale', data=model.kernel.lengthscale, step=epoch)\n",
    "                tf.summary.scalar('kernel/variance', data=model.kernel.variance, step=epoch)"
   ]
  },
  {
   "cell_type": "code",
   "execution_count": 17,
   "metadata": {},
   "outputs": [
    {
     "name": "stdout",
     "output_type": "stream",
     "text": [
      "Epoch 100: ELBO (train) -141.17663846231952\n"
     ]
    },
    {
     "name": "stdout",
     "output_type": "stream",
     "text": [
      "Epoch 200: ELBO (train) -115.73096230500155\n"
     ]
    },
    {
     "name": "stdout",
     "output_type": "stream",
     "text": [
      "Epoch 300: ELBO (train) -99.34845106168397\n"
     ]
    },
    {
     "name": "stdout",
     "output_type": "stream",
     "text": [
      "Epoch 400: ELBO (train) -84.81538381607197\n"
     ]
    },
    {
     "name": "stdout",
     "output_type": "stream",
     "text": [
      "Epoch 500: ELBO (train) -70.5410653853418\n"
     ]
    },
    {
     "name": "stdout",
     "output_type": "stream",
     "text": [
      "Epoch 600: ELBO (train) -56.266405542025005\n"
     ]
    },
    {
     "name": "stdout",
     "output_type": "stream",
     "text": [
      "Epoch 700: ELBO (train) -42.13877491952342\n"
     ]
    },
    {
     "name": "stdout",
     "output_type": "stream",
     "text": [
      "Epoch 800: ELBO (train) -28.37536382146062\n"
     ]
    },
    {
     "name": "stdout",
     "output_type": "stream",
     "text": [
      "Epoch 900: ELBO (train) -15.138323262094682\n"
     ]
    },
    {
     "name": "stdout",
     "output_type": "stream",
     "text": [
      "Epoch 1000: ELBO (train) -2.6051236238069606\n"
     ]
    }
   ],
   "source": [
    "model = gpflow.models.SVGP(kernel=kernel, likelihood=likelihood, inducing_variable=inducing_variable)\n",
    "\n",
    "output_logdir = enumerated_logdir()\n",
    "monitored_training_loop(model, output_logdir, epochs=1000, logging_epoch_freq=100)"
   ]
  },
  {
   "cell_type": "markdown",
   "metadata": {},
   "source": [
    "Then, we can use TensorBoard to examine the training procedure in more detail"
   ]
  },
  {
   "cell_type": "code",
   "execution_count": 18,
   "metadata": {},
   "outputs": [],
   "source": [
    "# %tensorboard --logdir \"{output_logdir}\""
   ]
  },
  {
   "cell_type": "markdown",
   "metadata": {},
   "source": [
    "## Checkpointing: saving and loading models\n",
    "\n",
    "With the help of `tf.train.CheckpointManager` and `tf.train.Checkpoint`, we can checkpoint the model throughout the training procedure. Let's start with a simple example using checkpointing to save and load a `tf.Variable`:"
   ]
  },
  {
   "cell_type": "code",
   "execution_count": 19,
   "metadata": {},
   "outputs": [],
   "source": [
    "initial_value = 1.2\n",
    "a = tf.Variable(initial_value)"
   ]
  },
  {
   "cell_type": "markdown",
   "metadata": {},
   "source": [
    "Create `Checkpoint` object:"
   ]
  },
  {
   "cell_type": "code",
   "execution_count": 20,
   "metadata": {},
   "outputs": [],
   "source": [
    "ckpt = tf.train.Checkpoint(a=a)\n",
    "manager = tf.train.CheckpointManager(ckpt, output_logdir, max_to_keep=3)"
   ]
  },
  {
   "cell_type": "markdown",
   "metadata": {},
   "source": [
    "Save the variable `a` and change its value right after:"
   ]
  },
  {
   "cell_type": "code",
   "execution_count": 21,
   "metadata": {},
   "outputs": [],
   "source": [
    "manager.save()\n",
    "_ = a.assign(0.33)"
   ]
  },
  {
   "cell_type": "markdown",
   "metadata": {},
   "source": [
    "Now we can restore the old variable value:"
   ]
  },
  {
   "cell_type": "code",
   "execution_count": 22,
   "metadata": {},
   "outputs": [
    {
     "name": "stdout",
     "output_type": "stream",
     "text": [
      "Current value of variable a: 0.330\n",
      "Value of variable a after restore: 1.200\n"
     ]
    }
   ],
   "source": [
    "print(f\"Current value of variable a: {a.numpy():0.3f}\")\n",
    "\n",
    "ckpt.restore(manager.latest_checkpoint)\n",
    "\n",
    "print(f\"Value of variable a after restore: {a.numpy():0.3f}\")"
   ]
  },
  {
   "cell_type": "markdown",
   "metadata": {},
   "source": [
    "In the example below, we modify a simple training loop to save the model every 100 epochs using the `CheckpointManager`."
   ]
  },
  {
   "cell_type": "code",
   "execution_count": 23,
   "metadata": {},
   "outputs": [],
   "source": [
    "model = gpflow.models.SVGP(kernel=kernel, likelihood=likelihood, inducing_variable=inducing_variable)\n",
    "\n",
    "def checkpointing_training_loop(model: gpflow.models.SVGP,\n",
    "                                batch_size: int,\n",
    "                                epochs: int,\n",
    "                                manager: tf.train.CheckpointManager,\n",
    "                                logging_epoch_freq: int = 100,\n",
    "                                epoch_var: Optional[tf.Variable] = None,\n",
    "                                step_var: Optional[tf.Variable] = None):\n",
    "    tf_optimization_step = tf.function(optimization_step)\n",
    "    batches = iter(train_dataset)\n",
    "\n",
    "    for epoch in range(epochs):\n",
    "        for step in range(num_batches_per_epoch):\n",
    "            tf_optimization_step(model, next(batches))\n",
    "            if step_var is not None:\n",
    "                step_var.assign(epoch * num_batches_per_epoch + step + 1)\n",
    "        if epoch_var is not None:\n",
    "            epoch_var.assign(epoch + 1)\n",
    "\n",
    "        epoch_id = epoch + 1\n",
    "        if epoch_id % logging_epoch_freq == 0:\n",
    "            ckpt_path = manager.save()\n",
    "            tf.print(f\"Epoch {epoch_id}: ELBO (train) {model.elbo(data)}, saved at {ckpt_path}\")"
   ]
  },
  {
   "cell_type": "code",
   "execution_count": 24,
   "metadata": {},
   "outputs": [
    {
     "name": "stdout",
     "output_type": "stream",
     "text": [
      "Checkpoint folder path at: /tmp/tensorboard/0\n"
     ]
    },
    {
     "name": "stdout",
     "output_type": "stream",
     "text": [
      "Epoch 100: ELBO (train) -39.88553950667783, saved at /tmp/tensorboard/0/ckpt-1\n"
     ]
    },
    {
     "name": "stdout",
     "output_type": "stream",
     "text": [
      "Epoch 200: ELBO (train) -18.616932632795827, saved at /tmp/tensorboard/0/ckpt-2\n"
     ]
    },
    {
     "name": "stdout",
     "output_type": "stream",
     "text": [
      "Epoch 300: ELBO (train) -9.92288979493582, saved at /tmp/tensorboard/0/ckpt-3\n"
     ]
    },
    {
     "name": "stdout",
     "output_type": "stream",
     "text": [
      "Epoch 400: ELBO (train) -2.8624656459627076, saved at /tmp/tensorboard/0/ckpt-4\n"
     ]
    },
    {
     "name": "stdout",
     "output_type": "stream",
     "text": [
      "Epoch 500: ELBO (train) 4.135271730866522, saved at /tmp/tensorboard/0/ckpt-5\n"
     ]
    },
    {
     "name": "stdout",
     "output_type": "stream",
     "text": [
      "Epoch 600: ELBO (train) 11.350671836142716, saved at /tmp/tensorboard/0/ckpt-6\n"
     ]
    },
    {
     "name": "stdout",
     "output_type": "stream",
     "text": [
      "Epoch 700: ELBO (train) 18.698235025484575, saved at /tmp/tensorboard/0/ckpt-7\n"
     ]
    },
    {
     "name": "stdout",
     "output_type": "stream",
     "text": [
      "Epoch 800: ELBO (train) 26.00898405942457, saved at /tmp/tensorboard/0/ckpt-8\n"
     ]
    },
    {
     "name": "stdout",
     "output_type": "stream",
     "text": [
      "Epoch 900: ELBO (train) 33.025262029105484, saved at /tmp/tensorboard/0/ckpt-9\n"
     ]
    },
    {
     "name": "stdout",
     "output_type": "stream",
     "text": [
      "Epoch 1000: ELBO (train) 39.49817096672503, saved at /tmp/tensorboard/0/ckpt-10\n"
     ]
    }
   ],
   "source": [
    "step_var = tf.Variable(1, dtype=tf.int32, trainable=False)\n",
    "epoch_var = tf.Variable(1, dtype=tf.int32, trainable=False)\n",
    "ckpt = tf.train.Checkpoint(model=model, step=step_var, epoch=epoch_var)\n",
    "manager = tf.train.CheckpointManager(ckpt, output_logdir, max_to_keep=5)\n",
    "\n",
    "print(f\"Checkpoint folder path at: {output_logdir}\")\n",
    "\n",
    "checkpointing_training_loop(model, batch_size=batch_size, epochs=1000, manager=manager, epoch_var=epoch_var, step_var=step_var)"
   ]
  },
  {
   "cell_type": "markdown",
   "metadata": {},
   "source": [
    "After the models have been saved, we can restore them using ```tf.train.Checkpoint.restore``` and assert that their performance corresponds to that logged during training."
   ]
  },
  {
   "cell_type": "code",
   "execution_count": 25,
   "metadata": {},
   "outputs": [
    {
     "name": "stdout",
     "output_type": "stream",
     "text": [
      "0 restored model from epoch 600 [step:1800] : ELBO training set 11.350671836142716\n",
      "1 restored model from epoch 700 [step:2100] : ELBO training set 18.698235025484575\n",
      "2 restored model from epoch 800 [step:2400] : ELBO training set 26.00898405942457\n",
      "3 restored model from epoch 900 [step:2700] : ELBO training set 33.025262029105484\n",
      "4 restored model from epoch 1000 [step:3000] : ELBO training set 39.49817096672503\n"
     ]
    }
   ],
   "source": [
    "for i, recorded_checkpoint in enumerate(manager.checkpoints):\n",
    "    ckpt.restore(recorded_checkpoint)\n",
    "    print(f\"{i} restored model from epoch {int(epoch_var)} [step:{int(step_var)}] : ELBO training set {model.elbo(data)}\")"
   ]
  },
  {
   "cell_type": "markdown",
   "metadata": {},
   "source": [
    "## Copying (hyper)parameter values between models\n",
    "\n",
    "It is easy to interact with the set of all parameters of a model or a subcomponent programmatically.\n",
    "\n",
    "The following returns a dictionary of all parameters within"
   ]
  },
  {
   "cell_type": "code",
   "execution_count": 26,
   "metadata": {},
   "outputs": [],
   "source": [
    "model = gpflow.models.SGPR(data, kernel=kernel, inducing_variable=inducing_variable)"
   ]
  },
  {
   "cell_type": "code",
   "execution_count": 27,
   "metadata": {},
   "outputs": [
    {
     "data": {
      "text/plain": [
       "{'.kernel.variance': <gpflow.Parameter 'Variable:0' dtype=float64 unconstrained-shape=() unconstrained-value=0.17588371015976456 constrained-shape=() constrained-value=0.7849509465660721>,\n",
       " '.kernel.lengthscale': <gpflow.Parameter 'Variable:0' dtype=float64 unconstrained-shape=() unconstrained-value=1.4341688161393973 constrained-shape=() constrained-value=1.647919079485134>,\n",
       " '.likelihood.variance': <gpflow.Parameter 'Variable:0' dtype=float64 unconstrained-shape=() unconstrained-value=0.5413232726357549 constrained-shape=() constrained-value=0.9999999999999999>,\n",
       " '.inducing_variable.Z': <gpflow.Parameter 'Variable:0' dtype=float64 unconstrained-shape=(10, 1) unconstrained-value=[[ 0.        ]\n",
       "  [ 1.11111111]\n",
       "  [ 2.22222222]\n",
       "  [ 3.33333333]\n",
       "  [ 4.44444444]\n",
       "  [ 5.55555556]\n",
       "  [ 6.66666667]\n",
       "  [ 7.77777778]\n",
       "  [ 8.88888889]\n",
       "  [10.        ]] constrained-shape=(10, 1) constrained-value=[[ 0.        ]\n",
       "  [ 1.11111111]\n",
       "  [ 2.22222222]\n",
       "  [ 3.33333333]\n",
       "  [ 4.44444444]\n",
       "  [ 5.55555556]\n",
       "  [ 6.66666667]\n",
       "  [ 7.77777778]\n",
       "  [ 8.88888889]\n",
       "  [10.        ]]>}"
      ]
     },
     "execution_count": 27,
     "metadata": {},
     "output_type": "execute_result"
    }
   ],
   "source": [
    "gpflow.utilities.parameter_dict(model)"
   ]
  },
  {
   "cell_type": "markdown",
   "metadata": {},
   "source": [
    "Such a dictionary can be assigned back to this model (or another model with the same tree of parameters) as follows:"
   ]
  },
  {
   "cell_type": "code",
   "execution_count": 28,
   "metadata": {},
   "outputs": [],
   "source": [
    "params = gpflow.utilities.parameter_dict(model)\n",
    "gpflow.utilities.multiple_assign(model, params)"
   ]
  }
 ],
 "metadata": {
  "jupytext": {
   "formats": "ipynb,.pct.py:percent"
  },
  "kernelspec": {
   "display_name": "Python 3",
   "language": "python",
   "name": "python3"
  },
  "language_info": {
   "codemirror_mode": {
    "name": "ipython",
    "version": 3
   },
   "file_extension": ".py",
   "mimetype": "text/x-python",
   "name": "python",
   "nbconvert_exporter": "python",
   "pygments_lexer": "ipython3",
   "version": "3.7.5"
  }
 },
 "nbformat": 4,
 "nbformat_minor": 2
}
