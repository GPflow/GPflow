{
 "cells": [
  {
   "cell_type": "code",
   "execution_count": 1,
   "metadata": {},
   "outputs": [],
   "source": [
    "%matplotlib inline\n",
    "import numpy as np\n",
    "import matplotlib.pyplot as plt\n",
    "\n",
    "import gpflow\n",
    "import gpflow.multikernels as mk"
   ]
  },
  {
   "cell_type": "code",
   "execution_count": 2,
   "metadata": {},
   "outputs": [],
   "source": [
    "X = np.random.rand(100)[:, None] * 10 - 5\n",
    "G = np.hstack((0.5 * np.sin(3 * X) + X, 3.0 * np.cos(X) - X))\n",
    "Ptrue = np.array([[0.5, -0.3, 1.5], [-0.4, 0.43, 0.0]])\n",
    "Y = np.matmul(G, Ptrue)\n",
    "Y += np.random.randn(*Y.shape) * [0.2, 0.2, 0.2]"
   ]
  },
  {
   "cell_type": "code",
   "execution_count": 3,
   "metadata": {},
   "outputs": [],
   "source": [
    "def plot_model(m):\n",
    "    pX = np.linspace(-6, 6, 100)[:, None]\n",
    "    pY, pYv = m.predict_y(pX)\n",
    "    if pY.ndim == 3:\n",
    "        pY = pY[:, 0, :]\n",
    "    plt.plot(m.X.value, m.Y.value, 'x')\n",
    "    plt.gca().set_color_cycle(None)\n",
    "    plt.plot(pX, pY)\n",
    "    for i in range(pY.shape[1]):\n",
    "        top = pY[:, i] + 2.0 * pYv[:, i] ** 0.5\n",
    "        bot = pY[:, i] - 2.0 * pYv[:, i] ** 0.5\n",
    "        plt.fill_between(pX[:, 0], top, bot, alpha=0.3)"
   ]
  },
  {
   "cell_type": "markdown",
   "metadata": {},
   "source": [
    "# MixedMultiOutput kernel -- Independent inducing points"
   ]
  },
  {
   "cell_type": "code",
   "execution_count": 4,
   "metadata": {
    "scrolled": false
   },
   "outputs": [],
   "source": [
    "M = 20\n",
    "K = 3\n",
    "L = 2\n",
    "R = 1\n",
    "q_mu = np.zeros((M, L, R))\n",
    "q_sqrt = np.tile(np.eye(M)[None, None, :, :], [R, L, 1, 1])\n",
    "with gpflow.defer_build():\n",
    "    kern = mk.MixedMulti([gpflow.kernels.RBF(1) + gpflow.kernels.Linear(1) for _ in range(L)], P=Ptrue.T)\n",
    "    feature = mk.MixedMultiIndependentFeature(Z=X[:M, :].copy())\n",
    "    m = gpflow.models.SVGP(X, Y, kern, gpflow.likelihoods.Gaussian(), feature)\n",
    "    m.q_mu = gpflow.params.Parameter(q_mu, dtype=gpflow.settings.float_type)\n",
    "    m.q_sqrt = gpflow.params.Parameter(q_sqrt, dtype=gpflow.settings.float_type)\n",
    "m.compile()"
   ]
  },
  {
   "cell_type": "code",
   "execution_count": 5,
   "metadata": {},
   "outputs": [
    {
     "name": "stdout",
     "output_type": "stream",
     "text": [
      "INFO:tensorflow:Optimization terminated with:\n",
      "  Message: b'CONVERGENCE: REL_REDUCTION_OF_F_<=_FACTR*EPSMCH'\n",
      "  Objective function value: -16.236387\n",
      "  Number of iterations: 10080\n",
      "  Number of functions evaluations: 10732\n"
     ]
    }
   ],
   "source": [
    "opt = gpflow.train.ScipyOptimizer()\n",
    "opt.minimize(m, disp=True, maxiter=30000)"
   ]
  },
  {
   "cell_type": "code",
   "execution_count": 6,
   "metadata": {},
   "outputs": [
    {
     "data": {
      "text/plain": [
       "16.23638719832087"
      ]
     },
     "execution_count": 6,
     "metadata": {},
     "output_type": "execute_result"
    }
   ],
   "source": [
    "m.compute_log_likelihood()"
   ]
  },
  {
   "cell_type": "code",
   "execution_count": null,
   "metadata": {
    "collapsed": true
   },
   "outputs": [],
   "source": []
  }
 ],
 "metadata": {
  "kernelspec": {
   "display_name": "Python 3",
   "language": "python",
   "name": "python3"
  },
  "language_info": {
   "codemirror_mode": {
    "name": "ipython",
    "version": 3
   },
   "file_extension": ".py",
   "mimetype": "text/x-python",
   "name": "python",
   "nbconvert_exporter": "python",
   "pygments_lexer": "ipython3",
   "version": "3.5.4"
  }
 },
 "nbformat": 4,
 "nbformat_minor": 1
}
