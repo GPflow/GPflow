{
 "cells": [
  {
   "cell_type": "code",
   "execution_count": 1,
   "metadata": {
    "collapsed": false,
    "deletable": true,
    "editable": true
   },
   "outputs": [],
   "source": [
    "import GPflow\n",
    "import numpy as np\n",
    "from matplotlib import pyplot as plt\n",
    "plt.style.use('ggplot')\n",
    "%matplotlib inline\n",
    "\n",
    "def load_coal():\n",
    "    X = np.loadtxt('data/coal.csv')\n",
    "    return X\n",
    "\n",
    "X = load_coal()"
   ]
  },
  {
   "cell_type": "code",
   "execution_count": 2,
   "metadata": {
    "collapsed": false,
    "deletable": true,
    "editable": true
   },
   "outputs": [
    {
     "data": {
      "image/png": "[encoded data removed]",
      "text/plain": [
       "<matplotlib.figure.Figure at 0x10c9c0450>"
      ]
     },
     "metadata": {},
     "output_type": "display_data"
    }
   ],
   "source": [
    "# Plot the (yearly rolled-up) data\n",
    "year_bins = np.arange(np.floor(np.min(X)),np.ceil(np.max(X)))\n",
    "Y, bb = np.histogram(X,year_bins)\n",
    "Y = np.asarray(Y,dtype=np.double)\n",
    "plt.plot(year_bins[:-1],Y,'r.')\n",
    "plt.show()"
   ]
  },
  {
   "cell_type": "code",
   "execution_count": 3,
   "metadata": {
    "collapsed": false,
    "deletable": true,
    "editable": true,
    "scrolled": false
   },
   "outputs": [],
   "source": [
    "#build the model\n",
    "\n",
    "M = 20 # number of inducing points\n",
    "num_grid = 50 # number of grid points\n",
    "bins = np.linspace(X.min(), X.max(), num_grid+1)\n",
    "bin_mids = bins[:-1]+np.diff(bins)\n",
    "\n",
    "counts = np.asarray(np.histogram(X, bins)[0],dtype=np.double)\n",
    "Z = np.linspace(bin_mids.min(), bin_mids.max(), M).reshape(-1,1) \n",
    "\n",
    "kern = GPflow.kernels.RBF(1, lengthscales=10., ARD=False) + GPflow.kernels.Bias(1)\n",
    "\n",
    "lik = GPflow.likelihoods.BinnedPoisson(np.diff(bin_mids.flat)[0])\n",
    "m = GPflow.sgpmc.SGPMC(bin_mids[:,None], counts[:,None], kern, lik, Z)\n",
    "m.kern.rbf.lengthscales.transform = GPflow.transforms.Exp()\n",
    "m.kern.rbf.variance.transform = GPflow.transforms.Exp()\n",
    "m.kern.bias.transform = GPflow.transforms.Exp()"
   ]
  },
  {
   "cell_type": "code",
   "execution_count": 4,
   "metadata": {
    "collapsed": false,
    "deletable": true,
    "editable": true
   },
   "outputs": [],
   "source": [
    "m.kern.rbf.lengthscales.prior = GPflow.priors.Gamma(1., .1)\n",
    "m.kern.rbf.variance.prior = GPflow.priors.Gamma(1.,.3)\n",
    "m.kern.bias.variance.prior = GPflow.priors.Gamma(1., .3)"
   ]
  },
  {
   "cell_type": "code",
   "execution_count": 5,
   "metadata": {
    "collapsed": false,
    "deletable": true,
    "editable": true,
    "scrolled": true
   },
   "outputs": [
    {
     "data": {
      "text/plain": [
       "      fun: array([ 153.82399323])\n",
       " hess_inv: <23x23 LbfgsInvHessProduct with dtype=float64>\n",
       "      jac: array([ -6.41323374e-05,   1.26671003e-03,  -3.36230295e-04,\n",
       "         4.22290502e-04,   1.39352315e-04,  -1.57350491e-04,\n",
       "         1.99370475e-05,  -3.05607751e-05,   2.63279260e-04,\n",
       "        -1.94159474e-04,  -2.45933315e-04,  -2.49277282e-04,\n",
       "        -1.34839370e-04,  -1.00782144e-04,  -2.31013824e-04,\n",
       "         9.07806710e-05,   2.88925627e-04,  -1.61221476e-04,\n",
       "         2.06234552e-04,   1.72166864e-04,   2.67870421e-04,\n",
       "        -3.16108549e-04,  -4.32928468e-05])\n",
       "  message: 'CONVERGENCE: REL_REDUCTION_OF_F_<=_FACTR*EPSMCH'\n",
       "     nfev: 33\n",
       "      nit: 32\n",
       "   status: 0\n",
       "  success: True\n",
       "        x: array([-1.00877314,  0.97557969, -0.97018444,  1.37656739,  0.32165815,\n",
       "        0.53165383,  0.95699269,  0.23032903,  0.4372274 , -0.11457945,\n",
       "       -0.64908068, -1.34220114, -1.15145753, -0.24322106, -1.41908985,\n",
       "       -1.33245286, -0.90287825,  0.04082065, -0.04344812, -0.59389833,\n",
       "       -0.84219458, -1.79177935, -0.45462655])"
      ]
     },
     "execution_count": 5,
     "metadata": {},
     "output_type": "execute_result"
    }
   ],
   "source": [
    "m.optimize(maxiter=50) # start near MAP"
   ]
  },
  {
   "cell_type": "code",
   "execution_count": 6,
   "metadata": {
    "collapsed": false,
    "deletable": true,
    "editable": true
   },
   "outputs": [
    {
     "name": "stdout",
     "output_type": "stream",
     "text": [
      "burn-in sampling started\n",
      "Iteration:  100 \t Acc Rate:  96.0 %\n",
      "burn-in sampling ended\n",
      "Iteration:  100 \t Acc Rate:  92.0 %\n",
      "Iteration:  200 \t Acc Rate:  97.0 %\n",
      "Iteration:  300 \t Acc Rate:  96.0 %\n",
      "Iteration:  400 \t Acc Rate:  94.0 %\n",
      "Iteration:  500 \t Acc Rate:  94.0 %\n",
      "Iteration:  600 \t Acc Rate:  97.0 %\n",
      "Iteration:  700 \t Acc Rate:  98.0 %\n",
      "Iteration:  800 \t Acc Rate:  95.0 %\n",
      "Iteration:  900 \t Acc Rate:  94.0 %\n",
      "Iteration:  1000 \t Acc Rate:  95.0 %\n"
     ]
    }
   ],
   "source": [
    "num_samples = 1000\n",
    "samples = m.sample(num_samples, verbose=True, epsilon=0.08, Lmax=40, burn = 100)"
   ]
  },
  {
   "cell_type": "code",
   "execution_count": 11,
   "metadata": {
    "collapsed": false,
    "deletable": true,
    "editable": true
   },
   "outputs": [],
   "source": [
    "ms, vs = [],[]\n",
    "for s in samples:\n",
    "    m.set_state(s)\n",
    "    mui, vi = m.predict_f_full_cov(bin_mids[:,None])\n",
    "    ms.append(mui)\n",
    "    vs.append(vi)\n",
    "\n",
    "cox_samples = np.hstack([np.random.multivariate_normal(np.squeeze(mu), np.squeeze(var), 10).T for mu, var in zip(ms, vs)])\n"
   ]
  },
  {
   "cell_type": "code",
   "execution_count": 7,
   "metadata": {
    "collapsed": false
   },
   "outputs": [
    {
     "data": {
      "image/png": "[encoded data removed]",
      "text/plain": [
       "<matplotlib.figure.Figure at 0x1183eb690>"
      ]
     },
     "metadata": {},
     "output_type": "display_data"
    }
   ],
   "source": [
    "plt.hist(np.exp(samples[:,20]),100,normed=True)\n",
    "plt.title('Lengthscale')\n",
    "plt.show()"
   ]
  },
  {
   "cell_type": "code",
   "execution_count": 8,
   "metadata": {
    "collapsed": false
   },
   "outputs": [
    {
     "data": {
      "image/png": "[encoded data removed]",
      "text/plain": [
       "<matplotlib.figure.Figure at 0x1184377d0>"
      ]
     },
     "metadata": {},
     "output_type": "display_data"
    }
   ],
   "source": [
    "plt.hist(np.exp(samples[:,21]),100,normed=True)\n",
    "plt.title('Variance')\n",
    "plt.show()"
   ]
  },
  {
   "cell_type": "code",
   "execution_count": 12,
   "metadata": {
    "collapsed": false,
    "deletable": true,
    "editable": true
   },
   "outputs": [
    {
     "data": {
      "image/png": "[encoded data removed]",
      "text/plain": [
       "<matplotlib.figure.Figure at 0x118cbbbd0>"
      ]
     },
     "metadata": {},
     "output_type": "display_data"
    }
   ],
   "source": [
    "plt.figure()\n",
    "X = bin_mids[:,None]\n",
    "bw = m.likelihood.binsize\n",
    "plt.plot(X,np.mean(np.exp(cox_samples)*bw,axis=1) ,'r')\n",
    "plt.plot(X,np.percentile(np.exp(cox_samples)*bw, 5,axis=1), 'b--')\n",
    "plt.plot(X,np.percentile(np.exp(cox_samples)*bw,95,axis=1), 'b--')\n",
    "\n",
    "XC = load_coal()\n",
    "year_bins = np.arange(np.floor(np.min(XC)),np.ceil(np.max(XC)))\n",
    "z, bb = np.histogram(XC,year_bins)\n",
    "plt.plot(bb[:-1],z,'g.')\n",
    "plt.plot(XC,np.zeros_like(XC)-1,'k|')\n",
    "plt.show()"
   ]
  },
  {
   "cell_type": "code",
   "execution_count": 13,
   "metadata": {
    "collapsed": false,
    "deletable": true,
    "editable": true
   },
   "outputs": [],
   "source": [
    "kernel_samples = m.kern.get_samples_df(samples)"
   ]
  },
  {
   "cell_type": "code",
   "execution_count": 14,
   "metadata": {
    "collapsed": false,
    "deletable": true,
    "editable": true
   },
   "outputs": [
    {
     "data": {
      "text/html": [
       "<div>\n",
       "<table border=\"1\" class=\"dataframe\">\n",
       "  <thead>\n",
       "    <tr style=\"text-align: right;\">\n",
       "      <th></th>\n",
       "      <th>model.kern.bias.variance</th>\n",
       "      <th>model.kern.rbf.lengthscales</th>\n",
       "      <th>model.kern.rbf.variance</th>\n",
       "    </tr>\n",
       "  </thead>\n",
       "  <tbody>\n",
       "    <tr>\n",
       "      <th>0</th>\n",
       "      <td>[0.367126886207]</td>\n",
       "      <td>[0.803546834707]</td>\n",
       "      <td>[0.0114275130028]</td>\n",
       "    </tr>\n",
       "    <tr>\n",
       "      <th>1</th>\n",
       "      <td>[0.146563429719]</td>\n",
       "      <td>[0.00873216456956]</td>\n",
       "      <td>[0.0310305218564]</td>\n",
       "    </tr>\n",
       "    <tr>\n",
       "      <th>2</th>\n",
       "      <td>[0.0580748560318]</td>\n",
       "      <td>[0.00944052770021]</td>\n",
       "      <td>[0.00915167693152]</td>\n",
       "    </tr>\n",
       "    <tr>\n",
       "      <th>3</th>\n",
       "      <td>[0.0813689474311]</td>\n",
       "      <td>[0.0864351861173]</td>\n",
       "      <td>[0.00127781709451]</td>\n",
       "    </tr>\n",
       "    <tr>\n",
       "      <th>4</th>\n",
       "      <td>[0.181792095187]</td>\n",
       "      <td>[0.0331780894182]</td>\n",
       "      <td>[0.000956660777886]</td>\n",
       "    </tr>\n",
       "  </tbody>\n",
       "</table>\n",
       "</div>"
      ],
      "text/plain": [
       "  model.kern.bias.variance model.kern.rbf.lengthscales model.kern.rbf.variance\n",
       "0         [0.367126886207]            [0.803546834707]       [0.0114275130028]\n",
       "1         [0.146563429719]          [0.00873216456956]       [0.0310305218564]\n",
       "2        [0.0580748560318]          [0.00944052770021]      [0.00915167693152]\n",
       "3        [0.0813689474311]           [0.0864351861173]      [0.00127781709451]\n",
       "4         [0.181792095187]           [0.0331780894182]     [0.000956660777886]"
      ]
     },
     "execution_count": 14,
     "metadata": {},
     "output_type": "execute_result"
    }
   ],
   "source": [
    "kernel_samples.head()"
   ]
  },
  {
   "cell_type": "code",
   "execution_count": 15,
   "metadata": {
    "collapsed": false,
    "deletable": true,
    "editable": true
   },
   "outputs": [
    {
     "data": {
      "text/plain": [
       "model.kern.bias.variance       0.349448\n",
       "model.kern.rbf.lengthscales    0.260677\n",
       "model.kern.rbf.variance        0.028669\n",
       "dtype: float64"
      ]
     },
     "execution_count": 15,
     "metadata": {},
     "output_type": "execute_result"
    }
   ],
   "source": [
    "kernel_samples.mean()"
   ]
  },
  {
   "cell_type": "code",
   "execution_count": 16,
   "metadata": {
    "collapsed": false,
    "deletable": true,
    "editable": true
   },
   "outputs": [
    {
     "data": {
      "text/plain": [
       "model.kern.bias.variance       0.293056\n",
       "model.kern.rbf.lengthscales    0.558479\n",
       "model.kern.rbf.variance        0.055383\n",
       "dtype: float64"
      ]
     },
     "execution_count": 16,
     "metadata": {},
     "output_type": "execute_result"
    }
   ],
   "source": [
    "kernel_samples.std()"
   ]
  },
  {
   "cell_type": "code",
   "execution_count": null,
   "metadata": {
    "collapsed": true,
    "deletable": true,
    "editable": true
   },
   "outputs": [],
   "source": []
  }
 ],
 "metadata": {
  "anaconda-cloud": {},
  "kernelspec": {
   "display_name": "Python 2",
   "language": "python",
   "name": "python2"
  },
  "language_info": {
   "codemirror_mode": {
    "name": "ipython",
    "version": 2
   },
   "file_extension": ".py",
   "mimetype": "text/x-python",
   "name": "python",
   "nbconvert_exporter": "python",
   "pygments_lexer": "ipython2",
   "version": "2.7.13"
  }
 },
 "nbformat": 4,
 "nbformat_minor": 0
}
