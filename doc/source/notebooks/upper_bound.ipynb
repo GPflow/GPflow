{
 "cells": [
  {
   "cell_type": "markdown",
   "metadata": {},
   "source": [
    "Discussion of the GP marginal likelihood upper bound\n",
    "--\n",
    "\n",
    "*Mark van der Wilk, August 2017*  \n",
    "*Small edits by James Hensman 2017*\n",
    "\n",
    "See [gp_upper](https://github.com/markvdw/gp_upper) for code to tighten the upper bound through optimisation, and a more comprehensive discussion."
   ]
  },
  {
   "cell_type": "code",
   "execution_count": 1,
   "metadata": {
    "ExecuteTime": {
     "end_time": "2018-06-13T13:34:45.449124Z",
     "start_time": "2018-06-13T13:34:44.546061Z"
    }
   },
   "outputs": [],
   "source": [
    "import matplotlib\n",
    "%matplotlib inline\n",
    "matplotlib.rcParams['figure.figsize'] = (12, 6)\n",
    "plt = matplotlib.pyplot\n",
    "\n",
    "import numpy as np\n",
    "import pandas as pd\n",
    "\n",
    "import gpflow\n",
    "from gpflow.test_util import notebook_niter\n",
    "\n",
    "from FITCvsVFE import getTrainingTestData\n",
    "from __future__ import print_function"
   ]
  },
  {
   "cell_type": "code",
   "execution_count": 2,
   "metadata": {
    "ExecuteTime": {
     "end_time": "2018-06-13T13:34:45.452521Z",
     "start_time": "2018-06-13T13:34:45.450274Z"
    }
   },
   "outputs": [],
   "source": [
    "X, Y, Xt, Yt = getTrainingTestData()"
   ]
  },
  {
   "cell_type": "code",
   "execution_count": 3,
   "metadata": {
    "ExecuteTime": {
     "end_time": "2018-06-13T13:34:45.463513Z",
     "start_time": "2018-06-13T13:34:45.453490Z"
    }
   },
   "outputs": [],
   "source": [
    "def plot_model(m, name=\"\"):\n",
    "    pX = np.linspace(-3, 9, 100)[:, None]\n",
    "    pY, pYv = m.predict_y(pX)\n",
    "    plt.plot(X, Y, 'x')\n",
    "    plt.plot(pX, pY)\n",
    "    try:\n",
    "        plt.plot(m.feature.Z.value, m.feature.Z.value * 0, 'o')\n",
    "    except AttributeError:\n",
    "        pass\n",
    "    two_sigma = (2.0 * pYv ** 0.5)[:, 0]\n",
    "    plt.fill_between(pX[:, 0], pY[:, 0] - two_sigma, pY[:, 0] + two_sigma, alpha=0.15)\n",
    "    lml = m.compute_log_likelihood()\n",
    "    plt.title(\"%s (lml = %f)\" % (name, lml))\n",
    "    return lml"
   ]
  },
  {
   "cell_type": "markdown",
   "metadata": {},
   "source": [
    "## Full model"
   ]
  },
  {
   "cell_type": "code",
   "execution_count": 4,
   "metadata": {
    "ExecuteTime": {
     "end_time": "2018-06-13T13:34:46.010346Z",
     "start_time": "2018-06-13T13:34:45.464533Z"
    }
   },
   "outputs": [
    {
     "name": "stdout",
     "output_type": "stream",
     "text": [
      "INFO:tensorflow:Optimization terminated with:\n",
      "  Message: b'CONVERGENCE: NORM_OF_PROJECTED_GRADIENT_<=_PGTOL'\n",
      "  Objective function value: 23.966658\n",
      "  Number of iterations: 13\n",
      "  Number of functions evaluations: 18\n"
     ]
    },
    {
     "data": {
      "image/png": "[encoded data removed]",
      "text/plain": [
       "<matplotlib.figure.Figure at 0x7f114faa75f8>"
      ]
     },
     "metadata": {},
     "output_type": "display_data"
    }
   ],
   "source": [
    "f = gpflow.models.GPR(X, Y, gpflow.kernels.RBF(1))\n",
    "f.compile()\n",
    "gpflow.train.ScipyOptimizer().minimize(f, maxiter=notebook_niter(1000))\n",
    "full_lml = plot_model(f)"
   ]
  },
  {
   "cell_type": "markdown",
   "metadata": {},
   "source": [
    "## Upper bounds for sparse variational models\n",
    "As a first investigation, we compute the upper bound for models trained using the sparse variational GP approximation."
   ]
  },
  {
   "cell_type": "code",
   "execution_count": 5,
   "metadata": {
    "ExecuteTime": {
     "end_time": "2018-06-13T13:35:11.674943Z",
     "start_time": "2018-06-13T13:34:46.011770Z"
    }
   },
   "outputs": [
    {
     "name": "stdout",
     "output_type": "stream",
     "text": [
      "INFO:tensorflow:Optimization terminated with:\n",
      "  Message: b'CONVERGENCE: REL_REDUCTION_OF_F_<=_FACTR*EPSMCH'\n",
      "  Objective function value: 49.220787\n",
      "  Number of iterations: 25\n",
      "  Number of functions evaluations: 36\n",
      "4 INFO:tensorflow:Optimization terminated with:\n",
      "  Message: b'CONVERGENCE: REL_REDUCTION_OF_F_<=_FACTR*EPSMCH'\n",
      "  Objective function value: 40.211568\n",
      "  Number of iterations: 50\n",
      "  Number of functions evaluations: 81\n",
      "5 INFO:tensorflow:Optimization terminated with:\n",
      "  Message: b'CONVERGENCE: REL_REDUCTION_OF_F_<=_FACTR*EPSMCH'\n",
      "  Objective function value: 37.583478\n",
      "  Number of iterations: 35\n",
      "  Number of functions evaluations: 43\n",
      "6 INFO:tensorflow:Optimization terminated with:\n",
      "  Message: b'CONVERGENCE: REL_REDUCTION_OF_F_<=_FACTR*EPSMCH'\n",
      "  Objective function value: 30.092951\n",
      "  Number of iterations: 32\n",
      "  Number of functions evaluations: 49\n",
      "7 INFO:tensorflow:Optimization terminated with:\n",
      "  Message: b'CONVERGENCE: REL_REDUCTION_OF_F_<=_FACTR*EPSMCH'\n",
      "  Objective function value: 26.316172\n",
      "  Number of iterations: 33\n",
      "  Number of functions evaluations: 45\n",
      "8 INFO:tensorflow:Optimization terminated with:\n",
      "  Message: b'CONVERGENCE: REL_REDUCTION_OF_F_<=_FACTR*EPSMCH'\n",
      "  Objective function value: 24.957100\n",
      "  Number of iterations: 30\n",
      "  Number of functions evaluations: 36\n",
      "9 INFO:tensorflow:Optimization terminated with:\n",
      "  Message: b'CONVERGENCE: REL_REDUCTION_OF_F_<=_FACTR*EPSMCH'\n",
      "  Objective function value: 24.310472\n",
      "  Number of iterations: 35\n",
      "  Number of functions evaluations: 41\n",
      "10 INFO:tensorflow:Optimization terminated with:\n",
      "  Message: b'CONVERGENCE: REL_REDUCTION_OF_F_<=_FACTR*EPSMCH'\n",
      "  Objective function value: 24.069186\n",
      "  Number of iterations: 45\n",
      "  Number of functions evaluations: 63\n",
      "11 INFO:tensorflow:Optimization terminated with:\n",
      "  Message: b'CONVERGENCE: REL_REDUCTION_OF_F_<=_FACTR*EPSMCH'\n",
      "  Objective function value: 24.014035\n",
      "  Number of iterations: 63\n",
      "  Number of functions evaluations: 80\n",
      "12 INFO:tensorflow:Optimization terminated with:\n",
      "  Message: b'CONVERGENCE: REL_REDUCTION_OF_F_<=_FACTR*EPSMCH'\n",
      "  Objective function value: 23.981403\n",
      "  Number of iterations: 59\n",
      "  Number of functions evaluations: 70\n",
      "13 INFO:tensorflow:Optimization terminated with:\n",
      "  Message: b'CONVERGENCE: REL_REDUCTION_OF_F_<=_FACTR*EPSMCH'\n",
      "  Objective function value: 23.979627\n",
      "  Number of iterations: 89\n",
      "  Number of functions evaluations: 106\n",
      "14 INFO:tensorflow:Optimization terminated with:\n",
      "  Message: b'CONVERGENCE: REL_REDUCTION_OF_F_<=_FACTR*EPSMCH'\n",
      "  Objective function value: 23.979570\n",
      "  Number of iterations: 70\n",
      "  Number of functions evaluations: 78\n",
      "15 INFO:tensorflow:Optimization terminated with:\n",
      "  Message: b'CONVERGENCE: REL_REDUCTION_OF_F_<=_FACTR*EPSMCH'\n",
      "  Objective function value: 23.966983\n",
      "  Number of iterations: 194\n",
      "  Number of functions evaluations: 227\n",
      "16 INFO:tensorflow:Optimization terminated with:\n",
      "  Message: b'CONVERGENCE: REL_REDUCTION_OF_F_<=_FACTR*EPSMCH'\n",
      "  Objective function value: 23.966962\n",
      "  Number of iterations: 258\n",
      "  Number of functions evaluations: 298\n",
      "17 INFO:tensorflow:Optimization terminated with:\n",
      "  Message: b'CONVERGENCE: REL_REDUCTION_OF_F_<=_FACTR*EPSMCH'\n",
      "  Objective function value: 23.966950\n",
      "  Number of iterations: 201\n",
      "  Number of functions evaluations: 237\n",
      "18 INFO:tensorflow:Optimization terminated with:\n",
      "  Message: b'CONVERGENCE: REL_REDUCTION_OF_F_<=_FACTR*EPSMCH'\n",
      "  Objective function value: 23.966945\n",
      "  Number of iterations: 157\n",
      "  Number of functions evaluations: 189\n",
      "19 "
     ]
    }
   ],
   "source": [
    "Ms = np.arange(4, notebook_niter(20, test_n=6), 1)\n",
    "vfe_lml = []\n",
    "vupper_lml = []\n",
    "vfe_hyps = []\n",
    "for M in Ms:\n",
    "    Zinit = X[:M, :].copy()\n",
    "    vfe = gpflow.models.SGPR(X, Y, gpflow.kernels.RBF(1), Zinit)\n",
    "    vfe.compile()\n",
    "    gpflow.train.ScipyOptimizer().minimize(vfe, disp=False, maxiter=notebook_niter(1000))\n",
    "    \n",
    "    vfe_lml.append(vfe.compute_log_likelihood())\n",
    "    vupper_lml.append(vfe.compute_upper_bound())\n",
    "    vfe_hyps.append({p.pathname:p.read_value() for p in vfe.trainable_parameters})\n",
    "    print(\"%i\" % M, end=\" \")\n",
    "vfe_hyps = pd.DataFrame(vfe_hyps)"
   ]
  },
  {
   "cell_type": "code",
   "execution_count": 6,
   "metadata": {
    "ExecuteTime": {
     "end_time": "2018-06-13T13:35:11.796518Z",
     "start_time": "2018-06-13T13:35:11.676353Z"
    }
   },
   "outputs": [
    {
     "data": {
      "text/plain": [
       "Text(0.5,1,'LML bounds for models trained with SGPR')"
      ]
     },
     "execution_count": 6,
     "metadata": {},
     "output_type": "execute_result"
    },
    {
     "data": {
      "image/png": "[encoded data removed]",
      "text/plain": [
       "<matplotlib.figure.Figure at 0x7f11443df6d8>"
      ]
     },
     "metadata": {},
     "output_type": "display_data"
    }
   ],
   "source": [
    "plt.plot(Ms, vfe_lml, label=\"lower\")\n",
    "plt.plot(Ms, vupper_lml, label=\"upper\")\n",
    "plt.axhline(full_lml, label=\"full\", alpha=0.3)\n",
    "plt.xlabel(\"Number of inducing points\")\n",
    "plt.ylabel(\"LML estimate\")\n",
    "plt.legend()\n",
    "plt.title(\"LML bounds for models trained with SGPR\")"
   ]
  },
  {
   "cell_type": "markdown",
   "metadata": {},
   "source": [
    "We see that the lower bound increases as more inducing points are added. Note that the upper bound does _not_ monotonically decrease! This is because as we train the sparse model, we also get better estimates of the hyperparameters. The upper bound will be different for this different setting of the hyperparameters, and is sometimes looser. The upper bound also converges to the true lml slower than the lower bound."
   ]
  },
  {
   "cell_type": "markdown",
   "metadata": {},
   "source": [
    "## Upper bounds for fixed hyperparameters\n",
    "Here, we train sparse models with the hyperparameters fixed to the optimal value found previously."
   ]
  },
  {
   "cell_type": "code",
   "execution_count": 7,
   "metadata": {
    "ExecuteTime": {
     "end_time": "2018-06-13T13:36:14.340641Z",
     "start_time": "2018-06-13T13:35:11.797951Z"
    }
   },
   "outputs": [
    {
     "name": "stdout",
     "output_type": "stream",
     "text": [
      "INFO:tensorflow:Optimization terminated with:\n",
      "  Message: b'CONVERGENCE: REL_REDUCTION_OF_F_<=_FACTR*EPSMCH'\n",
      "  Objective function value: 180.921308\n",
      "  Number of iterations: 13\n",
      "  Number of functions evaluations: 22\n",
      "3 INFO:tensorflow:Optimization terminated with:\n",
      "  Message: b'CONVERGENCE: REL_REDUCTION_OF_F_<=_FACTR*EPSMCH'\n",
      "  Objective function value: 115.874193\n",
      "  Number of iterations: 8\n",
      "  Number of functions evaluations: 10\n",
      "4 INFO:tensorflow:Optimization terminated with:\n",
      "  Message: b'CONVERGENCE: REL_REDUCTION_OF_F_<=_FACTR*EPSMCH'\n",
      "  Objective function value: 78.818456\n",
      "  Number of iterations: 11\n",
      "  Number of functions evaluations: 14\n",
      "5 INFO:tensorflow:Optimization terminated with:\n",
      "  Message: b'CONVERGENCE: REL_REDUCTION_OF_F_<=_FACTR*EPSMCH'\n",
      "  Objective function value: 68.877359\n",
      "  Number of iterations: 12\n",
      "  Number of functions evaluations: 14\n",
      "6 INFO:tensorflow:Optimization terminated with:\n",
      "  Message: b'CONVERGENCE: REL_REDUCTION_OF_F_<=_FACTR*EPSMCH'\n",
      "  Objective function value: 39.646882\n",
      "  Number of iterations: 22\n",
      "  Number of functions evaluations: 29\n",
      "7 INFO:tensorflow:Optimization terminated with:\n",
      "  Message: b'CONVERGENCE: REL_REDUCTION_OF_F_<=_FACTR*EPSMCH'\n",
      "  Objective function value: 28.745365\n",
      "  Number of iterations: 18\n",
      "  Number of functions evaluations: 24\n",
      "8 INFO:tensorflow:Optimization terminated with:\n",
      "  Message: b'CONVERGENCE: REL_REDUCTION_OF_F_<=_FACTR*EPSMCH'\n",
      "  Objective function value: 25.581921\n",
      "  Number of iterations: 18\n",
      "  Number of functions evaluations: 21\n",
      "9 INFO:tensorflow:Optimization terminated with:\n",
      "  Message: b'CONVERGENCE: REL_REDUCTION_OF_F_<=_FACTR*EPSMCH'\n",
      "  Objective function value: 24.431858\n",
      "  Number of iterations: 20\n",
      "  Number of functions evaluations: 25\n",
      "10 INFO:tensorflow:Optimization terminated with:\n",
      "  Message: b'CONVERGENCE: REL_REDUCTION_OF_F_<=_FACTR*EPSMCH'\n",
      "  Objective function value: 24.092230\n",
      "  Number of iterations: 23\n",
      "  Number of functions evaluations: 30\n",
      "11 INFO:tensorflow:Optimization terminated with:\n",
      "  Message: b'CONVERGENCE: REL_REDUCTION_OF_F_<=_FACTR*EPSMCH'\n",
      "  Objective function value: 24.018116\n",
      "  Number of iterations: 29\n",
      "  Number of functions evaluations: 32\n",
      "12 INFO:tensorflow:Optimization terminated with:\n",
      "  Message: b'CONVERGENCE: REL_REDUCTION_OF_F_<=_FACTR*EPSMCH'\n",
      "  Objective function value: 23.981677\n",
      "  Number of iterations: 23\n",
      "  Number of functions evaluations: 32\n",
      "13 INFO:tensorflow:Optimization terminated with:\n",
      "  Message: b'CONVERGENCE: REL_REDUCTION_OF_F_<=_FACTR*EPSMCH'\n",
      "  Objective function value: 23.970090\n",
      "  Number of iterations: 33\n",
      "  Number of functions evaluations: 43\n",
      "14 INFO:tensorflow:Optimization terminated with:\n",
      "  Message: b'CONVERGENCE: REL_REDUCTION_OF_F_<=_FACTR*EPSMCH'\n",
      "  Objective function value: 23.968222\n",
      "  Number of iterations: 28\n",
      "  Number of functions evaluations: 32\n",
      "15 INFO:tensorflow:Optimization terminated with:\n",
      "  Message: b'CONVERGENCE: REL_REDUCTION_OF_F_<=_FACTR*EPSMCH'\n",
      "  Objective function value: 23.966973\n",
      "  Number of iterations: 18\n",
      "  Number of functions evaluations: 21\n",
      "16 INFO:tensorflow:Optimization terminated with:\n",
      "  Message: b'CONVERGENCE: REL_REDUCTION_OF_F_<=_FACTR*EPSMCH'\n",
      "  Objective function value: 23.966949\n",
      "  Number of iterations: 11\n",
      "  Number of functions evaluations: 15\n",
      "17 INFO:tensorflow:Optimization terminated with:\n",
      "  Message: b'CONVERGENCE: REL_REDUCTION_OF_F_<=_FACTR*EPSMCH'\n",
      "  Objective function value: 23.966914\n",
      "  Number of iterations: 17\n",
      "  Number of functions evaluations: 20\n",
      "18 INFO:tensorflow:Optimization terminated with:\n",
      "  Message: b'CONVERGENCE: NORM_OF_PROJECTED_GRADIENT_<=_PGTOL'\n",
      "  Objective function value: 23.966905\n",
      "  Number of iterations: 12\n",
      "  Number of functions evaluations: 16\n",
      "19 "
     ]
    }
   ],
   "source": [
    "fMs = np.arange(3, notebook_niter(20, test_n=5), 1)\n",
    "fvfe_lml = []  # Fixed vfe lml\n",
    "fvupper_lml = []  # Fixed upper lml\n",
    "for M in fMs:\n",
    "    Zinit = vfe.feature.Z.read_value()[:M, :].copy()\n",
    "    Zinit = np.vstack((Zinit, X[np.random.permutation(len(X))[:(M - len(Zinit))], :].copy()))\n",
    "    init_params = {p.pathname:p.read_value() for p in vfe.parameters} # TODO: provide convenience function\n",
    "    init_params['SGPR/feature/Z'] = Zinit\n",
    "    vfe = gpflow.models.SGPR(X, Y, gpflow.kernels.RBF(1), Zinit)\n",
    "    vfe.assign(init_params)\n",
    "    vfe.kern.variance.set_trainable(False)\n",
    "    vfe.kern.lengthscales.set_trainable(False)\n",
    "    vfe.likelihood.set_trainable(False)\n",
    "    vfe.compile()\n",
    "    gpflow.train.ScipyOptimizer().minimize(vfe, disp=False)\n",
    "    \n",
    "    fvfe_lml.append(vfe.compute_log_likelihood())\n",
    "    fvupper_lml.append(vfe.compute_upper_bound())\n",
    "    print(\"%i\" % M, end=\" \")"
   ]
  },
  {
   "cell_type": "code",
   "execution_count": 8,
   "metadata": {
    "ExecuteTime": {
     "end_time": "2018-06-13T13:36:14.489559Z",
     "start_time": "2018-06-13T13:36:14.342294Z"
    }
   },
   "outputs": [
    {
     "data": {
      "text/plain": [
       "<matplotlib.legend.Legend at 0x7f10fdd63a58>"
      ]
     },
     "execution_count": 8,
     "metadata": {},
     "output_type": "execute_result"
    },
    {
     "data": {
      "image/png": "[encoded data removed]",
      "text/plain": [
       "<matplotlib.figure.Figure at 0x7f10fdd51438>"
      ]
     },
     "metadata": {},
     "output_type": "display_data"
    }
   ],
   "source": [
    "plt.plot(fMs, fvfe_lml, label=\"lower\")\n",
    "plt.plot(fMs, fvupper_lml, label=\"upper\")\n",
    "plt.axhline(full_lml, label=\"full\", alpha=0.3)\n",
    "plt.xlabel(\"Number of inducing points\")\n",
    "plt.ylabel(\"LML estimate\")\n",
    "plt.legend()"
   ]
  },
  {
   "cell_type": "markdown",
   "metadata": {},
   "source": [
    "Now, as the hyperparameters are fixed, the bound _does_ monotonically decrease. We chose the optimal hyperparameters here, but the picture should be the same for any hyperparameter setting. This shows that we increasingly get a better estimate of the marginal likelihood as we add more inducing points."
   ]
  },
  {
   "cell_type": "markdown",
   "metadata": {},
   "source": [
    "## A tight estimate bound does not imply a converged model"
   ]
  },
  {
   "cell_type": "code",
   "execution_count": 9,
   "metadata": {
    "ExecuteTime": {
     "end_time": "2018-06-13T13:36:19.228826Z",
     "start_time": "2018-06-13T13:36:14.492268Z"
    }
   },
   "outputs": [
    {
     "name": "stdout",
     "output_type": "stream",
     "text": [
      "INFO:tensorflow:Optimization terminated with:\n",
      "  Message: b'CONVERGENCE: REL_REDUCTION_OF_F_<=_FACTR*EPSMCH'\n",
      "  Objective function value: 62.487090\n",
      "  Number of iterations: 46\n",
      "  Number of functions evaluations: 57\n",
      "Lower bound: -62.487090\n",
      "Upper bound: -62.484641\n"
     ]
    }
   ],
   "source": [
    "vfe = gpflow.models.SGPR(X, Y, gpflow.kernels.RBF(1), X[None, 0, :].copy())\n",
    "vfe.compile()\n",
    "gpflow.train.ScipyOptimizer().minimize(vfe, maxiter=notebook_niter(1000))\n",
    "print(\"Lower bound: %f\" % vfe.compute_log_likelihood())\n",
    "print(\"Upper bound: %f\" % vfe.compute_upper_bound())"
   ]
  },
  {
   "cell_type": "markdown",
   "metadata": {},
   "source": [
    "In this case we show that for the hyperparameter setting, the bound is very tight. However, this does _not_ imply that we have enough inducing points, but simply that we have correctly identified the marginal likelihood for this particular hyperparameter setting. In this specific case, where we used a single inducing point, the model collapses to not using the GP at all (lengthscale is really long to model only the mean). The rest of the variance is explained by noise. This GP can be perfectly approximated with a single inducing point."
   ]
  },
  {
   "cell_type": "code",
   "execution_count": 10,
   "metadata": {
    "ExecuteTime": {
     "end_time": "2018-06-13T13:36:19.252790Z",
     "start_time": "2018-06-13T13:36:19.230315Z"
    }
   },
   "outputs": [
    {
     "data": {
      "text/html": [
       "<div>\n",
       "<style scoped>\n",
       "    .dataframe tbody tr th:only-of-type {\n",
       "        vertical-align: middle;\n",
       "    }\n",
       "\n",
       "    .dataframe tbody tr th {\n",
       "        vertical-align: top;\n",
       "    }\n",
       "\n",
       "    .dataframe thead th {\n",
       "        text-align: right;\n",
       "    }\n",
       "</style>\n",
       "<table border=\"1\" class=\"dataframe\">\n",
       "  <thead>\n",
       "    <tr style=\"text-align: right;\">\n",
       "      <th></th>\n",
       "      <th>class</th>\n",
       "      <th>prior</th>\n",
       "      <th>transform</th>\n",
       "      <th>trainable</th>\n",
       "      <th>shape</th>\n",
       "      <th>fixed_shape</th>\n",
       "      <th>value</th>\n",
       "    </tr>\n",
       "  </thead>\n",
       "  <tbody>\n",
       "    <tr>\n",
       "      <th>SGPR/kern/variance</th>\n",
       "      <td>Parameter</td>\n",
       "      <td>None</td>\n",
       "      <td>+ve</td>\n",
       "      <td>True</td>\n",
       "      <td>()</td>\n",
       "      <td>True</td>\n",
       "      <td>0.10775256810399733</td>\n",
       "    </tr>\n",
       "    <tr>\n",
       "      <th>SGPR/kern/lengthscales</th>\n",
       "      <td>Parameter</td>\n",
       "      <td>None</td>\n",
       "      <td>+ve</td>\n",
       "      <td>True</td>\n",
       "      <td>()</td>\n",
       "      <td>True</td>\n",
       "      <td>1014.3847523740365</td>\n",
       "    </tr>\n",
       "    <tr>\n",
       "      <th>SGPR/feature/Z</th>\n",
       "      <td>Parameter</td>\n",
       "      <td>None</td>\n",
       "      <td>(none)</td>\n",
       "      <td>True</td>\n",
       "      <td>(1, 1)</td>\n",
       "      <td>True</td>\n",
       "      <td>[[2.6574094508]]</td>\n",
       "    </tr>\n",
       "    <tr>\n",
       "      <th>SGPR/likelihood/variance</th>\n",
       "      <td>Parameter</td>\n",
       "      <td>None</td>\n",
       "      <td>+ve</td>\n",
       "      <td>True</td>\n",
       "      <td>()</td>\n",
       "      <td>True</td>\n",
       "      <td>0.6824319445027769</td>\n",
       "    </tr>\n",
       "  </tbody>\n",
       "</table>\n",
       "</div>"
      ],
      "text/plain": [
       "                              class prior transform  trainable   shape  \\\n",
       "SGPR/kern/variance        Parameter  None       +ve       True      ()   \n",
       "SGPR/kern/lengthscales    Parameter  None       +ve       True      ()   \n",
       "SGPR/feature/Z            Parameter  None    (none)       True  (1, 1)   \n",
       "SGPR/likelihood/variance  Parameter  None       +ve       True      ()   \n",
       "\n",
       "                          fixed_shape                value  \n",
       "SGPR/kern/variance               True  0.10775256810399733  \n",
       "SGPR/kern/lengthscales           True   1014.3847523740365  \n",
       "SGPR/feature/Z                   True     [[2.6574094508]]  \n",
       "SGPR/likelihood/variance         True   0.6824319445027769  "
      ]
     },
     "execution_count": 10,
     "metadata": {},
     "output_type": "execute_result"
    }
   ],
   "source": [
    "vfe.as_pandas_table()"
   ]
  },
  {
   "cell_type": "markdown",
   "metadata": {},
   "source": [
    "This can be diagnosed by showing that there are other hyperparameter settings with higher upper bounds. This indicates that there may be better hyperparameter settings, but we cannot identify them due to the lack of inducing points. An example of this can be seen in the previous section."
   ]
  }
 ],
 "metadata": {
  "kernelspec": {
   "display_name": "Python 3",
   "language": "python",
   "name": "python3"
  },
  "language_info": {
   "codemirror_mode": {
    "name": "ipython",
    "version": 3
   },
   "file_extension": ".py",
   "mimetype": "text/x-python",
   "name": "python",
   "nbconvert_exporter": "python",
   "pygments_lexer": "ipython3",
   "version": "3.5.2"
  }
 },
 "nbformat": 4,
 "nbformat_minor": 1
}
